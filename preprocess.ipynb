{
 "cells": [
  {
   "attachments": {},
   "cell_type": "markdown",
   "metadata": {},
   "source": [
    "# Preprocess"
   ]
  },
  {
   "cell_type": "code",
   "execution_count": 1,
   "metadata": {},
   "outputs": [],
   "source": [
    "import numpy as np\n",
    "import pandas as pd\n",
    "import warnings\n",
    "warnings.filterwarnings('ignore')"
   ]
  },
  {
   "cell_type": "code",
   "execution_count": 5,
   "metadata": {},
   "outputs": [],
   "source": [
    "crop=pd.read_csv('./TRD_Mnth.csv')\n",
    "# returns=pd.read_csv('./month_return.csv')"
   ]
  },
  {
   "cell_type": "code",
   "execution_count": 6,
   "metadata": {},
   "outputs": [
    {
     "data": {
      "text/html": [
       "<div>\n",
       "<style scoped>\n",
       "    .dataframe tbody tr th:only-of-type {\n",
       "        vertical-align: middle;\n",
       "    }\n",
       "\n",
       "    .dataframe tbody tr th {\n",
       "        vertical-align: top;\n",
       "    }\n",
       "\n",
       "    .dataframe thead th {\n",
       "        text-align: right;\n",
       "    }\n",
       "</style>\n",
       "<table border=\"1\" class=\"dataframe\">\n",
       "  <thead>\n",
       "    <tr style=\"text-align: right;\">\n",
       "      <th></th>\n",
       "      <th>Stkcd</th>\n",
       "      <th>Trdmnt</th>\n",
       "      <th>Opndt</th>\n",
       "      <th>Mopnprc</th>\n",
       "      <th>Mclsprc</th>\n",
       "      <th>Mnshrtrd</th>\n",
       "      <th>Mnvaltrd</th>\n",
       "      <th>Msmvosd</th>\n",
       "      <th>Mretwd</th>\n",
       "      <th>Ahshrtrd_M</th>\n",
       "    </tr>\n",
       "  </thead>\n",
       "  <tbody>\n",
       "    <tr>\n",
       "      <th>0</th>\n",
       "      <td>2</td>\n",
       "      <td>1991-01</td>\n",
       "      <td>29</td>\n",
       "      <td>14.58</td>\n",
       "      <td>14.51</td>\n",
       "      <td>10000</td>\n",
       "      <td>145000.0</td>\n",
       "      <td>406280.0</td>\n",
       "      <td>NaN</td>\n",
       "      <td>NaN</td>\n",
       "    </tr>\n",
       "    <tr>\n",
       "      <th>1</th>\n",
       "      <td>2</td>\n",
       "      <td>1991-02</td>\n",
       "      <td>4</td>\n",
       "      <td>14.66</td>\n",
       "      <td>15.09</td>\n",
       "      <td>878500</td>\n",
       "      <td>11065000.0</td>\n",
       "      <td>422520.0</td>\n",
       "      <td>0.039972</td>\n",
       "      <td>NaN</td>\n",
       "    </tr>\n",
       "    <tr>\n",
       "      <th>2</th>\n",
       "      <td>2</td>\n",
       "      <td>1991-03</td>\n",
       "      <td>1</td>\n",
       "      <td>15.01</td>\n",
       "      <td>13.18</td>\n",
       "      <td>174500</td>\n",
       "      <td>2996000.0</td>\n",
       "      <td>369040.0</td>\n",
       "      <td>-0.126574</td>\n",
       "      <td>NaN</td>\n",
       "    </tr>\n",
       "    <tr>\n",
       "      <th>3</th>\n",
       "      <td>2</td>\n",
       "      <td>1991-04</td>\n",
       "      <td>2</td>\n",
       "      <td>13.11</td>\n",
       "      <td>11.65</td>\n",
       "      <td>44500</td>\n",
       "      <td>560000.0</td>\n",
       "      <td>326200.0</td>\n",
       "      <td>-0.116085</td>\n",
       "      <td>NaN</td>\n",
       "    </tr>\n",
       "    <tr>\n",
       "      <th>4</th>\n",
       "      <td>2</td>\n",
       "      <td>1991-05</td>\n",
       "      <td>2</td>\n",
       "      <td>11.59</td>\n",
       "      <td>11.29</td>\n",
       "      <td>1550500</td>\n",
       "      <td>17972000.0</td>\n",
       "      <td>316120.0</td>\n",
       "      <td>-0.030901</td>\n",
       "      <td>NaN</td>\n",
       "    </tr>\n",
       "  </tbody>\n",
       "</table>\n",
       "</div>"
      ],
      "text/plain": [
       "   Stkcd   Trdmnt  Opndt  Mopnprc  Mclsprc  Mnshrtrd    Mnvaltrd   Msmvosd  \\\n",
       "0      2  1991-01     29    14.58    14.51     10000    145000.0  406280.0   \n",
       "1      2  1991-02      4    14.66    15.09    878500  11065000.0  422520.0   \n",
       "2      2  1991-03      1    15.01    13.18    174500   2996000.0  369040.0   \n",
       "3      2  1991-04      2    13.11    11.65     44500    560000.0  326200.0   \n",
       "4      2  1991-05      2    11.59    11.29   1550500  17972000.0  316120.0   \n",
       "\n",
       "     Mretwd  Ahshrtrd_M  \n",
       "0       NaN         NaN  \n",
       "1  0.039972         NaN  \n",
       "2 -0.126574         NaN  \n",
       "3 -0.116085         NaN  \n",
       "4 -0.030901         NaN  "
      ]
     },
     "execution_count": 6,
     "metadata": {},
     "output_type": "execute_result"
    }
   ],
   "source": [
    "crop.head(5)"
   ]
  },
  {
   "cell_type": "code",
   "execution_count": 8,
   "metadata": {},
   "outputs": [],
   "source": [
    "crop.rename(columns={'Stkcd':'permno', 'Mretwd':'ret-rf', 'Trdmnt':'date'}, inplace=True)"
   ]
  },
  {
   "cell_type": "code",
   "execution_count": 3,
   "metadata": {},
   "outputs": [
    {
     "data": {
      "text/html": [
       "<div>\n",
       "<style scoped>\n",
       "    .dataframe tbody tr th:only-of-type {\n",
       "        vertical-align: middle;\n",
       "    }\n",
       "\n",
       "    .dataframe tbody tr th {\n",
       "        vertical-align: top;\n",
       "    }\n",
       "\n",
       "    .dataframe thead th {\n",
       "        text-align: right;\n",
       "    }\n",
       "</style>\n",
       "<table border=\"1\" class=\"dataframe\">\n",
       "  <thead>\n",
       "    <tr style=\"text-align: right;\">\n",
       "      <th></th>\n",
       "      <th>permno</th>\n",
       "      <th>date</th>\n",
       "      <th>month</th>\n",
       "      <th>ret-rf</th>\n",
       "    </tr>\n",
       "  </thead>\n",
       "  <tbody>\n",
       "    <tr>\n",
       "      <th>count</th>\n",
       "      <td>3.780459e+06</td>\n",
       "      <td>3.780459e+06</td>\n",
       "      <td>3.780459e+06</td>\n",
       "      <td>3.780459e+06</td>\n",
       "    </tr>\n",
       "    <tr>\n",
       "      <th>mean</th>\n",
       "      <td>5.637379e+04</td>\n",
       "      <td>1.992462e+07</td>\n",
       "      <td>1.992459e+05</td>\n",
       "      <td>7.089760e-01</td>\n",
       "    </tr>\n",
       "    <tr>\n",
       "      <th>std</th>\n",
       "      <td>2.729946e+04</td>\n",
       "      <td>1.418232e+05</td>\n",
       "      <td>1.418232e+03</td>\n",
       "      <td>1.725839e+01</td>\n",
       "    </tr>\n",
       "    <tr>\n",
       "      <th>min</th>\n",
       "      <td>1.000000e+04</td>\n",
       "      <td>1.957033e+07</td>\n",
       "      <td>1.957030e+05</td>\n",
       "      <td>-9.912950e+01</td>\n",
       "    </tr>\n",
       "    <tr>\n",
       "      <th>25%</th>\n",
       "      <td>3.052500e+04</td>\n",
       "      <td>1.982103e+07</td>\n",
       "      <td>1.982100e+05</td>\n",
       "      <td>-6.540000e+00</td>\n",
       "    </tr>\n",
       "    <tr>\n",
       "      <th>50%</th>\n",
       "      <td>6.173500e+04</td>\n",
       "      <td>1.994073e+07</td>\n",
       "      <td>1.994070e+05</td>\n",
       "      <td>-3.400000e-01</td>\n",
       "    </tr>\n",
       "    <tr>\n",
       "      <th>75%</th>\n",
       "      <td>8.061500e+04</td>\n",
       "      <td>2.003123e+07</td>\n",
       "      <td>2.003120e+05</td>\n",
       "      <td>6.256700e+00</td>\n",
       "    </tr>\n",
       "    <tr>\n",
       "      <th>max</th>\n",
       "      <td>9.343600e+04</td>\n",
       "      <td>2.016123e+07</td>\n",
       "      <td>2.016120e+05</td>\n",
       "      <td>2.399660e+03</td>\n",
       "    </tr>\n",
       "  </tbody>\n",
       "</table>\n",
       "</div>"
      ],
      "text/plain": [
       "             permno          date         month        ret-rf\n",
       "count  3.780459e+06  3.780459e+06  3.780459e+06  3.780459e+06\n",
       "mean   5.637379e+04  1.992462e+07  1.992459e+05  7.089760e-01\n",
       "std    2.729946e+04  1.418232e+05  1.418232e+03  1.725839e+01\n",
       "min    1.000000e+04  1.957033e+07  1.957030e+05 -9.912950e+01\n",
       "25%    3.052500e+04  1.982103e+07  1.982100e+05 -6.540000e+00\n",
       "50%    6.173500e+04  1.994073e+07  1.994070e+05 -3.400000e-01\n",
       "75%    8.061500e+04  2.003123e+07  2.003120e+05  6.256700e+00\n",
       "max    9.343600e+04  2.016123e+07  2.016120e+05  2.399660e+03"
      ]
     },
     "execution_count": 3,
     "metadata": {},
     "output_type": "execute_result"
    }
   ],
   "source": [
    "# returns.describe()"
   ]
  },
  {
   "cell_type": "code",
   "execution_count": 9,
   "metadata": {},
   "outputs": [
    {
     "data": {
      "text/html": [
       "<div>\n",
       "<style scoped>\n",
       "    .dataframe tbody tr th:only-of-type {\n",
       "        vertical-align: middle;\n",
       "    }\n",
       "\n",
       "    .dataframe tbody tr th {\n",
       "        vertical-align: top;\n",
       "    }\n",
       "\n",
       "    .dataframe thead th {\n",
       "        text-align: right;\n",
       "    }\n",
       "</style>\n",
       "<table border=\"1\" class=\"dataframe\">\n",
       "  <thead>\n",
       "    <tr style=\"text-align: right;\">\n",
       "      <th></th>\n",
       "      <th>permno</th>\n",
       "      <th>date</th>\n",
       "      <th>Opndt</th>\n",
       "      <th>Mopnprc</th>\n",
       "      <th>Mclsprc</th>\n",
       "      <th>Mnshrtrd</th>\n",
       "      <th>Mnvaltrd</th>\n",
       "      <th>Msmvosd</th>\n",
       "      <th>ret-rf</th>\n",
       "      <th>Ahshrtrd_M</th>\n",
       "    </tr>\n",
       "  </thead>\n",
       "  <tbody>\n",
       "    <tr>\n",
       "      <th>0</th>\n",
       "      <td>2</td>\n",
       "      <td>1991-01</td>\n",
       "      <td>29</td>\n",
       "      <td>14.58</td>\n",
       "      <td>14.51</td>\n",
       "      <td>10000</td>\n",
       "      <td>145000.0</td>\n",
       "      <td>406280.0</td>\n",
       "      <td>NaN</td>\n",
       "      <td>NaN</td>\n",
       "    </tr>\n",
       "    <tr>\n",
       "      <th>1</th>\n",
       "      <td>2</td>\n",
       "      <td>1991-02</td>\n",
       "      <td>4</td>\n",
       "      <td>14.66</td>\n",
       "      <td>15.09</td>\n",
       "      <td>878500</td>\n",
       "      <td>11065000.0</td>\n",
       "      <td>422520.0</td>\n",
       "      <td>0.039972</td>\n",
       "      <td>NaN</td>\n",
       "    </tr>\n",
       "    <tr>\n",
       "      <th>2</th>\n",
       "      <td>2</td>\n",
       "      <td>1991-03</td>\n",
       "      <td>1</td>\n",
       "      <td>15.01</td>\n",
       "      <td>13.18</td>\n",
       "      <td>174500</td>\n",
       "      <td>2996000.0</td>\n",
       "      <td>369040.0</td>\n",
       "      <td>-0.126574</td>\n",
       "      <td>NaN</td>\n",
       "    </tr>\n",
       "    <tr>\n",
       "      <th>3</th>\n",
       "      <td>2</td>\n",
       "      <td>1991-04</td>\n",
       "      <td>2</td>\n",
       "      <td>13.11</td>\n",
       "      <td>11.65</td>\n",
       "      <td>44500</td>\n",
       "      <td>560000.0</td>\n",
       "      <td>326200.0</td>\n",
       "      <td>-0.116085</td>\n",
       "      <td>NaN</td>\n",
       "    </tr>\n",
       "    <tr>\n",
       "      <th>4</th>\n",
       "      <td>2</td>\n",
       "      <td>1991-05</td>\n",
       "      <td>2</td>\n",
       "      <td>11.59</td>\n",
       "      <td>11.29</td>\n",
       "      <td>1550500</td>\n",
       "      <td>17972000.0</td>\n",
       "      <td>316120.0</td>\n",
       "      <td>-0.030901</td>\n",
       "      <td>NaN</td>\n",
       "    </tr>\n",
       "  </tbody>\n",
       "</table>\n",
       "</div>"
      ],
      "text/plain": [
       "   permno     date  Opndt  Mopnprc  Mclsprc  Mnshrtrd    Mnvaltrd   Msmvosd  \\\n",
       "0       2  1991-01     29    14.58    14.51     10000    145000.0  406280.0   \n",
       "1       2  1991-02      4    14.66    15.09    878500  11065000.0  422520.0   \n",
       "2       2  1991-03      1    15.01    13.18    174500   2996000.0  369040.0   \n",
       "3       2  1991-04      2    13.11    11.65     44500    560000.0  326200.0   \n",
       "4       2  1991-05      2    11.59    11.29   1550500  17972000.0  316120.0   \n",
       "\n",
       "     ret-rf  Ahshrtrd_M  \n",
       "0       NaN         NaN  \n",
       "1  0.039972         NaN  \n",
       "2 -0.126574         NaN  \n",
       "3 -0.116085         NaN  \n",
       "4 -0.030901         NaN  "
      ]
     },
     "execution_count": 9,
     "metadata": {},
     "output_type": "execute_result"
    }
   ],
   "source": [
    "crop.head(5)"
   ]
  },
  {
   "cell_type": "code",
   "execution_count": 5,
   "metadata": {},
   "outputs": [
    {
     "data": {
      "text/html": [
       "<div>\n",
       "<style scoped>\n",
       "    .dataframe tbody tr th:only-of-type {\n",
       "        vertical-align: middle;\n",
       "    }\n",
       "\n",
       "    .dataframe tbody tr th {\n",
       "        vertical-align: top;\n",
       "    }\n",
       "\n",
       "    .dataframe thead th {\n",
       "        text-align: right;\n",
       "    }\n",
       "</style>\n",
       "<table border=\"1\" class=\"dataframe\">\n",
       "  <thead>\n",
       "    <tr style=\"text-align: right;\">\n",
       "      <th></th>\n",
       "      <th>permno</th>\n",
       "      <th>date</th>\n",
       "      <th>month</th>\n",
       "      <th>ret-rf</th>\n",
       "    </tr>\n",
       "  </thead>\n",
       "  <tbody>\n",
       "    <tr>\n",
       "      <th>308435</th>\n",
       "      <td>10006</td>\n",
       "      <td>19710831</td>\n",
       "      <td>197108</td>\n",
       "      <td>15.939</td>\n",
       "    </tr>\n",
       "    <tr>\n",
       "      <th>308436</th>\n",
       "      <td>10006</td>\n",
       "      <td>19710831</td>\n",
       "      <td>197108</td>\n",
       "      <td>15.939</td>\n",
       "    </tr>\n",
       "  </tbody>\n",
       "</table>\n",
       "</div>"
      ],
      "text/plain": [
       "        permno      date   month  ret-rf\n",
       "308435   10006  19710831  197108  15.939\n",
       "308436   10006  19710831  197108  15.939"
      ]
     },
     "execution_count": 5,
     "metadata": {},
     "output_type": "execute_result"
    }
   ],
   "source": [
    "# returns[(returns['date']==19710831) & (returns['permno']==10006)]"
   ]
  },
  {
   "cell_type": "code",
   "execution_count": 5,
   "metadata": {},
   "outputs": [],
   "source": [
    "# returns.drop_duplicates(subset=['date','permno'],keep='first',inplace=True)"
   ]
  },
  {
   "cell_type": "code",
   "execution_count": 6,
   "metadata": {},
   "outputs": [
    {
     "name": "stdout",
     "output_type": "stream",
     "text": [
      "Index(['permno', 'DATE', 'mvel1', 'beta', 'betasq', 'chmom', 'dolvol',\n",
      "       'idiovol', 'indmom', 'mom1m', 'mom6m', 'mom12m', 'mom36m', 'pricedelay',\n",
      "       'turn', 'absacc', 'acc', 'age', 'agr', 'bm', 'bm_ia', 'cashdebt',\n",
      "       'cashpr', 'cfp', 'cfp_ia', 'chatoia', 'chcsho', 'chempia', 'chinv',\n",
      "       'chpmia', 'convind', 'currat', 'depr', 'divi', 'divo', 'dy', 'egr',\n",
      "       'ep', 'gma', 'grcapx', 'grltnoa', 'herf', 'hire', 'invest', 'lev',\n",
      "       'lgr', 'mve_ia', 'operprof', 'orgcap', 'pchcapx_ia', 'pchcurrat',\n",
      "       'pchdepr', 'pchgm_pchsale', 'pchquick', 'pchsale_pchinvt',\n",
      "       'pchsale_pchrect', 'pchsale_pchxsga', 'pchsaleinv', 'pctacc', 'ps',\n",
      "       'quick', 'rd', 'rd_mve', 'rd_sale', 'realestate', 'roic', 'salecash',\n",
      "       'saleinv', 'salerec', 'secured', 'securedind', 'sgr', 'sin', 'sp',\n",
      "       'tang', 'tb', 'aeavol', 'cash', 'chtx', 'cinvest', 'ear', 'nincr',\n",
      "       'roaq', 'roavol', 'roeq', 'rsup', 'stdacc', 'stdcf', 'ms', 'baspread',\n",
      "       'ill', 'maxret', 'retvol', 'std_dolvol', 'std_turn', 'zerotrade',\n",
      "       'sic2', 'date', 'month', 'ret-rf'],\n",
      "      dtype='object')\n"
     ]
    }
   ],
   "source": [
    "# df=pd.merge(crop,returns,left_on=['permno','DATE'],right_on=['permno','date'],how='right')\n",
    "# print(df.columns)"
   ]
  },
  {
   "cell_type": "code",
   "execution_count": 7,
   "metadata": {},
   "outputs": [],
   "source": [
    "# monthly=['baspread', 'beta', 'betasq','chmom',  'dolvol','idiovol', 'ill', 'indmom','maxret', 'mom12m', 'mom1m', 'mom36m', 'mom6m','mvel1',  'pricedelay', 'retvol','std_dolvol', 'std_turn',  'turn', 'zerotrade']\n",
    "# quarterly=['aeavol','cash', 'chtx','cinvest', 'ear','ms', 'nincr', 'roaq', 'roavol', 'roeq', 'rsup', 'stdacc', 'stdcf']\n",
    "# annually=['absacc', 'acc',  'age', 'agr',  'bm', 'bm_ia', 'cashdebt', 'cashpr', 'cfp', 'cfp_ia', 'chatoia', 'chcsho', 'chempia', 'chinv', 'chpmia',   'convind', 'currat', 'depr', 'divi', 'divo', 'dy', 'egr', 'ep', 'gma', 'grcapx', 'grltnoa', 'herf', 'hire',  'invest', 'lev', 'lgr',  'mve_ia', 'operprof', 'orgcap', 'pchcapx_ia', 'pchcurrat', 'pchdepr', 'pchgm_pchsale', 'pchquick', 'pchsale_pchinvt', 'pchsale_pchrect', 'pchsale_pchxsga', 'pchsaleinv', 'pctacc',  'ps', 'quick', 'rd', 'rd_mve', 'rd_sale', 'realestate', 'roic', 'salecash', 'saleinv', 'salerec', 'secured', 'securedind', 'sgr', 'sic2', 'sin', 'sp', 'tang', 'tb']"
   ]
  },
  {
   "cell_type": "code",
   "execution_count": 60,
   "metadata": {},
   "outputs": [
    {
     "name": "stdout",
     "output_type": "stream",
     "text": [
      "3760208 3739482 3739482\n"
     ]
    }
   ],
   "source": [
    "# print(len(crop),len(df),len(returns))"
   ]
  },
  {
   "attachments": {},
   "cell_type": "markdown",
   "metadata": {},
   "source": [
    "# Process"
   ]
  },
  {
   "cell_type": "code",
   "execution_count": 10,
   "metadata": {},
   "outputs": [],
   "source": [
    "import numpy as np\n",
    "import pandas as pd\n",
    "# df_ori=pd.read_csv('./small_data.csv')\n",
    "df_ori=crop"
   ]
  },
  {
   "cell_type": "code",
   "execution_count": 11,
   "metadata": {},
   "outputs": [
    {
     "name": "stdout",
     "output_type": "stream",
     "text": [
      "Index(['permno', 'date', 'Opndt', 'Mopnprc', 'Mclsprc', 'Mnshrtrd', 'Mnvaltrd',\n",
      "       'Msmvosd', 'ret-rf', 'Ahshrtrd_M'],\n",
      "      dtype='object')\n"
     ]
    }
   ],
   "source": [
    "print(df_ori.columns)"
   ]
  },
  {
   "cell_type": "code",
   "execution_count": 12,
   "metadata": {},
   "outputs": [],
   "source": [
    "# monthly=['baspread', 'beta',]\n",
    "# quarterly=['aeavol','cash',]\n",
    "# annually=['absacc', 'acc',]\n",
    "# quarterly=['aeavol','cash', 'chtx','cinvest', 'ear','ms', 'nincr', 'roaq', 'roavol', 'roeq', 'rsup', 'stdacc', 'stdcf']\n",
    "# monthly=['baspread', 'beta', 'betasq','chmom',  'dolvol','idiovol', 'ill', 'indmom','maxret', 'mom12m', 'mom1m', 'mom36m', 'mom6m','mvel1',  'pricedelay', 'retvol','std_dolvol', 'std_turn',  'turn', 'zerotrade']\n",
    "# annually=['absacc', 'acc',  'age', 'agr',  'bm', 'bm_ia', 'cashdebt', 'cashpr', 'cfp', 'cfp_ia', 'chatoia', 'chcsho', 'chempia', 'chinv', 'chpmia',   'convind', 'currat', 'depr', 'divi', 'divo', 'dy', 'egr', 'ep', 'gma', 'grcapx', 'grltnoa', 'herf', 'hire',  'invest', 'lev', 'lgr',  'mve_ia', 'operprof', 'orgcap', 'pchcapx_ia', 'pchcurrat', 'pchdepr', 'pchgm_pchsale', 'pchquick', 'pchsale_pchinvt', 'pchsale_pchrect', 'pchsale_pchxsga', 'pchsaleinv', 'pctacc',  'ps', 'quick', 'rd', 'rd_mve', 'rd_sale', 'realestate', 'roic', 'salecash', 'saleinv', 'salerec', 'secured', 'securedind', 'sgr', 'sic2', 'sin', 'sp', 'tang', 'tb']\n"
   ]
  },
  {
   "cell_type": "code",
   "execution_count": 13,
   "metadata": {},
   "outputs": [],
   "source": [
    "# characteristics=monthly+quarterly+annually"
   ]
  },
  {
   "cell_type": "code",
   "execution_count": 12,
   "metadata": {},
   "outputs": [
    {
     "data": {
      "text/html": [
       "<div>\n",
       "<style scoped>\n",
       "    .dataframe tbody tr th:only-of-type {\n",
       "        vertical-align: middle;\n",
       "    }\n",
       "\n",
       "    .dataframe tbody tr th {\n",
       "        vertical-align: top;\n",
       "    }\n",
       "\n",
       "    .dataframe thead th {\n",
       "        text-align: right;\n",
       "    }\n",
       "</style>\n",
       "<table border=\"1\" class=\"dataframe\">\n",
       "  <thead>\n",
       "    <tr style=\"text-align: right;\">\n",
       "      <th></th>\n",
       "      <th>permno</th>\n",
       "      <th>date</th>\n",
       "      <th>ret-rf</th>\n",
       "    </tr>\n",
       "  </thead>\n",
       "  <tbody>\n",
       "    <tr>\n",
       "      <th>0</th>\n",
       "      <td>2</td>\n",
       "      <td>1991-01</td>\n",
       "      <td>NaN</td>\n",
       "    </tr>\n",
       "    <tr>\n",
       "      <th>1</th>\n",
       "      <td>2</td>\n",
       "      <td>1991-02</td>\n",
       "      <td>0.039972</td>\n",
       "    </tr>\n",
       "    <tr>\n",
       "      <th>2</th>\n",
       "      <td>2</td>\n",
       "      <td>1991-03</td>\n",
       "      <td>-0.126574</td>\n",
       "    </tr>\n",
       "    <tr>\n",
       "      <th>3</th>\n",
       "      <td>2</td>\n",
       "      <td>1991-04</td>\n",
       "      <td>-0.116085</td>\n",
       "    </tr>\n",
       "    <tr>\n",
       "      <th>4</th>\n",
       "      <td>2</td>\n",
       "      <td>1991-05</td>\n",
       "      <td>-0.030901</td>\n",
       "    </tr>\n",
       "  </tbody>\n",
       "</table>\n",
       "</div>"
      ],
      "text/plain": [
       "   permno     date    ret-rf\n",
       "0       2  1991-01       NaN\n",
       "1       2  1991-02  0.039972\n",
       "2       2  1991-03 -0.126574\n",
       "3       2  1991-04 -0.116085\n",
       "4       2  1991-05 -0.030901"
      ]
     },
     "execution_count": 12,
     "metadata": {},
     "output_type": "execute_result"
    }
   ],
   "source": [
    "# df_new=df_ori[['permno','date','ret-rf']].copy()\n",
    "# df_new.head()"
   ]
  },
  {
   "cell_type": "code",
   "execution_count": 13,
   "metadata": {},
   "outputs": [
    {
     "name": "stdout",
     "output_type": "stream",
     "text": [
      "<class 'pandas.core.frame.DataFrame'>\n",
      "RangeIndex: 672538 entries, 0 to 672537\n",
      "Data columns (total 3 columns):\n",
      " #   Column  Non-Null Count   Dtype  \n",
      "---  ------  --------------   -----  \n",
      " 0   permno  672538 non-null  int64  \n",
      " 1   date    672538 non-null  object \n",
      " 2   ret-rf  667384 non-null  float64\n",
      "dtypes: float64(1), int64(1), object(1)\n",
      "memory usage: 15.4+ MB\n"
     ]
    }
   ],
   "source": [
    "# df_new.info(null_counts=True)"
   ]
  },
  {
   "cell_type": "code",
   "execution_count": 20,
   "metadata": {},
   "outputs": [],
   "source": [
    "df_ori['date'] = df_ori['date'].str.replace('-', '')"
   ]
  },
  {
   "cell_type": "code",
   "execution_count": 21,
   "metadata": {},
   "outputs": [
    {
     "data": {
      "text/html": [
       "<div>\n",
       "<style scoped>\n",
       "    .dataframe tbody tr th:only-of-type {\n",
       "        vertical-align: middle;\n",
       "    }\n",
       "\n",
       "    .dataframe tbody tr th {\n",
       "        vertical-align: top;\n",
       "    }\n",
       "\n",
       "    .dataframe thead th {\n",
       "        text-align: right;\n",
       "    }\n",
       "</style>\n",
       "<table border=\"1\" class=\"dataframe\">\n",
       "  <thead>\n",
       "    <tr style=\"text-align: right;\">\n",
       "      <th></th>\n",
       "      <th>permno</th>\n",
       "      <th>date</th>\n",
       "      <th>Opndt</th>\n",
       "      <th>Mopnprc</th>\n",
       "      <th>Mclsprc</th>\n",
       "      <th>Mnshrtrd</th>\n",
       "      <th>Mnvaltrd</th>\n",
       "      <th>Msmvosd</th>\n",
       "      <th>ret-rf</th>\n",
       "      <th>Ahshrtrd_M</th>\n",
       "    </tr>\n",
       "  </thead>\n",
       "  <tbody>\n",
       "    <tr>\n",
       "      <th>0</th>\n",
       "      <td>2</td>\n",
       "      <td>199101</td>\n",
       "      <td>29</td>\n",
       "      <td>14.580</td>\n",
       "      <td>14.510</td>\n",
       "      <td>10000</td>\n",
       "      <td>145000.0</td>\n",
       "      <td>406280.0</td>\n",
       "      <td>NaN</td>\n",
       "      <td>NaN</td>\n",
       "    </tr>\n",
       "    <tr>\n",
       "      <th>1</th>\n",
       "      <td>2</td>\n",
       "      <td>199102</td>\n",
       "      <td>4</td>\n",
       "      <td>14.660</td>\n",
       "      <td>15.090</td>\n",
       "      <td>878500</td>\n",
       "      <td>11065000.0</td>\n",
       "      <td>422520.0</td>\n",
       "      <td>0.039972</td>\n",
       "      <td>NaN</td>\n",
       "    </tr>\n",
       "    <tr>\n",
       "      <th>2</th>\n",
       "      <td>2</td>\n",
       "      <td>199103</td>\n",
       "      <td>1</td>\n",
       "      <td>15.010</td>\n",
       "      <td>13.180</td>\n",
       "      <td>174500</td>\n",
       "      <td>2996000.0</td>\n",
       "      <td>369040.0</td>\n",
       "      <td>-0.126574</td>\n",
       "      <td>NaN</td>\n",
       "    </tr>\n",
       "    <tr>\n",
       "      <th>3</th>\n",
       "      <td>2</td>\n",
       "      <td>199104</td>\n",
       "      <td>2</td>\n",
       "      <td>13.110</td>\n",
       "      <td>11.650</td>\n",
       "      <td>44500</td>\n",
       "      <td>560000.0</td>\n",
       "      <td>326200.0</td>\n",
       "      <td>-0.116085</td>\n",
       "      <td>NaN</td>\n",
       "    </tr>\n",
       "    <tr>\n",
       "      <th>4</th>\n",
       "      <td>2</td>\n",
       "      <td>199105</td>\n",
       "      <td>2</td>\n",
       "      <td>11.590</td>\n",
       "      <td>11.290</td>\n",
       "      <td>1550500</td>\n",
       "      <td>17972000.0</td>\n",
       "      <td>316120.0</td>\n",
       "      <td>-0.030901</td>\n",
       "      <td>NaN</td>\n",
       "    </tr>\n",
       "    <tr>\n",
       "      <th>...</th>\n",
       "      <td>...</td>\n",
       "      <td>...</td>\n",
       "      <td>...</td>\n",
       "      <td>...</td>\n",
       "      <td>...</td>\n",
       "      <td>...</td>\n",
       "      <td>...</td>\n",
       "      <td>...</td>\n",
       "      <td>...</td>\n",
       "      <td>...</td>\n",
       "    </tr>\n",
       "    <tr>\n",
       "      <th>672533</th>\n",
       "      <td>900957</td>\n",
       "      <td>202301</td>\n",
       "      <td>3</td>\n",
       "      <td>0.568</td>\n",
       "      <td>0.585</td>\n",
       "      <td>3767181</td>\n",
       "      <td>2198566.0</td>\n",
       "      <td>107640.0</td>\n",
       "      <td>0.037231</td>\n",
       "      <td>0.0</td>\n",
       "    </tr>\n",
       "    <tr>\n",
       "      <th>672534</th>\n",
       "      <td>900957</td>\n",
       "      <td>202302</td>\n",
       "      <td>1</td>\n",
       "      <td>0.585</td>\n",
       "      <td>0.573</td>\n",
       "      <td>2730895</td>\n",
       "      <td>1583914.0</td>\n",
       "      <td>105432.0</td>\n",
       "      <td>-0.020520</td>\n",
       "      <td>0.0</td>\n",
       "    </tr>\n",
       "    <tr>\n",
       "      <th>672535</th>\n",
       "      <td>900957</td>\n",
       "      <td>202303</td>\n",
       "      <td>1</td>\n",
       "      <td>0.573</td>\n",
       "      <td>0.527</td>\n",
       "      <td>3055292</td>\n",
       "      <td>1681507.0</td>\n",
       "      <td>96968.0</td>\n",
       "      <td>-0.080282</td>\n",
       "      <td>0.0</td>\n",
       "    </tr>\n",
       "    <tr>\n",
       "      <th>672536</th>\n",
       "      <td>900957</td>\n",
       "      <td>202304</td>\n",
       "      <td>3</td>\n",
       "      <td>0.526</td>\n",
       "      <td>0.525</td>\n",
       "      <td>2270414</td>\n",
       "      <td>1179896.0</td>\n",
       "      <td>96600.0</td>\n",
       "      <td>-0.003795</td>\n",
       "      <td>0.0</td>\n",
       "    </tr>\n",
       "    <tr>\n",
       "      <th>672537</th>\n",
       "      <td>900957</td>\n",
       "      <td>202305</td>\n",
       "      <td>4</td>\n",
       "      <td>0.520</td>\n",
       "      <td>0.509</td>\n",
       "      <td>2992963</td>\n",
       "      <td>1537800.0</td>\n",
       "      <td>93656.0</td>\n",
       "      <td>-0.030478</td>\n",
       "      <td>0.0</td>\n",
       "    </tr>\n",
       "  </tbody>\n",
       "</table>\n",
       "<p>672538 rows × 10 columns</p>\n",
       "</div>"
      ],
      "text/plain": [
       "        permno    date  Opndt  Mopnprc  Mclsprc  Mnshrtrd    Mnvaltrd  \\\n",
       "0            2  199101     29   14.580   14.510     10000    145000.0   \n",
       "1            2  199102      4   14.660   15.090    878500  11065000.0   \n",
       "2            2  199103      1   15.010   13.180    174500   2996000.0   \n",
       "3            2  199104      2   13.110   11.650     44500    560000.0   \n",
       "4            2  199105      2   11.590   11.290   1550500  17972000.0   \n",
       "...        ...     ...    ...      ...      ...       ...         ...   \n",
       "672533  900957  202301      3    0.568    0.585   3767181   2198566.0   \n",
       "672534  900957  202302      1    0.585    0.573   2730895   1583914.0   \n",
       "672535  900957  202303      1    0.573    0.527   3055292   1681507.0   \n",
       "672536  900957  202304      3    0.526    0.525   2270414   1179896.0   \n",
       "672537  900957  202305      4    0.520    0.509   2992963   1537800.0   \n",
       "\n",
       "         Msmvosd    ret-rf  Ahshrtrd_M  \n",
       "0       406280.0       NaN         NaN  \n",
       "1       422520.0  0.039972         NaN  \n",
       "2       369040.0 -0.126574         NaN  \n",
       "3       326200.0 -0.116085         NaN  \n",
       "4       316120.0 -0.030901         NaN  \n",
       "...          ...       ...         ...  \n",
       "672533  107640.0  0.037231         0.0  \n",
       "672534  105432.0 -0.020520         0.0  \n",
       "672535   96968.0 -0.080282         0.0  \n",
       "672536   96600.0 -0.003795         0.0  \n",
       "672537   93656.0 -0.030478         0.0  \n",
       "\n",
       "[672538 rows x 10 columns]"
      ]
     },
     "execution_count": 21,
     "metadata": {},
     "output_type": "execute_result"
    }
   ],
   "source": [
    "df_ori['date']=df_ori['date'].astype(int)\n",
    "# df_new['date']=pd.to_datetime(df_new['date'].apply(lambda x: f'{int(x//10000)}-{int((x%10000))//100}-{int(x%100)}'))\n",
    "df_ori['permno']=df_ori['permno'].astype(int)\n",
    "df_ori"
   ]
  },
  {
   "cell_type": "code",
   "execution_count": 22,
   "metadata": {},
   "outputs": [
    {
     "data": {
      "text/html": [
       "<div>\n",
       "<style scoped>\n",
       "    .dataframe tbody tr th:only-of-type {\n",
       "        vertical-align: middle;\n",
       "    }\n",
       "\n",
       "    .dataframe tbody tr th {\n",
       "        vertical-align: top;\n",
       "    }\n",
       "\n",
       "    .dataframe thead th {\n",
       "        text-align: right;\n",
       "    }\n",
       "</style>\n",
       "<table border=\"1\" class=\"dataframe\">\n",
       "  <thead>\n",
       "    <tr style=\"text-align: right;\">\n",
       "      <th></th>\n",
       "      <th>permno</th>\n",
       "      <th>Opndt</th>\n",
       "      <th>Mopnprc</th>\n",
       "      <th>Mclsprc</th>\n",
       "      <th>Mnshrtrd</th>\n",
       "      <th>Mnvaltrd</th>\n",
       "      <th>Msmvosd</th>\n",
       "      <th>ret-rf</th>\n",
       "      <th>Ahshrtrd_M</th>\n",
       "    </tr>\n",
       "  </thead>\n",
       "  <tbody>\n",
       "    <tr>\n",
       "      <th>0</th>\n",
       "      <td>600651.5</td>\n",
       "      <td>2.0</td>\n",
       "      <td>317.450</td>\n",
       "      <td>339.50</td>\n",
       "      <td>2146.0</td>\n",
       "      <td>3.545798e+05</td>\n",
       "      <td>135303.105</td>\n",
       "      <td>0.036103</td>\n",
       "      <td>NaN</td>\n",
       "    </tr>\n",
       "    <tr>\n",
       "      <th>1</th>\n",
       "      <td>600651.5</td>\n",
       "      <td>4.5</td>\n",
       "      <td>341.150</td>\n",
       "      <td>279.05</td>\n",
       "      <td>24018.0</td>\n",
       "      <td>2.079274e+06</td>\n",
       "      <td>81150.695</td>\n",
       "      <td>0.026245</td>\n",
       "      <td>NaN</td>\n",
       "    </tr>\n",
       "    <tr>\n",
       "      <th>2</th>\n",
       "      <td>600651.5</td>\n",
       "      <td>1.0</td>\n",
       "      <td>280.450</td>\n",
       "      <td>293.00</td>\n",
       "      <td>13977.0</td>\n",
       "      <td>2.420550e+06</td>\n",
       "      <td>83096.255</td>\n",
       "      <td>-0.057215</td>\n",
       "      <td>NaN</td>\n",
       "    </tr>\n",
       "    <tr>\n",
       "      <th>3</th>\n",
       "      <td>600651.5</td>\n",
       "      <td>1.0</td>\n",
       "      <td>294.450</td>\n",
       "      <td>316.75</td>\n",
       "      <td>24351.0</td>\n",
       "      <td>1.051622e+06</td>\n",
       "      <td>93308.630</td>\n",
       "      <td>0.041596</td>\n",
       "      <td>NaN</td>\n",
       "    </tr>\n",
       "    <tr>\n",
       "      <th>4</th>\n",
       "      <td>600651.5</td>\n",
       "      <td>2.0</td>\n",
       "      <td>319.950</td>\n",
       "      <td>360.50</td>\n",
       "      <td>35577.0</td>\n",
       "      <td>3.917650e+06</td>\n",
       "      <td>107917.500</td>\n",
       "      <td>0.074056</td>\n",
       "      <td>NaN</td>\n",
       "    </tr>\n",
       "    <tr>\n",
       "      <th>...</th>\n",
       "      <td>...</td>\n",
       "      <td>...</td>\n",
       "      <td>...</td>\n",
       "      <td>...</td>\n",
       "      <td>...</td>\n",
       "      <td>...</td>\n",
       "      <td>...</td>\n",
       "      <td>...</td>\n",
       "      <td>...</td>\n",
       "    </tr>\n",
       "    <tr>\n",
       "      <th>672533</th>\n",
       "      <td>301088.0</td>\n",
       "      <td>3.0</td>\n",
       "      <td>12.260</td>\n",
       "      <td>13.24</td>\n",
       "      <td>78060575.0</td>\n",
       "      <td>1.032427e+09</td>\n",
       "      <td>4063272.490</td>\n",
       "      <td>0.077024</td>\n",
       "      <td>0.0</td>\n",
       "    </tr>\n",
       "    <tr>\n",
       "      <th>672534</th>\n",
       "      <td>301096.5</td>\n",
       "      <td>1.0</td>\n",
       "      <td>13.315</td>\n",
       "      <td>13.67</td>\n",
       "      <td>116159438.5</td>\n",
       "      <td>1.725118e+09</td>\n",
       "      <td>4156804.205</td>\n",
       "      <td>0.021514</td>\n",
       "      <td>0.0</td>\n",
       "    </tr>\n",
       "    <tr>\n",
       "      <th>672535</th>\n",
       "      <td>301111.0</td>\n",
       "      <td>1.0</td>\n",
       "      <td>13.750</td>\n",
       "      <td>13.70</td>\n",
       "      <td>124617537.0</td>\n",
       "      <td>1.725987e+09</td>\n",
       "      <td>4096138.030</td>\n",
       "      <td>-0.035764</td>\n",
       "      <td>0.0</td>\n",
       "    </tr>\n",
       "    <tr>\n",
       "      <th>672536</th>\n",
       "      <td>301125.0</td>\n",
       "      <td>3.0</td>\n",
       "      <td>13.800</td>\n",
       "      <td>13.22</td>\n",
       "      <td>110020055.0</td>\n",
       "      <td>1.486503e+09</td>\n",
       "      <td>3949044.090</td>\n",
       "      <td>-0.044878</td>\n",
       "      <td>0.0</td>\n",
       "    </tr>\n",
       "    <tr>\n",
       "      <th>672537</th>\n",
       "      <td>301139.0</td>\n",
       "      <td>4.0</td>\n",
       "      <td>13.250</td>\n",
       "      <td>13.17</td>\n",
       "      <td>99346769.0</td>\n",
       "      <td>1.372373e+09</td>\n",
       "      <td>3958725.750</td>\n",
       "      <td>-0.001661</td>\n",
       "      <td>0.0</td>\n",
       "    </tr>\n",
       "  </tbody>\n",
       "</table>\n",
       "<p>672538 rows × 9 columns</p>\n",
       "</div>"
      ],
      "text/plain": [
       "          permno  Opndt  Mopnprc  Mclsprc     Mnshrtrd      Mnvaltrd  \\\n",
       "0       600651.5    2.0  317.450   339.50       2146.0  3.545798e+05   \n",
       "1       600651.5    4.5  341.150   279.05      24018.0  2.079274e+06   \n",
       "2       600651.5    1.0  280.450   293.00      13977.0  2.420550e+06   \n",
       "3       600651.5    1.0  294.450   316.75      24351.0  1.051622e+06   \n",
       "4       600651.5    2.0  319.950   360.50      35577.0  3.917650e+06   \n",
       "...          ...    ...      ...      ...          ...           ...   \n",
       "672533  301088.0    3.0   12.260    13.24   78060575.0  1.032427e+09   \n",
       "672534  301096.5    1.0   13.315    13.67  116159438.5  1.725118e+09   \n",
       "672535  301111.0    1.0   13.750    13.70  124617537.0  1.725987e+09   \n",
       "672536  301125.0    3.0   13.800    13.22  110020055.0  1.486503e+09   \n",
       "672537  301139.0    4.0   13.250    13.17   99346769.0  1.372373e+09   \n",
       "\n",
       "            Msmvosd    ret-rf  Ahshrtrd_M  \n",
       "0        135303.105  0.036103         NaN  \n",
       "1         81150.695  0.026245         NaN  \n",
       "2         83096.255 -0.057215         NaN  \n",
       "3         93308.630  0.041596         NaN  \n",
       "4        107917.500  0.074056         NaN  \n",
       "...             ...       ...         ...  \n",
       "672533  4063272.490  0.077024         0.0  \n",
       "672534  4156804.205  0.021514         0.0  \n",
       "672535  4096138.030 -0.035764         0.0  \n",
       "672536  3949044.090 -0.044878         0.0  \n",
       "672537  3958725.750 -0.001661         0.0  \n",
       "\n",
       "[672538 rows x 9 columns]"
      ]
     },
     "execution_count": 22,
     "metadata": {},
     "output_type": "execute_result"
    }
   ],
   "source": [
    "medians = df_ori.groupby('date').transform('median')\n",
    "medians\n",
    "# df_new = np.delete(df_new,-5,axis=1)"
   ]
  },
  {
   "cell_type": "code",
   "execution_count": 19,
   "metadata": {},
   "outputs": [
    {
     "ename": "TypeError",
     "evalue": "'DataFrame' object is not callable",
     "output_type": "error",
     "traceback": [
      "\u001b[0;31m---------------------------------------------------------------------------\u001b[0m",
      "\u001b[0;31mTypeError\u001b[0m                                 Traceback (most recent call last)",
      "\u001b[0;32m/tmp/ipykernel_24710/1898883203.py\u001b[0m in \u001b[0;36m<module>\u001b[0;34m\u001b[0m\n\u001b[0;32m----> 1\u001b[0;31m \u001b[0mzero_\u001b[0m\u001b[0;34m=\u001b[0m\u001b[0mnp\u001b[0m\u001b[0;34m.\u001b[0m\u001b[0mwhere\u001b[0m\u001b[0;34m(\u001b[0m\u001b[0mdf_new\u001b[0m\u001b[0;34m(\u001b[0m\u001b[0maxis\u001b[0m\u001b[0;34m=\u001b[0m\u001b[0;36m0\u001b[0m\u001b[0;34m)\u001b[0m\u001b[0;34m)\u001b[0m\u001b[0;34m\u001b[0m\u001b[0;34m\u001b[0m\u001b[0m\n\u001b[0m",
      "\u001b[0;31mTypeError\u001b[0m: 'DataFrame' object is not callable"
     ]
    }
   ],
   "source": [
    "zero_=np.where(df_new(axis=0))"
   ]
  },
  {
   "cell_type": "code",
   "execution_count": 23,
   "metadata": {},
   "outputs": [
    {
     "name": "stdout",
     "output_type": "stream",
     "text": [
      "<class 'pandas.core.frame.DataFrame'>\n",
      "RangeIndex: 672538 entries, 0 to 672537\n",
      "Data columns (total 11 columns):\n",
      " #   Column      Non-Null Count   Dtype  \n",
      "---  ------      --------------   -----  \n",
      " 0   permno      672538 non-null  int64  \n",
      " 1   date        672538 non-null  int64  \n",
      " 2   Opndt       672538 non-null  int64  \n",
      " 3   Mopnprc     672538 non-null  float64\n",
      " 4   Mclsprc     672538 non-null  float64\n",
      " 5   Mnshrtrd    672538 non-null  int64  \n",
      " 6   Mnvaltrd    672538 non-null  float64\n",
      " 7   Msmvosd     672538 non-null  float64\n",
      " 8   ret-rf      672534 non-null  float64\n",
      " 9   Ahshrtrd_M  204356 non-null  float64\n",
      " 10  ret-rf-fwd  667384 non-null  float64\n",
      "dtypes: float64(7), int64(4)\n",
      "memory usage: 56.4 MB\n"
     ]
    }
   ],
   "source": [
    "df_filled = df_ori.fillna(medians)\n",
    "df_filled['ret-rf-fwd']=df_filled.groupby('permno')['ret-rf'].shift(-1)\n",
    "df_filled.info(null_counts=True)"
   ]
  },
  {
   "cell_type": "code",
   "execution_count": 24,
   "metadata": {},
   "outputs": [],
   "source": [
    "df_filled.drop('Ahshrtrd_M', axis=1, inplace=True)"
   ]
  },
  {
   "cell_type": "code",
   "execution_count": 26,
   "metadata": {},
   "outputs": [
    {
     "data": {
      "text/html": [
       "<div>\n",
       "<style scoped>\n",
       "    .dataframe tbody tr th:only-of-type {\n",
       "        vertical-align: middle;\n",
       "    }\n",
       "\n",
       "    .dataframe tbody tr th {\n",
       "        vertical-align: top;\n",
       "    }\n",
       "\n",
       "    .dataframe thead th {\n",
       "        text-align: right;\n",
       "    }\n",
       "</style>\n",
       "<table border=\"1\" class=\"dataframe\">\n",
       "  <thead>\n",
       "    <tr style=\"text-align: right;\">\n",
       "      <th></th>\n",
       "      <th>permno</th>\n",
       "      <th>date</th>\n",
       "      <th>Opndt</th>\n",
       "      <th>Mopnprc</th>\n",
       "      <th>Mclsprc</th>\n",
       "      <th>Mnshrtrd</th>\n",
       "      <th>Mnvaltrd</th>\n",
       "      <th>Msmvosd</th>\n",
       "      <th>ret-rf</th>\n",
       "      <th>ret-rf-fwd</th>\n",
       "    </tr>\n",
       "  </thead>\n",
       "  <tbody>\n",
       "    <tr>\n",
       "      <th>0</th>\n",
       "      <td>2</td>\n",
       "      <td>199101</td>\n",
       "      <td>29</td>\n",
       "      <td>14.580</td>\n",
       "      <td>14.510</td>\n",
       "      <td>10000</td>\n",
       "      <td>145000.0</td>\n",
       "      <td>406280.0</td>\n",
       "      <td>0.036103</td>\n",
       "      <td>0.039972</td>\n",
       "    </tr>\n",
       "    <tr>\n",
       "      <th>1</th>\n",
       "      <td>2</td>\n",
       "      <td>199102</td>\n",
       "      <td>4</td>\n",
       "      <td>14.660</td>\n",
       "      <td>15.090</td>\n",
       "      <td>878500</td>\n",
       "      <td>11065000.0</td>\n",
       "      <td>422520.0</td>\n",
       "      <td>0.039972</td>\n",
       "      <td>-0.126574</td>\n",
       "    </tr>\n",
       "    <tr>\n",
       "      <th>2</th>\n",
       "      <td>2</td>\n",
       "      <td>199103</td>\n",
       "      <td>1</td>\n",
       "      <td>15.010</td>\n",
       "      <td>13.180</td>\n",
       "      <td>174500</td>\n",
       "      <td>2996000.0</td>\n",
       "      <td>369040.0</td>\n",
       "      <td>-0.126574</td>\n",
       "      <td>-0.116085</td>\n",
       "    </tr>\n",
       "    <tr>\n",
       "      <th>3</th>\n",
       "      <td>2</td>\n",
       "      <td>199104</td>\n",
       "      <td>2</td>\n",
       "      <td>13.110</td>\n",
       "      <td>11.650</td>\n",
       "      <td>44500</td>\n",
       "      <td>560000.0</td>\n",
       "      <td>326200.0</td>\n",
       "      <td>-0.116085</td>\n",
       "      <td>-0.030901</td>\n",
       "    </tr>\n",
       "    <tr>\n",
       "      <th>4</th>\n",
       "      <td>2</td>\n",
       "      <td>199105</td>\n",
       "      <td>2</td>\n",
       "      <td>11.590</td>\n",
       "      <td>11.290</td>\n",
       "      <td>1550500</td>\n",
       "      <td>17972000.0</td>\n",
       "      <td>316120.0</td>\n",
       "      <td>-0.030901</td>\n",
       "      <td>-0.303809</td>\n",
       "    </tr>\n",
       "    <tr>\n",
       "      <th>...</th>\n",
       "      <td>...</td>\n",
       "      <td>...</td>\n",
       "      <td>...</td>\n",
       "      <td>...</td>\n",
       "      <td>...</td>\n",
       "      <td>...</td>\n",
       "      <td>...</td>\n",
       "      <td>...</td>\n",
       "      <td>...</td>\n",
       "      <td>...</td>\n",
       "    </tr>\n",
       "    <tr>\n",
       "      <th>672533</th>\n",
       "      <td>900957</td>\n",
       "      <td>202301</td>\n",
       "      <td>3</td>\n",
       "      <td>0.568</td>\n",
       "      <td>0.585</td>\n",
       "      <td>3767181</td>\n",
       "      <td>2198566.0</td>\n",
       "      <td>107640.0</td>\n",
       "      <td>0.037231</td>\n",
       "      <td>-0.020520</td>\n",
       "    </tr>\n",
       "    <tr>\n",
       "      <th>672534</th>\n",
       "      <td>900957</td>\n",
       "      <td>202302</td>\n",
       "      <td>1</td>\n",
       "      <td>0.585</td>\n",
       "      <td>0.573</td>\n",
       "      <td>2730895</td>\n",
       "      <td>1583914.0</td>\n",
       "      <td>105432.0</td>\n",
       "      <td>-0.020520</td>\n",
       "      <td>-0.080282</td>\n",
       "    </tr>\n",
       "    <tr>\n",
       "      <th>672535</th>\n",
       "      <td>900957</td>\n",
       "      <td>202303</td>\n",
       "      <td>1</td>\n",
       "      <td>0.573</td>\n",
       "      <td>0.527</td>\n",
       "      <td>3055292</td>\n",
       "      <td>1681507.0</td>\n",
       "      <td>96968.0</td>\n",
       "      <td>-0.080282</td>\n",
       "      <td>-0.003795</td>\n",
       "    </tr>\n",
       "    <tr>\n",
       "      <th>672536</th>\n",
       "      <td>900957</td>\n",
       "      <td>202304</td>\n",
       "      <td>3</td>\n",
       "      <td>0.526</td>\n",
       "      <td>0.525</td>\n",
       "      <td>2270414</td>\n",
       "      <td>1179896.0</td>\n",
       "      <td>96600.0</td>\n",
       "      <td>-0.003795</td>\n",
       "      <td>-0.030478</td>\n",
       "    </tr>\n",
       "    <tr>\n",
       "      <th>672537</th>\n",
       "      <td>900957</td>\n",
       "      <td>202305</td>\n",
       "      <td>4</td>\n",
       "      <td>0.520</td>\n",
       "      <td>0.509</td>\n",
       "      <td>2992963</td>\n",
       "      <td>1537800.0</td>\n",
       "      <td>93656.0</td>\n",
       "      <td>-0.030478</td>\n",
       "      <td>NaN</td>\n",
       "    </tr>\n",
       "  </tbody>\n",
       "</table>\n",
       "<p>672538 rows × 10 columns</p>\n",
       "</div>"
      ],
      "text/plain": [
       "        permno    date  Opndt  Mopnprc  Mclsprc  Mnshrtrd    Mnvaltrd  \\\n",
       "0            2  199101     29   14.580   14.510     10000    145000.0   \n",
       "1            2  199102      4   14.660   15.090    878500  11065000.0   \n",
       "2            2  199103      1   15.010   13.180    174500   2996000.0   \n",
       "3            2  199104      2   13.110   11.650     44500    560000.0   \n",
       "4            2  199105      2   11.590   11.290   1550500  17972000.0   \n",
       "...        ...     ...    ...      ...      ...       ...         ...   \n",
       "672533  900957  202301      3    0.568    0.585   3767181   2198566.0   \n",
       "672534  900957  202302      1    0.585    0.573   2730895   1583914.0   \n",
       "672535  900957  202303      1    0.573    0.527   3055292   1681507.0   \n",
       "672536  900957  202304      3    0.526    0.525   2270414   1179896.0   \n",
       "672537  900957  202305      4    0.520    0.509   2992963   1537800.0   \n",
       "\n",
       "         Msmvosd    ret-rf  ret-rf-fwd  \n",
       "0       406280.0  0.036103    0.039972  \n",
       "1       422520.0  0.039972   -0.126574  \n",
       "2       369040.0 -0.126574   -0.116085  \n",
       "3       326200.0 -0.116085   -0.030901  \n",
       "4       316120.0 -0.030901   -0.303809  \n",
       "...          ...       ...         ...  \n",
       "672533  107640.0  0.037231   -0.020520  \n",
       "672534  105432.0 -0.020520   -0.080282  \n",
       "672535   96968.0 -0.080282   -0.003795  \n",
       "672536   96600.0 -0.003795   -0.030478  \n",
       "672537   93656.0 -0.030478         NaN  \n",
       "\n",
       "[672538 rows x 10 columns]"
      ]
     },
     "execution_count": 26,
     "metadata": {},
     "output_type": "execute_result"
    }
   ],
   "source": [
    "df_filled"
   ]
  },
  {
   "cell_type": "code",
   "execution_count": null,
   "metadata": {},
   "outputs": [],
   "source": []
  },
  {
   "cell_type": "code",
   "execution_count": 27,
   "metadata": {},
   "outputs": [
    {
     "data": {
      "text/plain": [
       "ret-rf-fwd    667384\n",
       "ret-rf        672534\n",
       "permno        672538\n",
       "date          672538\n",
       "Opndt         672538\n",
       "Mopnprc       672538\n",
       "Mclsprc       672538\n",
       "Mnshrtrd      672538\n",
       "Mnvaltrd      672538\n",
       "Msmvosd       672538\n",
       "dtype: int64"
      ]
     },
     "execution_count": 27,
     "metadata": {},
     "output_type": "execute_result"
    }
   ],
   "source": [
    "df_filled[df_filled.notna()].count().sort_values()"
   ]
  },
  {
   "cell_type": "code",
   "execution_count": 28,
   "metadata": {},
   "outputs": [],
   "source": [
    "df_final=df_filled.set_index(['permno','date'])"
   ]
  },
  {
   "cell_type": "code",
   "execution_count": 31,
   "metadata": {},
   "outputs": [],
   "source": [
    "characteristics = ['Opndt', 'Mopnprc', 'Mclsprc', 'Mnshrtrd', 'Mnvaltrd', 'Msmvosd']"
   ]
  },
  {
   "cell_type": "code",
   "execution_count": 32,
   "metadata": {},
   "outputs": [],
   "source": [
    "from sklearn.preprocessing import quantile_transform\n",
    "df_final.loc[:, characteristics]=(df_final.loc[:, characteristics]\n",
    "                                .groupby('date')\n",
    "                                .apply(\n",
    "                                    lambda x: pd.DataFrame(\n",
    "                                        quantile_transform(x, copy=True, n_quantiles=x.shape[0]),\n",
    "                                        columns=characteristics,\n",
    "                                        index=x.index\n",
    "                                        )\n",
    "                                    )\n",
    "                               .mul(2).sub(1))"
   ]
  },
  {
   "cell_type": "code",
   "execution_count": 35,
   "metadata": {},
   "outputs": [
    {
     "data": {
      "text/html": [
       "<div>\n",
       "<style scoped>\n",
       "    .dataframe tbody tr th:only-of-type {\n",
       "        vertical-align: middle;\n",
       "    }\n",
       "\n",
       "    .dataframe tbody tr th {\n",
       "        vertical-align: top;\n",
       "    }\n",
       "\n",
       "    .dataframe thead th {\n",
       "        text-align: right;\n",
       "    }\n",
       "</style>\n",
       "<table border=\"1\" class=\"dataframe\">\n",
       "  <thead>\n",
       "    <tr style=\"text-align: right;\">\n",
       "      <th></th>\n",
       "      <th></th>\n",
       "      <th>Opndt</th>\n",
       "      <th>Mopnprc</th>\n",
       "      <th>Mclsprc</th>\n",
       "      <th>Mnshrtrd</th>\n",
       "      <th>Mnvaltrd</th>\n",
       "      <th>Msmvosd</th>\n",
       "      <th>ret-rf</th>\n",
       "      <th>ret-rf-fwd</th>\n",
       "    </tr>\n",
       "    <tr>\n",
       "      <th>permno</th>\n",
       "      <th>date</th>\n",
       "      <th></th>\n",
       "      <th></th>\n",
       "      <th></th>\n",
       "      <th></th>\n",
       "      <th></th>\n",
       "      <th></th>\n",
       "      <th></th>\n",
       "      <th></th>\n",
       "    </tr>\n",
       "  </thead>\n",
       "  <tbody>\n",
       "    <tr>\n",
       "      <th rowspan=\"5\" valign=\"top\">2</th>\n",
       "      <th>199101</th>\n",
       "      <td>1.0</td>\n",
       "      <td>-1.000000</td>\n",
       "      <td>-1.000000</td>\n",
       "      <td>0.600000</td>\n",
       "      <td>-1.000000</td>\n",
       "      <td>1.000000</td>\n",
       "      <td>0.036103</td>\n",
       "      <td>0.039972</td>\n",
       "    </tr>\n",
       "    <tr>\n",
       "      <th>199102</th>\n",
       "      <td>-0.2</td>\n",
       "      <td>-1.000000</td>\n",
       "      <td>-1.000000</td>\n",
       "      <td>1.000000</td>\n",
       "      <td>0.600000</td>\n",
       "      <td>1.000000</td>\n",
       "      <td>0.039972</td>\n",
       "      <td>-0.126574</td>\n",
       "    </tr>\n",
       "    <tr>\n",
       "      <th>199103</th>\n",
       "      <td>-1.0</td>\n",
       "      <td>-1.000000</td>\n",
       "      <td>-1.000000</td>\n",
       "      <td>1.000000</td>\n",
       "      <td>0.200000</td>\n",
       "      <td>1.000000</td>\n",
       "      <td>-0.126574</td>\n",
       "      <td>-0.116085</td>\n",
       "    </tr>\n",
       "    <tr>\n",
       "      <th>199104</th>\n",
       "      <td>1.0</td>\n",
       "      <td>-1.000000</td>\n",
       "      <td>-1.000000</td>\n",
       "      <td>0.200000</td>\n",
       "      <td>-0.200000</td>\n",
       "      <td>1.000000</td>\n",
       "      <td>-0.116085</td>\n",
       "      <td>-0.030901</td>\n",
       "    </tr>\n",
       "    <tr>\n",
       "      <th>199105</th>\n",
       "      <td>-1.0</td>\n",
       "      <td>-1.000000</td>\n",
       "      <td>-1.000000</td>\n",
       "      <td>1.000000</td>\n",
       "      <td>0.600000</td>\n",
       "      <td>1.000000</td>\n",
       "      <td>-0.030901</td>\n",
       "      <td>-0.303809</td>\n",
       "    </tr>\n",
       "    <tr>\n",
       "      <th>...</th>\n",
       "      <th>...</th>\n",
       "      <td>...</td>\n",
       "      <td>...</td>\n",
       "      <td>...</td>\n",
       "      <td>...</td>\n",
       "      <td>...</td>\n",
       "      <td>...</td>\n",
       "      <td>...</td>\n",
       "      <td>...</td>\n",
       "    </tr>\n",
       "    <tr>\n",
       "      <th rowspan=\"5\" valign=\"top\">900957</th>\n",
       "      <th>202212</th>\n",
       "      <td>-1.0</td>\n",
       "      <td>-0.990130</td>\n",
       "      <td>-0.990541</td>\n",
       "      <td>-0.950236</td>\n",
       "      <td>-0.994242</td>\n",
       "      <td>-0.990130</td>\n",
       "      <td>-0.078434</td>\n",
       "      <td>0.037231</td>\n",
       "    </tr>\n",
       "    <tr>\n",
       "      <th>202301</th>\n",
       "      <td>-1.0</td>\n",
       "      <td>-0.990558</td>\n",
       "      <td>-0.990148</td>\n",
       "      <td>-0.933498</td>\n",
       "      <td>-0.990558</td>\n",
       "      <td>-0.992200</td>\n",
       "      <td>0.037231</td>\n",
       "      <td>-0.020520</td>\n",
       "    </tr>\n",
       "    <tr>\n",
       "      <th>202302</th>\n",
       "      <td>-1.0</td>\n",
       "      <td>-0.990398</td>\n",
       "      <td>-0.991011</td>\n",
       "      <td>-0.968539</td>\n",
       "      <td>-0.996731</td>\n",
       "      <td>-0.991420</td>\n",
       "      <td>-0.020520</td>\n",
       "      <td>-0.080282</td>\n",
       "    </tr>\n",
       "    <tr>\n",
       "      <th>202303</th>\n",
       "      <td>-1.0</td>\n",
       "      <td>-0.991071</td>\n",
       "      <td>-0.991071</td>\n",
       "      <td>-0.954951</td>\n",
       "      <td>-0.995942</td>\n",
       "      <td>-0.991883</td>\n",
       "      <td>-0.080282</td>\n",
       "      <td>-0.003795</td>\n",
       "    </tr>\n",
       "    <tr>\n",
       "      <th>202304</th>\n",
       "      <td>-1.0</td>\n",
       "      <td>-0.991136</td>\n",
       "      <td>-0.990733</td>\n",
       "      <td>-0.956487</td>\n",
       "      <td>-0.997180</td>\n",
       "      <td>-0.990733</td>\n",
       "      <td>-0.003795</td>\n",
       "      <td>-0.030478</td>\n",
       "    </tr>\n",
       "  </tbody>\n",
       "</table>\n",
       "<p>667380 rows × 8 columns</p>\n",
       "</div>"
      ],
      "text/plain": [
       "               Opndt   Mopnprc   Mclsprc  Mnshrtrd  Mnvaltrd   Msmvosd  \\\n",
       "permno date                                                              \n",
       "2      199101    1.0 -1.000000 -1.000000  0.600000 -1.000000  1.000000   \n",
       "       199102   -0.2 -1.000000 -1.000000  1.000000  0.600000  1.000000   \n",
       "       199103   -1.0 -1.000000 -1.000000  1.000000  0.200000  1.000000   \n",
       "       199104    1.0 -1.000000 -1.000000  0.200000 -0.200000  1.000000   \n",
       "       199105   -1.0 -1.000000 -1.000000  1.000000  0.600000  1.000000   \n",
       "...              ...       ...       ...       ...       ...       ...   \n",
       "900957 202212   -1.0 -0.990130 -0.990541 -0.950236 -0.994242 -0.990130   \n",
       "       202301   -1.0 -0.990558 -0.990148 -0.933498 -0.990558 -0.992200   \n",
       "       202302   -1.0 -0.990398 -0.991011 -0.968539 -0.996731 -0.991420   \n",
       "       202303   -1.0 -0.991071 -0.991071 -0.954951 -0.995942 -0.991883   \n",
       "       202304   -1.0 -0.991136 -0.990733 -0.956487 -0.997180 -0.990733   \n",
       "\n",
       "                 ret-rf  ret-rf-fwd  \n",
       "permno date                          \n",
       "2      199101  0.036103    0.039972  \n",
       "       199102  0.039972   -0.126574  \n",
       "       199103 -0.126574   -0.116085  \n",
       "       199104 -0.116085   -0.030901  \n",
       "       199105 -0.030901   -0.303809  \n",
       "...                 ...         ...  \n",
       "900957 202212 -0.078434    0.037231  \n",
       "       202301  0.037231   -0.020520  \n",
       "       202302 -0.020520   -0.080282  \n",
       "       202303 -0.080282   -0.003795  \n",
       "       202304 -0.003795   -0.030478  \n",
       "\n",
       "[667380 rows x 8 columns]"
      ]
     },
     "execution_count": 35,
     "metadata": {},
     "output_type": "execute_result"
    }
   ],
   "source": [
    "df_final = df_final.dropna()\n",
    "df_final"
   ]
  },
  {
   "cell_type": "code",
   "execution_count": 36,
   "metadata": {},
   "outputs": [],
   "source": [
    "df_final.to_csv(\"China.csv\")"
   ]
  },
  {
   "cell_type": "code",
   "execution_count": 38,
   "metadata": {},
   "outputs": [],
   "source": [
    "df = pd.read_csv(\"China.csv\")\n",
    "df.to_feather(\"China.feather\")"
   ]
  },
  {
   "cell_type": "code",
   "execution_count": 41,
   "metadata": {},
   "outputs": [],
   "source": [
    "df = pd.read_feather(\"China.feather\")\n",
    "df.rename(columns={'ret-rf-fwd':'ret-rf-new'}, inplace=True)\n",
    "df.to_feather(\"China.feather\")"
   ]
  },
  {
   "cell_type": "code",
   "execution_count": 33,
   "metadata": {},
   "outputs": [
    {
     "ename": "ValueError",
     "evalue": "feather does not support serializing <class 'pandas.core.indexes.multi.MultiIndex'> for the index; you can .reset_index() to make the index into column(s)",
     "output_type": "error",
     "traceback": [
      "\u001b[0;31m---------------------------------------------------------------------------\u001b[0m",
      "\u001b[0;31mValueError\u001b[0m                                Traceback (most recent call last)",
      "\u001b[0;32m/tmp/ipykernel_24710/2299408671.py\u001b[0m in \u001b[0;36m<module>\u001b[0;34m\u001b[0m\n\u001b[0;32m----> 1\u001b[0;31m \u001b[0mdf_final\u001b[0m\u001b[0;34m.\u001b[0m\u001b[0mto_feather\u001b[0m\u001b[0;34m(\u001b[0m\u001b[0;34m\"China.feather\"\u001b[0m\u001b[0;34m)\u001b[0m\u001b[0;34m\u001b[0m\u001b[0;34m\u001b[0m\u001b[0m\n\u001b[0m",
      "\u001b[0;32m~/anaconda3/envs/summer-env/lib/python3.7/site-packages/pandas/util/_decorators.py\u001b[0m in \u001b[0;36mwrapper\u001b[0;34m(*args, **kwargs)\u001b[0m\n\u001b[1;32m    205\u001b[0m                 \u001b[0;32melse\u001b[0m\u001b[0;34m:\u001b[0m\u001b[0;34m\u001b[0m\u001b[0;34m\u001b[0m\u001b[0m\n\u001b[1;32m    206\u001b[0m                     \u001b[0mkwargs\u001b[0m\u001b[0;34m[\u001b[0m\u001b[0mnew_arg_name\u001b[0m\u001b[0;34m]\u001b[0m \u001b[0;34m=\u001b[0m \u001b[0mnew_arg_value\u001b[0m\u001b[0;34m\u001b[0m\u001b[0;34m\u001b[0m\u001b[0m\n\u001b[0;32m--> 207\u001b[0;31m             \u001b[0;32mreturn\u001b[0m \u001b[0mfunc\u001b[0m\u001b[0;34m(\u001b[0m\u001b[0;34m*\u001b[0m\u001b[0margs\u001b[0m\u001b[0;34m,\u001b[0m \u001b[0;34m**\u001b[0m\u001b[0mkwargs\u001b[0m\u001b[0;34m)\u001b[0m\u001b[0;34m\u001b[0m\u001b[0;34m\u001b[0m\u001b[0m\n\u001b[0m\u001b[1;32m    208\u001b[0m \u001b[0;34m\u001b[0m\u001b[0m\n\u001b[1;32m    209\u001b[0m         \u001b[0;32mreturn\u001b[0m \u001b[0mcast\u001b[0m\u001b[0;34m(\u001b[0m\u001b[0mF\u001b[0m\u001b[0;34m,\u001b[0m \u001b[0mwrapper\u001b[0m\u001b[0;34m)\u001b[0m\u001b[0;34m\u001b[0m\u001b[0;34m\u001b[0m\u001b[0m\n",
      "\u001b[0;32m~/anaconda3/envs/summer-env/lib/python3.7/site-packages/pandas/core/frame.py\u001b[0m in \u001b[0;36mto_feather\u001b[0;34m(self, path, **kwargs)\u001b[0m\n\u001b[1;32m   2517\u001b[0m         \u001b[0;32mfrom\u001b[0m \u001b[0mpandas\u001b[0m\u001b[0;34m.\u001b[0m\u001b[0mio\u001b[0m\u001b[0;34m.\u001b[0m\u001b[0mfeather_format\u001b[0m \u001b[0;32mimport\u001b[0m \u001b[0mto_feather\u001b[0m\u001b[0;34m\u001b[0m\u001b[0;34m\u001b[0m\u001b[0m\n\u001b[1;32m   2518\u001b[0m \u001b[0;34m\u001b[0m\u001b[0m\n\u001b[0;32m-> 2519\u001b[0;31m         \u001b[0mto_feather\u001b[0m\u001b[0;34m(\u001b[0m\u001b[0mself\u001b[0m\u001b[0;34m,\u001b[0m \u001b[0mpath\u001b[0m\u001b[0;34m,\u001b[0m \u001b[0;34m**\u001b[0m\u001b[0mkwargs\u001b[0m\u001b[0;34m)\u001b[0m\u001b[0;34m\u001b[0m\u001b[0;34m\u001b[0m\u001b[0m\n\u001b[0m\u001b[1;32m   2520\u001b[0m \u001b[0;34m\u001b[0m\u001b[0m\n\u001b[1;32m   2521\u001b[0m     @doc(\n",
      "\u001b[0;32m~/anaconda3/envs/summer-env/lib/python3.7/site-packages/pandas/io/feather_format.py\u001b[0m in \u001b[0;36mto_feather\u001b[0;34m(df, path, storage_options, **kwargs)\u001b[0m\n\u001b[1;32m     60\u001b[0m         \u001b[0mtyp\u001b[0m \u001b[0;34m=\u001b[0m \u001b[0mtype\u001b[0m\u001b[0;34m(\u001b[0m\u001b[0mdf\u001b[0m\u001b[0;34m.\u001b[0m\u001b[0mindex\u001b[0m\u001b[0;34m)\u001b[0m\u001b[0;34m\u001b[0m\u001b[0;34m\u001b[0m\u001b[0m\n\u001b[1;32m     61\u001b[0m         raise ValueError(\n\u001b[0;32m---> 62\u001b[0;31m             \u001b[0;34mf\"feather does not support serializing {typ} \"\u001b[0m\u001b[0;34m\u001b[0m\u001b[0;34m\u001b[0m\u001b[0m\n\u001b[0m\u001b[1;32m     63\u001b[0m             \u001b[0;34m\"for the index; you can .reset_index() to make the index into column(s)\"\u001b[0m\u001b[0;34m\u001b[0m\u001b[0;34m\u001b[0m\u001b[0m\n\u001b[1;32m     64\u001b[0m         )\n",
      "\u001b[0;31mValueError\u001b[0m: feather does not support serializing <class 'pandas.core.indexes.multi.MultiIndex'> for the index; you can .reset_index() to make the index into column(s)"
     ]
    }
   ],
   "source": [
    "df_final.to_feather(\"China.feather\")"
   ]
  },
  {
   "cell_type": "code",
   "execution_count": 23,
   "metadata": {},
   "outputs": [],
   "source": [
    "df_final.to_csv('guiyi_.csv')"
   ]
  },
  {
   "cell_type": "code",
   "execution_count": 37,
   "metadata": {},
   "outputs": [],
   "source": [
    "df_final=pd.read_csv('./guiyi_.csv')\n",
    "df_final.loc[:, 'ret-rf'] = df_final.loc[:, 'ret-rf'].clip(lower=-100.0, upper=100.0)/100.0\n",
    "df_final.loc[:, 'ret-rf-fwd'] = df_final.loc[:, 'ret-rf-fwd'].clip(lower=-100.0, upper=100.0)/100.0"
   ]
  },
  {
   "attachments": {},
   "cell_type": "markdown",
   "metadata": {},
   "source": [
    "## ????如何对待缺失值"
   ]
  },
  {
   "cell_type": "code",
   "execution_count": 38,
   "metadata": {},
   "outputs": [],
   "source": [
    "df_final[characteristics+['ret-rf-fwd']] = df_final[characteristics+['ret-rf-fwd']] .fillna(-2) # 参考machine-learning-for-trading/20_autoencoders_for_conditional_risk_factors/06_conditional_autoencoder_for_asset_pricing_model.ipynb中的方式\n",
    "# df_final = df_final.dropna()"
   ]
  },
  {
   "cell_type": "code",
   "execution_count": 39,
   "metadata": {},
   "outputs": [
    {
     "data": {
      "text/html": [
       "<div>\n",
       "<style scoped>\n",
       "    .dataframe tbody tr th:only-of-type {\n",
       "        vertical-align: middle;\n",
       "    }\n",
       "\n",
       "    .dataframe tbody tr th {\n",
       "        vertical-align: top;\n",
       "    }\n",
       "\n",
       "    .dataframe thead th {\n",
       "        text-align: right;\n",
       "    }\n",
       "</style>\n",
       "<table border=\"1\" class=\"dataframe\">\n",
       "  <thead>\n",
       "    <tr style=\"text-align: right;\">\n",
       "      <th></th>\n",
       "      <th>permno</th>\n",
       "      <th>date</th>\n",
       "      <th>ret-rf</th>\n",
       "      <th>baspread</th>\n",
       "      <th>beta</th>\n",
       "      <th>betasq</th>\n",
       "      <th>chmom</th>\n",
       "      <th>dolvol</th>\n",
       "      <th>idiovol</th>\n",
       "      <th>ill</th>\n",
       "      <th>...</th>\n",
       "      <th>salerec</th>\n",
       "      <th>secured</th>\n",
       "      <th>securedind</th>\n",
       "      <th>sgr</th>\n",
       "      <th>sic2</th>\n",
       "      <th>sin</th>\n",
       "      <th>sp</th>\n",
       "      <th>tang</th>\n",
       "      <th>tb</th>\n",
       "      <th>ret-rf-fwd</th>\n",
       "    </tr>\n",
       "  </thead>\n",
       "  <tbody>\n",
       "    <tr>\n",
       "      <th>count</th>\n",
       "      <td>3.739482e+06</td>\n",
       "      <td>3.739482e+06</td>\n",
       "      <td>3.739482e+06</td>\n",
       "      <td>3.739482e+06</td>\n",
       "      <td>3.739482e+06</td>\n",
       "      <td>3.739482e+06</td>\n",
       "      <td>3.739482e+06</td>\n",
       "      <td>3.739482e+06</td>\n",
       "      <td>3.739482e+06</td>\n",
       "      <td>3.739482e+06</td>\n",
       "      <td>...</td>\n",
       "      <td>3.739482e+06</td>\n",
       "      <td>3.739482e+06</td>\n",
       "      <td>3.739482e+06</td>\n",
       "      <td>3.739482e+06</td>\n",
       "      <td>3.739482e+06</td>\n",
       "      <td>3.739482e+06</td>\n",
       "      <td>3.739482e+06</td>\n",
       "      <td>3.739482e+06</td>\n",
       "      <td>3.739482e+06</td>\n",
       "      <td>3.739482e+06</td>\n",
       "    </tr>\n",
       "    <tr>\n",
       "      <th>mean</th>\n",
       "      <td>5.640604e+04</td>\n",
       "      <td>1.992516e+07</td>\n",
       "      <td>5.925374e-03</td>\n",
       "      <td>-3.004950e-03</td>\n",
       "      <td>-3.013574e-03</td>\n",
       "      <td>-2.994556e-03</td>\n",
       "      <td>-3.037244e-03</td>\n",
       "      <td>-2.987507e-03</td>\n",
       "      <td>-2.998089e-03</td>\n",
       "      <td>-3.271084e-03</td>\n",
       "      <td>...</td>\n",
       "      <td>-3.043395e-02</td>\n",
       "      <td>-2.723618e-01</td>\n",
       "      <td>-2.693616e-01</td>\n",
       "      <td>-3.999154e-02</td>\n",
       "      <td>-1.811487e-02</td>\n",
       "      <td>-1.000269e+00</td>\n",
       "      <td>-3.044505e-02</td>\n",
       "      <td>-3.043442e-02</td>\n",
       "      <td>-3.046744e-02</td>\n",
       "      <td>-1.006056e-02</td>\n",
       "    </tr>\n",
       "    <tr>\n",
       "      <th>std</th>\n",
       "      <td>2.732113e+04</td>\n",
       "      <td>1.420997e+05</td>\n",
       "      <td>1.563458e-01</td>\n",
       "      <td>5.823098e-01</td>\n",
       "      <td>5.811208e-01</td>\n",
       "      <td>5.810864e-01</td>\n",
       "      <td>5.814331e-01</td>\n",
       "      <td>5.764533e-01</td>\n",
       "      <td>5.810806e-01</td>\n",
       "      <td>5.768941e-01</td>\n",
       "      <td>...</td>\n",
       "      <td>6.097930e-01</td>\n",
       "      <td>8.283468e-01</td>\n",
       "      <td>9.839404e-01</td>\n",
       "      <td>6.223350e-01</td>\n",
       "      <td>6.025724e-01</td>\n",
       "      <td>2.010665e-01</td>\n",
       "      <td>6.116810e-01</td>\n",
       "      <td>6.089128e-01</td>\n",
       "      <td>6.062139e-01</td>\n",
       "      <td>2.367739e-01</td>\n",
       "    </tr>\n",
       "    <tr>\n",
       "      <th>min</th>\n",
       "      <td>1.000000e+04</td>\n",
       "      <td>1.957033e+07</td>\n",
       "      <td>-9.912950e-01</td>\n",
       "      <td>-2.000000e+00</td>\n",
       "      <td>-2.000000e+00</td>\n",
       "      <td>-2.000000e+00</td>\n",
       "      <td>-2.000000e+00</td>\n",
       "      <td>-2.000000e+00</td>\n",
       "      <td>-2.000000e+00</td>\n",
       "      <td>-2.000000e+00</td>\n",
       "      <td>...</td>\n",
       "      <td>-2.000000e+00</td>\n",
       "      <td>-2.000000e+00</td>\n",
       "      <td>-2.000000e+00</td>\n",
       "      <td>-2.000000e+00</td>\n",
       "      <td>-2.000000e+00</td>\n",
       "      <td>-2.000000e+00</td>\n",
       "      <td>-2.000000e+00</td>\n",
       "      <td>-2.000000e+00</td>\n",
       "      <td>-2.000000e+00</td>\n",
       "      <td>-2.000000e+00</td>\n",
       "    </tr>\n",
       "    <tr>\n",
       "      <th>25%</th>\n",
       "      <td>3.052500e+04</td>\n",
       "      <td>1.982093e+07</td>\n",
       "      <td>-6.532400e-02</td>\n",
       "      <td>-5.023690e-01</td>\n",
       "      <td>-5.016864e-01</td>\n",
       "      <td>-5.016864e-01</td>\n",
       "      <td>-5.018384e-01</td>\n",
       "      <td>-5.002071e-01</td>\n",
       "      <td>-5.016864e-01</td>\n",
       "      <td>-5.002650e-01</td>\n",
       "      <td>...</td>\n",
       "      <td>-5.139002e-01</td>\n",
       "      <td>-7.455418e-01</td>\n",
       "      <td>-1.000000e+00</td>\n",
       "      <td>-5.195660e-01</td>\n",
       "      <td>-5.045670e-01</td>\n",
       "      <td>-1.000000e+00</td>\n",
       "      <td>-5.150517e-01</td>\n",
       "      <td>-5.137615e-01</td>\n",
       "      <td>-5.129317e-01</td>\n",
       "      <td>-6.740000e-02</td>\n",
       "    </tr>\n",
       "    <tr>\n",
       "      <th>50%</th>\n",
       "      <td>6.177800e+04</td>\n",
       "      <td>1.994063e+07</td>\n",
       "      <td>-3.337000e-03</td>\n",
       "      <td>0.000000e+00</td>\n",
       "      <td>0.000000e+00</td>\n",
       "      <td>0.000000e+00</td>\n",
       "      <td>0.000000e+00</td>\n",
       "      <td>0.000000e+00</td>\n",
       "      <td>0.000000e+00</td>\n",
       "      <td>0.000000e+00</td>\n",
       "      <td>...</td>\n",
       "      <td>0.000000e+00</td>\n",
       "      <td>0.000000e+00</td>\n",
       "      <td>-1.000000e+00</td>\n",
       "      <td>0.000000e+00</td>\n",
       "      <td>-5.999700e-04</td>\n",
       "      <td>-1.000000e+00</td>\n",
       "      <td>0.000000e+00</td>\n",
       "      <td>0.000000e+00</td>\n",
       "      <td>0.000000e+00</td>\n",
       "      <td>-3.800000e-03</td>\n",
       "    </tr>\n",
       "    <tr>\n",
       "      <th>75%</th>\n",
       "      <td>8.068000e+04</td>\n",
       "      <td>2.004023e+07</td>\n",
       "      <td>6.276300e-02</td>\n",
       "      <td>4.993284e-01</td>\n",
       "      <td>4.985990e-01</td>\n",
       "      <td>4.985990e-01</td>\n",
       "      <td>4.987418e-01</td>\n",
       "      <td>4.969350e-01</td>\n",
       "      <td>4.985990e-01</td>\n",
       "      <td>4.970015e-01</td>\n",
       "      <td>...</td>\n",
       "      <td>4.780600e-01</td>\n",
       "      <td>1.396648e-04</td>\n",
       "      <td>1.000000e+00</td>\n",
       "      <td>4.742236e-01</td>\n",
       "      <td>5.421735e-01</td>\n",
       "      <td>-1.000000e+00</td>\n",
       "      <td>4.793830e-01</td>\n",
       "      <td>4.778039e-01</td>\n",
       "      <td>4.777070e-01</td>\n",
       "      <td>6.200200e-02</td>\n",
       "    </tr>\n",
       "    <tr>\n",
       "      <th>max</th>\n",
       "      <td>9.343600e+04</td>\n",
       "      <td>2.016123e+07</td>\n",
       "      <td>1.000000e+00</td>\n",
       "      <td>1.000000e+00</td>\n",
       "      <td>1.000000e+00</td>\n",
       "      <td>1.000000e+00</td>\n",
       "      <td>1.000000e+00</td>\n",
       "      <td>1.000000e+00</td>\n",
       "      <td>1.000000e+00</td>\n",
       "      <td>1.000000e+00</td>\n",
       "      <td>...</td>\n",
       "      <td>1.000000e+00</td>\n",
       "      <td>1.000000e+00</td>\n",
       "      <td>1.000000e+00</td>\n",
       "      <td>1.000000e+00</td>\n",
       "      <td>1.000000e+00</td>\n",
       "      <td>1.000000e+00</td>\n",
       "      <td>1.000000e+00</td>\n",
       "      <td>1.000000e+00</td>\n",
       "      <td>1.000000e+00</td>\n",
       "      <td>1.000000e+00</td>\n",
       "    </tr>\n",
       "  </tbody>\n",
       "</table>\n",
       "<p>8 rows × 99 columns</p>\n",
       "</div>"
      ],
      "text/plain": [
       "             permno          date        ret-rf      baspread          beta  \\\n",
       "count  3.739482e+06  3.739482e+06  3.739482e+06  3.739482e+06  3.739482e+06   \n",
       "mean   5.640604e+04  1.992516e+07  5.925374e-03 -3.004950e-03 -3.013574e-03   \n",
       "std    2.732113e+04  1.420997e+05  1.563458e-01  5.823098e-01  5.811208e-01   \n",
       "min    1.000000e+04  1.957033e+07 -9.912950e-01 -2.000000e+00 -2.000000e+00   \n",
       "25%    3.052500e+04  1.982093e+07 -6.532400e-02 -5.023690e-01 -5.016864e-01   \n",
       "50%    6.177800e+04  1.994063e+07 -3.337000e-03  0.000000e+00  0.000000e+00   \n",
       "75%    8.068000e+04  2.004023e+07  6.276300e-02  4.993284e-01  4.985990e-01   \n",
       "max    9.343600e+04  2.016123e+07  1.000000e+00  1.000000e+00  1.000000e+00   \n",
       "\n",
       "             betasq         chmom        dolvol       idiovol           ill  \\\n",
       "count  3.739482e+06  3.739482e+06  3.739482e+06  3.739482e+06  3.739482e+06   \n",
       "mean  -2.994556e-03 -3.037244e-03 -2.987507e-03 -2.998089e-03 -3.271084e-03   \n",
       "std    5.810864e-01  5.814331e-01  5.764533e-01  5.810806e-01  5.768941e-01   \n",
       "min   -2.000000e+00 -2.000000e+00 -2.000000e+00 -2.000000e+00 -2.000000e+00   \n",
       "25%   -5.016864e-01 -5.018384e-01 -5.002071e-01 -5.016864e-01 -5.002650e-01   \n",
       "50%    0.000000e+00  0.000000e+00  0.000000e+00  0.000000e+00  0.000000e+00   \n",
       "75%    4.985990e-01  4.987418e-01  4.969350e-01  4.985990e-01  4.970015e-01   \n",
       "max    1.000000e+00  1.000000e+00  1.000000e+00  1.000000e+00  1.000000e+00   \n",
       "\n",
       "       ...       salerec       secured    securedind           sgr  \\\n",
       "count  ...  3.739482e+06  3.739482e+06  3.739482e+06  3.739482e+06   \n",
       "mean   ... -3.043395e-02 -2.723618e-01 -2.693616e-01 -3.999154e-02   \n",
       "std    ...  6.097930e-01  8.283468e-01  9.839404e-01  6.223350e-01   \n",
       "min    ... -2.000000e+00 -2.000000e+00 -2.000000e+00 -2.000000e+00   \n",
       "25%    ... -5.139002e-01 -7.455418e-01 -1.000000e+00 -5.195660e-01   \n",
       "50%    ...  0.000000e+00  0.000000e+00 -1.000000e+00  0.000000e+00   \n",
       "75%    ...  4.780600e-01  1.396648e-04  1.000000e+00  4.742236e-01   \n",
       "max    ...  1.000000e+00  1.000000e+00  1.000000e+00  1.000000e+00   \n",
       "\n",
       "               sic2           sin            sp          tang            tb  \\\n",
       "count  3.739482e+06  3.739482e+06  3.739482e+06  3.739482e+06  3.739482e+06   \n",
       "mean  -1.811487e-02 -1.000269e+00 -3.044505e-02 -3.043442e-02 -3.046744e-02   \n",
       "std    6.025724e-01  2.010665e-01  6.116810e-01  6.089128e-01  6.062139e-01   \n",
       "min   -2.000000e+00 -2.000000e+00 -2.000000e+00 -2.000000e+00 -2.000000e+00   \n",
       "25%   -5.045670e-01 -1.000000e+00 -5.150517e-01 -5.137615e-01 -5.129317e-01   \n",
       "50%   -5.999700e-04 -1.000000e+00  0.000000e+00  0.000000e+00  0.000000e+00   \n",
       "75%    5.421735e-01 -1.000000e+00  4.793830e-01  4.778039e-01  4.777070e-01   \n",
       "max    1.000000e+00  1.000000e+00  1.000000e+00  1.000000e+00  1.000000e+00   \n",
       "\n",
       "         ret-rf-fwd  \n",
       "count  3.739482e+06  \n",
       "mean  -1.006056e-02  \n",
       "std    2.367739e-01  \n",
       "min   -2.000000e+00  \n",
       "25%   -6.740000e-02  \n",
       "50%   -3.800000e-03  \n",
       "75%    6.200200e-02  \n",
       "max    1.000000e+00  \n",
       "\n",
       "[8 rows x 99 columns]"
      ]
     },
     "execution_count": 39,
     "metadata": {},
     "output_type": "execute_result"
    }
   ],
   "source": [
    "df_final.describe()"
   ]
  },
  {
   "cell_type": "code",
   "execution_count": 27,
   "metadata": {},
   "outputs": [
    {
     "data": {
      "text/html": [
       "<div>\n",
       "<style scoped>\n",
       "    .dataframe tbody tr th:only-of-type {\n",
       "        vertical-align: middle;\n",
       "    }\n",
       "\n",
       "    .dataframe tbody tr th {\n",
       "        vertical-align: top;\n",
       "    }\n",
       "\n",
       "    .dataframe thead th {\n",
       "        text-align: right;\n",
       "    }\n",
       "</style>\n",
       "<table border=\"1\" class=\"dataframe\">\n",
       "  <thead>\n",
       "    <tr style=\"text-align: right;\">\n",
       "      <th></th>\n",
       "      <th>permno</th>\n",
       "      <th>date</th>\n",
       "      <th>ret-rf</th>\n",
       "      <th>baspread</th>\n",
       "      <th>beta</th>\n",
       "      <th>betasq</th>\n",
       "      <th>chmom</th>\n",
       "      <th>dolvol</th>\n",
       "      <th>idiovol</th>\n",
       "      <th>ill</th>\n",
       "      <th>...</th>\n",
       "      <th>salerec</th>\n",
       "      <th>secured</th>\n",
       "      <th>securedind</th>\n",
       "      <th>sgr</th>\n",
       "      <th>sic2</th>\n",
       "      <th>sin</th>\n",
       "      <th>sp</th>\n",
       "      <th>tang</th>\n",
       "      <th>tb</th>\n",
       "      <th>ret-rf-fwd</th>\n",
       "    </tr>\n",
       "  </thead>\n",
       "  <tbody>\n",
       "    <tr>\n",
       "      <th>0</th>\n",
       "      <td>10006</td>\n",
       "      <td>19570329</td>\n",
       "      <td>0.000161</td>\n",
       "      <td>-0.625355</td>\n",
       "      <td>0.190161</td>\n",
       "      <td>0.190161</td>\n",
       "      <td>0.786187</td>\n",
       "      <td>0.665090</td>\n",
       "      <td>-0.400189</td>\n",
       "      <td>-0.385052</td>\n",
       "      <td>...</td>\n",
       "      <td>-2.0</td>\n",
       "      <td>-2.0</td>\n",
       "      <td>-2.0</td>\n",
       "      <td>-2.0</td>\n",
       "      <td>0.640492</td>\n",
       "      <td>-2.0</td>\n",
       "      <td>-2.0</td>\n",
       "      <td>-2.0</td>\n",
       "      <td>-2.0</td>\n",
       "      <td>-0.000105</td>\n",
       "    </tr>\n",
       "    <tr>\n",
       "      <th>1</th>\n",
       "      <td>10014</td>\n",
       "      <td>19570329</td>\n",
       "      <td>-0.000023</td>\n",
       "      <td>0.911069</td>\n",
       "      <td>-0.899716</td>\n",
       "      <td>-0.899716</td>\n",
       "      <td>-0.364238</td>\n",
       "      <td>-0.831599</td>\n",
       "      <td>0.967833</td>\n",
       "      <td>0.973510</td>\n",
       "      <td>...</td>\n",
       "      <td>-2.0</td>\n",
       "      <td>-2.0</td>\n",
       "      <td>-2.0</td>\n",
       "      <td>-2.0</td>\n",
       "      <td>-0.009461</td>\n",
       "      <td>-2.0</td>\n",
       "      <td>-2.0</td>\n",
       "      <td>-2.0</td>\n",
       "      <td>-2.0</td>\n",
       "      <td>0.000451</td>\n",
       "    </tr>\n",
       "    <tr>\n",
       "      <th>2</th>\n",
       "      <td>10022</td>\n",
       "      <td>19570329</td>\n",
       "      <td>-0.000061</td>\n",
       "      <td>0.774834</td>\n",
       "      <td>-0.123936</td>\n",
       "      <td>-0.123936</td>\n",
       "      <td>0.048250</td>\n",
       "      <td>-0.678335</td>\n",
       "      <td>0.065279</td>\n",
       "      <td>0.825922</td>\n",
       "      <td>...</td>\n",
       "      <td>-2.0</td>\n",
       "      <td>-2.0</td>\n",
       "      <td>-2.0</td>\n",
       "      <td>-2.0</td>\n",
       "      <td>-0.009461</td>\n",
       "      <td>-2.0</td>\n",
       "      <td>-2.0</td>\n",
       "      <td>-2.0</td>\n",
       "      <td>-2.0</td>\n",
       "      <td>0.000563</td>\n",
       "    </tr>\n",
       "    <tr>\n",
       "      <th>3</th>\n",
       "      <td>10030</td>\n",
       "      <td>19570329</td>\n",
       "      <td>0.000756</td>\n",
       "      <td>-0.006623</td>\n",
       "      <td>-0.250710</td>\n",
       "      <td>-0.250710</td>\n",
       "      <td>0.557237</td>\n",
       "      <td>0.491012</td>\n",
       "      <td>-0.612110</td>\n",
       "      <td>-0.708609</td>\n",
       "      <td>...</td>\n",
       "      <td>-2.0</td>\n",
       "      <td>-2.0</td>\n",
       "      <td>-2.0</td>\n",
       "      <td>-2.0</td>\n",
       "      <td>-0.009461</td>\n",
       "      <td>-2.0</td>\n",
       "      <td>-2.0</td>\n",
       "      <td>-2.0</td>\n",
       "      <td>-2.0</td>\n",
       "      <td>0.000248</td>\n",
       "    </tr>\n",
       "    <tr>\n",
       "      <th>4</th>\n",
       "      <td>10057</td>\n",
       "      <td>19570329</td>\n",
       "      <td>-0.000200</td>\n",
       "      <td>-0.350993</td>\n",
       "      <td>0.345317</td>\n",
       "      <td>0.345317</td>\n",
       "      <td>-0.403974</td>\n",
       "      <td>-0.080416</td>\n",
       "      <td>-0.405866</td>\n",
       "      <td>0.089877</td>\n",
       "      <td>...</td>\n",
       "      <td>-2.0</td>\n",
       "      <td>-2.0</td>\n",
       "      <td>-2.0</td>\n",
       "      <td>-2.0</td>\n",
       "      <td>-0.009461</td>\n",
       "      <td>-2.0</td>\n",
       "      <td>-2.0</td>\n",
       "      <td>-2.0</td>\n",
       "      <td>-2.0</td>\n",
       "      <td>0.000661</td>\n",
       "    </tr>\n",
       "  </tbody>\n",
       "</table>\n",
       "<p>5 rows × 99 columns</p>\n",
       "</div>"
      ],
      "text/plain": [
       "   permno      date    ret-rf  baspread      beta    betasq     chmom  \\\n",
       "0   10006  19570329  0.000161 -0.625355  0.190161  0.190161  0.786187   \n",
       "1   10014  19570329 -0.000023  0.911069 -0.899716 -0.899716 -0.364238   \n",
       "2   10022  19570329 -0.000061  0.774834 -0.123936 -0.123936  0.048250   \n",
       "3   10030  19570329  0.000756 -0.006623 -0.250710 -0.250710  0.557237   \n",
       "4   10057  19570329 -0.000200 -0.350993  0.345317  0.345317 -0.403974   \n",
       "\n",
       "     dolvol   idiovol       ill  ...  salerec  secured  securedind  sgr  \\\n",
       "0  0.665090 -0.400189 -0.385052  ...     -2.0     -2.0        -2.0 -2.0   \n",
       "1 -0.831599  0.967833  0.973510  ...     -2.0     -2.0        -2.0 -2.0   \n",
       "2 -0.678335  0.065279  0.825922  ...     -2.0     -2.0        -2.0 -2.0   \n",
       "3  0.491012 -0.612110 -0.708609  ...     -2.0     -2.0        -2.0 -2.0   \n",
       "4 -0.080416 -0.405866  0.089877  ...     -2.0     -2.0        -2.0 -2.0   \n",
       "\n",
       "       sic2  sin   sp  tang   tb  ret-rf-fwd  \n",
       "0  0.640492 -2.0 -2.0  -2.0 -2.0   -0.000105  \n",
       "1 -0.009461 -2.0 -2.0  -2.0 -2.0    0.000451  \n",
       "2 -0.009461 -2.0 -2.0  -2.0 -2.0    0.000563  \n",
       "3 -0.009461 -2.0 -2.0  -2.0 -2.0    0.000248  \n",
       "4 -0.009461 -2.0 -2.0  -2.0 -2.0    0.000661  \n",
       "\n",
       "[5 rows x 99 columns]"
      ]
     },
     "execution_count": 27,
     "metadata": {},
     "output_type": "execute_result"
    }
   ],
   "source": [
    "df_final.head()"
   ]
  },
  {
   "attachments": {},
   "cell_type": "markdown",
   "metadata": {},
   "source": [
    "# Split"
   ]
  },
  {
   "cell_type": "code",
   "execution_count": 28,
   "metadata": {},
   "outputs": [],
   "source": [
    "import torch\n",
    "import torch.nn as nn\n",
    "import torch.nn.functional as F\n",
    "import torch.optim as optim\n",
    "from torch.utils.data import TensorDataset, DataLoader\n",
    "from tqdm import trange"
   ]
  },
  {
   "cell_type": "code",
   "execution_count": 29,
   "metadata": {},
   "outputs": [],
   "source": [
    "# df = df_final.sort_values('date').reset_index()\n",
    "df=df_final"
   ]
  },
  {
   "cell_type": "code",
   "execution_count": 30,
   "metadata": {},
   "outputs": [
    {
     "name": "stdout",
     "output_type": "stream",
     "text": [
      "[10006 10014 10022 ... 86536 92499 92500]\n"
     ]
    }
   ],
   "source": [
    "# df1=df_final\n",
    "# print(df1)\n",
    "# 19570101\n",
    "# 20170101\\\n",
    "firm_all=df_final['permno'].unique()\n",
    "# len(firm_all)\n",
    "# for tim in range(19570101,20170101,100):\n",
    "#     df1[(df1['date']>=tim) & (df1['date']<tim+100)].set_index('permno').reindex(firm_all, fill_value=0.0)\n",
    "# print (\"a\",df1[(df1['date']>=19580101) & (df1['date']<19580201)])\n",
    "# df1[(df1['date']>=19580101) & (df1['date']<19580201)]=df1[(df1['date']>=19580101) & (df1['date']<19580201)].set_index('permno').reindex(index=firm_all,fill_value=0.0)\n",
    "# print (\"b\\n\",df1[(df1['date']>=19580101) & (df1['date']<19580201)])\n",
    "print(firm_all)\n",
    "# for tmp in df1:\n",
    "    # print(type(tmp[1]))\n",
    "    # break\n",
    "    # tmp[1]=tmp[1].set_index('permno').reindex(firm_all,fill_value=0.0)\n",
    "# print(df1)\n",
    "# df1=df1.reindex(firm_all,fill_value=0.0)\n",
    "# df1"
   ]
  },
  {
   "cell_type": "code",
   "execution_count": 31,
   "metadata": {},
   "outputs": [
    {
     "data": {
      "text/html": [
       "<div>\n",
       "<style scoped>\n",
       "    .dataframe tbody tr th:only-of-type {\n",
       "        vertical-align: middle;\n",
       "    }\n",
       "\n",
       "    .dataframe tbody tr th {\n",
       "        vertical-align: top;\n",
       "    }\n",
       "\n",
       "    .dataframe thead th {\n",
       "        text-align: right;\n",
       "    }\n",
       "</style>\n",
       "<table border=\"1\" class=\"dataframe\">\n",
       "  <thead>\n",
       "    <tr style=\"text-align: right;\">\n",
       "      <th></th>\n",
       "      <th>permno</th>\n",
       "      <th>date</th>\n",
       "      <th>ret-rf</th>\n",
       "      <th>baspread</th>\n",
       "      <th>beta</th>\n",
       "      <th>betasq</th>\n",
       "      <th>chmom</th>\n",
       "      <th>dolvol</th>\n",
       "      <th>idiovol</th>\n",
       "      <th>ill</th>\n",
       "      <th>...</th>\n",
       "      <th>salerec</th>\n",
       "      <th>secured</th>\n",
       "      <th>securedind</th>\n",
       "      <th>sgr</th>\n",
       "      <th>sic2</th>\n",
       "      <th>sin</th>\n",
       "      <th>sp</th>\n",
       "      <th>tang</th>\n",
       "      <th>tb</th>\n",
       "      <th>ret-rf-fwd</th>\n",
       "    </tr>\n",
       "  </thead>\n",
       "  <tbody>\n",
       "    <tr>\n",
       "      <th>0</th>\n",
       "      <td>10006</td>\n",
       "      <td>19570329</td>\n",
       "      <td>0.000161</td>\n",
       "      <td>-0.625355</td>\n",
       "      <td>0.190161</td>\n",
       "      <td>0.190161</td>\n",
       "      <td>0.786187</td>\n",
       "      <td>0.665090</td>\n",
       "      <td>-0.400189</td>\n",
       "      <td>-0.385052</td>\n",
       "      <td>...</td>\n",
       "      <td>-2.0</td>\n",
       "      <td>-2.0</td>\n",
       "      <td>-2.0</td>\n",
       "      <td>-2.0</td>\n",
       "      <td>0.640492</td>\n",
       "      <td>-2.0</td>\n",
       "      <td>-2.0</td>\n",
       "      <td>-2.0</td>\n",
       "      <td>-2.0</td>\n",
       "      <td>-0.000105</td>\n",
       "    </tr>\n",
       "    <tr>\n",
       "      <th>1</th>\n",
       "      <td>10014</td>\n",
       "      <td>19570329</td>\n",
       "      <td>-0.000023</td>\n",
       "      <td>0.911069</td>\n",
       "      <td>-0.899716</td>\n",
       "      <td>-0.899716</td>\n",
       "      <td>-0.364238</td>\n",
       "      <td>-0.831599</td>\n",
       "      <td>0.967833</td>\n",
       "      <td>0.973510</td>\n",
       "      <td>...</td>\n",
       "      <td>-2.0</td>\n",
       "      <td>-2.0</td>\n",
       "      <td>-2.0</td>\n",
       "      <td>-2.0</td>\n",
       "      <td>-0.009461</td>\n",
       "      <td>-2.0</td>\n",
       "      <td>-2.0</td>\n",
       "      <td>-2.0</td>\n",
       "      <td>-2.0</td>\n",
       "      <td>0.000451</td>\n",
       "    </tr>\n",
       "    <tr>\n",
       "      <th>2</th>\n",
       "      <td>10022</td>\n",
       "      <td>19570329</td>\n",
       "      <td>-0.000061</td>\n",
       "      <td>0.774834</td>\n",
       "      <td>-0.123936</td>\n",
       "      <td>-0.123936</td>\n",
       "      <td>0.048250</td>\n",
       "      <td>-0.678335</td>\n",
       "      <td>0.065279</td>\n",
       "      <td>0.825922</td>\n",
       "      <td>...</td>\n",
       "      <td>-2.0</td>\n",
       "      <td>-2.0</td>\n",
       "      <td>-2.0</td>\n",
       "      <td>-2.0</td>\n",
       "      <td>-0.009461</td>\n",
       "      <td>-2.0</td>\n",
       "      <td>-2.0</td>\n",
       "      <td>-2.0</td>\n",
       "      <td>-2.0</td>\n",
       "      <td>0.000563</td>\n",
       "    </tr>\n",
       "    <tr>\n",
       "      <th>3</th>\n",
       "      <td>10030</td>\n",
       "      <td>19570329</td>\n",
       "      <td>0.000756</td>\n",
       "      <td>-0.006623</td>\n",
       "      <td>-0.250710</td>\n",
       "      <td>-0.250710</td>\n",
       "      <td>0.557237</td>\n",
       "      <td>0.491012</td>\n",
       "      <td>-0.612110</td>\n",
       "      <td>-0.708609</td>\n",
       "      <td>...</td>\n",
       "      <td>-2.0</td>\n",
       "      <td>-2.0</td>\n",
       "      <td>-2.0</td>\n",
       "      <td>-2.0</td>\n",
       "      <td>-0.009461</td>\n",
       "      <td>-2.0</td>\n",
       "      <td>-2.0</td>\n",
       "      <td>-2.0</td>\n",
       "      <td>-2.0</td>\n",
       "      <td>0.000248</td>\n",
       "    </tr>\n",
       "    <tr>\n",
       "      <th>4</th>\n",
       "      <td>10057</td>\n",
       "      <td>19570329</td>\n",
       "      <td>-0.000200</td>\n",
       "      <td>-0.350993</td>\n",
       "      <td>0.345317</td>\n",
       "      <td>0.345317</td>\n",
       "      <td>-0.403974</td>\n",
       "      <td>-0.080416</td>\n",
       "      <td>-0.405866</td>\n",
       "      <td>0.089877</td>\n",
       "      <td>...</td>\n",
       "      <td>-2.0</td>\n",
       "      <td>-2.0</td>\n",
       "      <td>-2.0</td>\n",
       "      <td>-2.0</td>\n",
       "      <td>-0.009461</td>\n",
       "      <td>-2.0</td>\n",
       "      <td>-2.0</td>\n",
       "      <td>-2.0</td>\n",
       "      <td>-2.0</td>\n",
       "      <td>0.000661</td>\n",
       "    </tr>\n",
       "  </tbody>\n",
       "</table>\n",
       "<p>5 rows × 99 columns</p>\n",
       "</div>"
      ],
      "text/plain": [
       "   permno      date    ret-rf  baspread      beta    betasq     chmom  \\\n",
       "0   10006  19570329  0.000161 -0.625355  0.190161  0.190161  0.786187   \n",
       "1   10014  19570329 -0.000023  0.911069 -0.899716 -0.899716 -0.364238   \n",
       "2   10022  19570329 -0.000061  0.774834 -0.123936 -0.123936  0.048250   \n",
       "3   10030  19570329  0.000756 -0.006623 -0.250710 -0.250710  0.557237   \n",
       "4   10057  19570329 -0.000200 -0.350993  0.345317  0.345317 -0.403974   \n",
       "\n",
       "     dolvol   idiovol       ill  ...  salerec  secured  securedind  sgr  \\\n",
       "0  0.665090 -0.400189 -0.385052  ...     -2.0     -2.0        -2.0 -2.0   \n",
       "1 -0.831599  0.967833  0.973510  ...     -2.0     -2.0        -2.0 -2.0   \n",
       "2 -0.678335  0.065279  0.825922  ...     -2.0     -2.0        -2.0 -2.0   \n",
       "3  0.491012 -0.612110 -0.708609  ...     -2.0     -2.0        -2.0 -2.0   \n",
       "4 -0.080416 -0.405866  0.089877  ...     -2.0     -2.0        -2.0 -2.0   \n",
       "\n",
       "       sic2  sin   sp  tang   tb  ret-rf-fwd  \n",
       "0  0.640492 -2.0 -2.0  -2.0 -2.0   -0.000105  \n",
       "1 -0.009461 -2.0 -2.0  -2.0 -2.0    0.000451  \n",
       "2 -0.009461 -2.0 -2.0  -2.0 -2.0    0.000563  \n",
       "3 -0.009461 -2.0 -2.0  -2.0 -2.0    0.000248  \n",
       "4 -0.009461 -2.0 -2.0  -2.0 -2.0    0.000661  \n",
       "\n",
       "[5 rows x 99 columns]"
      ]
     },
     "execution_count": 31,
     "metadata": {},
     "output_type": "execute_result"
    }
   ],
   "source": [
    "df.head(5)"
   ]
  },
  {
   "cell_type": "code",
   "execution_count": 32,
   "metadata": {},
   "outputs": [],
   "source": [
    "n_characteristics=len(characteristics)\n",
    "def make_data(data,factor_mode='return',batch_size=32, shuffle=False):\n",
    "    n_tickers=len(data['permno'].unique())\n",
    "    X_beta = data[characteristics].values.reshape(-1, n_tickers, n_characteristics)\n",
    "    X_factor_ret=data['ret-rf-fwd'].values.reshape(-1, n_tickers, 1)\n",
    "    y=X_factor_ret\n",
    "    if factor_mode=='folios':\n",
    "        Z_t_minus_1 = X_beta\n",
    "        print(Z_t_minus_1.shape)\n",
    "        print((Z_t_minus_1.transpose(0,2,1) @ Z_t_minus_1).shape)\n",
    "        print((np.linalg.pinv(Z_t_minus_1.transpose(0,2,1) @ Z_t_minus_1) @ Z_t_minus_1.transpose(0,2,1)).shape)\n",
    "        print(X_factor_ret.shape)\n",
    "        X_factor=np.linalg.pinv(Z_t_minus_1.transpose(0,2,1) @ Z_t_minus_1) @ Z_t_minus_1.transpose(0,2,1) @ X_factor_ret\n",
    "        print(X_factor.shape)\n",
    "        X_factor=X_factor.reshape(-1,1,n_characteristics)\n",
    "    elif factor_mode=='return':\n",
    "        X_factor=X_factor_ret.reshape(-1,1,n_tickers)\n",
    "    else:\n",
    "        raise ValueError('factor_mode must be either folios or return')\n",
    "\n",
    "    loader=DataLoader(TensorDataset(torch.tensor(X_beta, dtype=torch.float32),\n",
    "                                                        torch.tensor(X_factor, dtype=torch.float32),\n",
    "                                                        torch.tensor(y, dtype=torch.float32)),\n",
    "                            batch_size=batch_size, shuffle=shuffle)\n",
    "    \n",
    "    return loader"
   ]
  },
  {
   "cell_type": "code",
   "execution_count": 33,
   "metadata": {},
   "outputs": [],
   "source": [
    "#  The simplest, which we denote CA0, uses a single linear layer in both the beta and factor networks as described in (18), making it similar (but not identical) to IPCA. Next, CA1 adds a hidden layer with 32 neurons in the beta network. Finally, CA2 and CA3 add a second and third hidden layer, with 16 and 8 neurons respectively, to the beta side.\n",
    "#  CA0 through CA3 all maintain a one-layer linear specification on the factor side of the model. In these cases, the only variation in factor specification is in the number of neurons, which we allow to range from 1 to 6, and which corresponds to the number of factors in the model.\n",
    "class CA(nn.Module):\n",
    "    def __init__(self, stocks_num,character_num, encoding_dim,CA_level='CA1',factor_mode='return'):\n",
    "        super(CA, self).__init__()\n",
    "        \n",
    "        self.stocks_num=stocks_num\n",
    "        self.character_num=character_num\n",
    "        self.encoding_dim=encoding_dim\n",
    "        self.factor_mode=factor_mode\n",
    "        \n",
    "        \n",
    "        self.beta_line_CA0=nn.Sequential(\n",
    "            nn.Linear(character_num, encoding_dim)\n",
    "        )\n",
    "        self.beta_line_CA1=nn.Sequential(\n",
    "            nn.Linear(character_num, 32),\n",
    "            nn.ReLU(inplace=True),\n",
    "            nn.BatchNorm2d(1),\n",
    "            nn.Linear(32, encoding_dim)\n",
    "        )\n",
    "        self.beta_line_CA2=nn.Sequential(\n",
    "            nn.Linear(character_num, 32),\n",
    "            nn.ReLU(inplace=True),\n",
    "            nn.BatchNorm2d(1),\n",
    "            nn.Linear(32, 16),\n",
    "            nn.ReLU(inplace=True),\n",
    "            nn.BatchNorm2d(1),\n",
    "            nn.Linear(16, encoding_dim)\n",
    "        )\n",
    "        self.beta_line_CA3=nn.Sequential(\n",
    "            nn.Linear(character_num, 32),\n",
    "            nn.ReLU(inplace=True),\n",
    "            nn.BatchNorm2d(1),\n",
    "            nn.Linear(32, 16),\n",
    "            nn.ReLU(inplace=True),\n",
    "            nn.BatchNorm2d(1),\n",
    "            nn.Linear(16, 8),\n",
    "            nn.ReLU(inplace=True),\n",
    "            nn.BatchNorm2d(1),\n",
    "            nn.Linear(8, encoding_dim)\n",
    "        )\n",
    "        \n",
    "        self.beta_line_CA_dict={'CA0':self.beta_line_CA0,\n",
    "                                'CA1':self.beta_line_CA1,\n",
    "                                'CA2':self.beta_line_CA2,\n",
    "                                'CA3':self.beta_line_CA3}\n",
    "        \n",
    "        \n",
    "        self.beta_line=self.beta_line_CA_dict[CA_level]\n",
    "        \n",
    "        if factor_mode=='return':\n",
    "            self.factor_line=nn.Sequential(\n",
    "                nn.Linear(stocks_num, encoding_dim),\n",
    "            )\n",
    "        elif factor_mode=='folios':\n",
    "            self.factor_line=nn.Sequential(\n",
    "                nn.Linear(character_num, encoding_dim),\n",
    "            )\n",
    "        else:\n",
    "            raise ValueError('factor_mode must be either folios or return')\n",
    "\n",
    "    def forward(self, beta, factor):\n",
    "        # self.stocks_num=factor.shape[-1]\n",
    "        factor = self.factor_line(factor).view(-1,1, self.encoding_dim)\n",
    "        # print(\"self.stock_num:\",self.stocks_num)\n",
    "        # print(\"beta.shape:\",beta.shape)\n",
    "        beta = self.beta_line(beta.reshape(-1,1,self.stocks_num, self.character_num)).reshape(-1,self.encoding_dim, self.stocks_num)\n",
    "        w = torch.bmm(factor, beta)\n",
    "        # print(w.shape)\n",
    "        return w\n"
   ]
  },
  {
   "cell_type": "code",
   "execution_count": 34,
   "metadata": {},
   "outputs": [],
   "source": [
    "# start_date_train = pd.Timestamp('1957-01-01')\n",
    "# print(int(start_date_train))"
   ]
  },
  {
   "cell_type": "code",
   "execution_count": 35,
   "metadata": {},
   "outputs": [],
   "source": [
    "def fill_nan(data):\n",
    "    df_new = data.groupby('date')\n",
    "    df_return=pd.DataFrame()\n",
    "    for tmp in df_new:\n",
    "        frame=[df_return,tmp[1].set_index('permno').reindex(index=firm_all,fill_value=0.0)]\n",
    "        df_return=pd.concat(frame)\n",
    "    return df_return.reset_index()\n"
   ]
  },
  {
   "cell_type": "code",
   "execution_count": 36,
   "metadata": {},
   "outputs": [
    {
     "name": "stdout",
     "output_type": "stream",
     "text": [
      "1957 :\n",
      "(10, 29853, 95)\n",
      "(10, 95, 95)\n",
      "(10, 95, 29853)\n",
      "(10, 29853, 1)\n",
      "(10, 95, 1)\n",
      "(216, 29853, 95)\n",
      "(216, 95, 95)\n",
      "(216, 95, 29853)\n",
      "(216, 29853, 1)\n",
      "(216, 95, 1)\n"
     ]
    },
    {
     "name": "stderr",
     "output_type": "stream",
     "text": [
      "  0%|          | 0/10 [00:00<?, ?it/s]"
     ]
    },
    {
     "name": "stdout",
     "output_type": "stream",
     "text": [
      "Epoch:  0  Train Loss:  628.9936218261719  Train Acc:  0.14794456213712692\n"
     ]
    },
    {
     "name": "stderr",
     "output_type": "stream",
     "text": [
      " 10%|█         | 1/10 [00:01<00:16,  1.80s/it]"
     ]
    },
    {
     "name": "stdout",
     "output_type": "stream",
     "text": [
      "Epoch:  0  Val Loss:  12290.036976398434  Val Acc:  0 R2: tensor(-120.7601, device='cuda:0', grad_fn=<RsubBackward1>)\n",
      "Epoch:  1  Train Loss:  523.3743286132812  Train Acc:  0.0990471257828176\n"
     ]
    },
    {
     "name": "stderr",
     "output_type": "stream",
     "text": [
      " 20%|██        | 2/10 [00:03<00:11,  1.46s/it]"
     ]
    },
    {
     "name": "stdout",
     "output_type": "stream",
     "text": [
      "Epoch:  1  Val Loss:  10139.46530562867  Val Acc:  0 R2: tensor(-143.7906, device='cuda:0', grad_fn=<RsubBackward1>)\n",
      "Epoch:  2  Train Loss:  428.3347816467285  Train Acc:  0.06206157151609659\n"
     ]
    },
    {
     "name": "stderr",
     "output_type": "stream",
     "text": [
      " 30%|███       | 3/10 [00:04<00:09,  1.35s/it]"
     ]
    },
    {
     "name": "stdout",
     "output_type": "stream",
     "text": [
      "Epoch:  2  Val Loss:  8203.155252866483  Val Acc:  0 R2: tensor(-162.8214, device='cuda:0', grad_fn=<RsubBackward1>)\n",
      "Epoch:  3  Train Loss:  343.27978324890137  Train Acc:  0.03874078253284097\n"
     ]
    },
    {
     "name": "stderr",
     "output_type": "stream",
     "text": [
      " 40%|████      | 4/10 [00:05<00:07,  1.30s/it]"
     ]
    },
    {
     "name": "stdout",
     "output_type": "stream",
     "text": [
      "Epoch:  3  Val Loss:  6492.2039988905235  Val Acc:  0 R2: tensor(-164.0111, device='cuda:0', grad_fn=<RsubBackward1>)\n",
      "Epoch:  4  Train Loss:  268.6500835418701  Train Acc:  0.021902061416767538\n"
     ]
    },
    {
     "name": "stderr",
     "output_type": "stream",
     "text": [
      " 50%|█████     | 5/10 [00:06<00:06,  1.29s/it]"
     ]
    },
    {
     "name": "stdout",
     "output_type": "stream",
     "text": [
      "Epoch:  4  Val Loss:  4996.846592108301  Val Acc:  0 R2: tensor(-148.2161, device='cuda:0', grad_fn=<RsubBackward1>)\n",
      "Epoch:  5  Train Loss:  204.05789375305176  Train Acc:  0.012656972685363144\n"
     ]
    },
    {
     "name": "stderr",
     "output_type": "stream",
     "text": [
      " 60%|██████    | 6/10 [00:07<00:05,  1.28s/it]"
     ]
    },
    {
     "name": "stdout",
     "output_type": "stream",
     "text": [
      "Epoch:  5  Val Loss:  3726.943470541104  Val Acc:  0 R2: tensor(-118.0094, device='cuda:0', grad_fn=<RsubBackward1>)\n",
      "Epoch:  6  Train Loss:  150.2020778656006  Train Acc:  0.008352902135811746\n"
     ]
    },
    {
     "name": "stderr",
     "output_type": "stream",
     "text": [
      " 70%|███████   | 7/10 [00:09<00:03,  1.28s/it]"
     ]
    },
    {
     "name": "stdout",
     "output_type": "stream",
     "text": [
      "Epoch:  6  Val Loss:  2701.940386447186  Val Acc:  0 R2: tensor(-73.0335, device='cuda:0', grad_fn=<RsubBackward1>)\n",
      "Epoch:  7  Train Loss:  107.61463737487793  Train Acc:  0.004917131824186072\n"
     ]
    },
    {
     "name": "stderr",
     "output_type": "stream",
     "text": [
      " 80%|████████  | 8/10 [00:10<00:02,  1.27s/it]"
     ]
    },
    {
     "name": "stdout",
     "output_type": "stream",
     "text": [
      "Epoch:  7  Val Loss:  1906.052851966453  Val Acc:  0 R2: tensor(-32.3918, device='cuda:0', grad_fn=<RsubBackward1>)\n",
      "Epoch:  8  Train Loss:  75.60586357116699  Train Acc:  0.0021257650514598936\n"
     ]
    },
    {
     "name": "stderr",
     "output_type": "stream",
     "text": [
      " 90%|█████████ | 9/10 [00:11<00:01,  1.26s/it]"
     ]
    },
    {
     "name": "stdout",
     "output_type": "stream",
     "text": [
      "Epoch:  8  Val Loss:  1340.6116915766975  Val Acc:  0 R2: tensor(-7.2853, device='cuda:0', grad_fn=<RsubBackward1>)\n",
      "Epoch:  9  Train Loss:  54.37308406829834  Train Acc:  0.00047784422531549353\n"
     ]
    },
    {
     "name": "stderr",
     "output_type": "stream",
     "text": [
      "100%|██████████| 10/10 [00:13<00:00,  1.30s/it]"
     ]
    },
    {
     "name": "stdout",
     "output_type": "stream",
     "text": [
      "Epoch:  9  Val Loss:  1013.634363728694  Val Acc:  0 R2: tensor(-0.6686, device='cuda:0', grad_fn=<RsubBackward1>)\n",
      "1958 :\n"
     ]
    },
    {
     "name": "stderr",
     "output_type": "stream",
     "text": [
      "\n"
     ]
    },
    {
     "name": "stdout",
     "output_type": "stream",
     "text": [
      "(22, 29853, 95)\n",
      "(22, 95, 95)\n",
      "(22, 95, 29853)\n",
      "(22, 29853, 1)\n",
      "(22, 95, 1)\n",
      "(216, 29853, 95)\n",
      "(216, 95, 95)\n",
      "(216, 95, 29853)\n",
      "(216, 29853, 1)\n",
      "(216, 95, 1)\n"
     ]
    },
    {
     "name": "stderr",
     "output_type": "stream",
     "text": [
      "  0%|          | 0/10 [00:00<?, ?it/s]"
     ]
    },
    {
     "name": "stdout",
     "output_type": "stream",
     "text": [
      "Epoch:  0  Train Loss:  83.99397253990173  Train Acc:  3.96953578274406e-05\n"
     ]
    },
    {
     "name": "stderr",
     "output_type": "stream",
     "text": [
      " 10%|█         | 1/10 [00:01<00:12,  1.40s/it]"
     ]
    },
    {
     "name": "stdout",
     "output_type": "stream",
     "text": [
      "Epoch:  0  Val Loss:  640.0652948912945  Val Acc:  0 R2: tensor(-0.1038, device='cuda:0', grad_fn=<RsubBackward1>)\n",
      "Epoch:  1  Train Loss:  52.433295369148254  Train Acc:  1.8727859583123063e-06\n"
     ]
    },
    {
     "name": "stderr",
     "output_type": "stream",
     "text": [
      " 20%|██        | 2/10 [00:02<00:11,  1.39s/it]"
     ]
    },
    {
     "name": "stdout",
     "output_type": "stream",
     "text": [
      "Epoch:  1  Val Loss:  398.8720731092487  Val Acc:  0 R2: tensor(-3.9339e-05, device='cuda:0', grad_fn=<RsubBackward1>)\n",
      "Epoch:  2  Train Loss:  33.430675864219666  Train Acc:  1.152304889728839e-06\n"
     ]
    },
    {
     "name": "stderr",
     "output_type": "stream",
     "text": [
      " 30%|███       | 3/10 [00:04<00:09,  1.39s/it]"
     ]
    },
    {
     "name": "stdout",
     "output_type": "stream",
     "text": [
      "Epoch:  2  Val Loss:  265.8421964011509  Val Acc:  0 R2: tensor(3.6955e-06, device='cuda:0', grad_fn=<RsubBackward1>)\n",
      "Epoch:  3  Train Loss:  24.1494659781456  Train Acc:  1.1525619925123465e-06\n"
     ]
    },
    {
     "name": "stderr",
     "output_type": "stream",
     "text": [
      " 40%|████      | 4/10 [00:05<00:08,  1.39s/it]"
     ]
    },
    {
     "name": "stdout",
     "output_type": "stream",
     "text": [
      "Epoch:  3  Val Loss:  210.2266017758058  Val Acc:  0 R2: tensor(2.6822e-06, device='cuda:0', grad_fn=<RsubBackward1>)\n",
      "Epoch:  4  Train Loss:  19.62546670436859  Train Acc:  1.152571709184258e-06\n"
     ]
    },
    {
     "name": "stderr",
     "output_type": "stream",
     "text": [
      " 50%|█████     | 5/10 [00:06<00:06,  1.39s/it]"
     ]
    },
    {
     "name": "stdout",
     "output_type": "stream",
     "text": [
      "Epoch:  4  Val Loss:  176.2335035763709  Val Acc:  0 R2: tensor(5.3644e-07, device='cuda:0', grad_fn=<RsubBackward1>)\n",
      "Epoch:  5  Train Loss:  16.764106273651123  Train Acc:  1.1525723113692266e-06\n"
     ]
    },
    {
     "name": "stderr",
     "output_type": "stream",
     "text": [
      " 60%|██████    | 6/10 [00:08<00:05,  1.39s/it]"
     ]
    },
    {
     "name": "stdout",
     "output_type": "stream",
     "text": [
      "Epoch:  5  Val Loss:  153.6158640347453  Val Acc:  0 R2: tensor(2.0862e-06, device='cuda:0', grad_fn=<RsubBackward1>)\n",
      "Epoch:  6  Train Loss:  15.017194211483002  Train Acc:  1.1525768996989427e-06\n"
     ]
    },
    {
     "name": "stderr",
     "output_type": "stream",
     "text": [
      " 70%|███████   | 7/10 [00:09<00:04,  1.39s/it]"
     ]
    },
    {
     "name": "stdout",
     "output_type": "stream",
     "text": [
      "Epoch:  6  Val Loss:  142.93460392579976  Val Acc:  0 R2: tensor(-1.1921e-07, device='cuda:0', grad_fn=<RsubBackward1>)\n",
      "Epoch:  7  Train Loss:  14.079788446426392  Train Acc:  1.1525770933218382e-06\n"
     ]
    },
    {
     "name": "stderr",
     "output_type": "stream",
     "text": [
      " 80%|████████  | 8/10 [00:11<00:02,  1.40s/it]"
     ]
    },
    {
     "name": "stdout",
     "output_type": "stream",
     "text": [
      "Epoch:  7  Val Loss:  134.10181492206053  Val Acc:  0 R2: tensor(5.3644e-06, device='cuda:0', grad_fn=<RsubBackward1>)\n",
      "Epoch:  8  Train Loss:  13.3127880692482  Train Acc:  1.152573833707038e-06\n"
     ]
    },
    {
     "name": "stderr",
     "output_type": "stream",
     "text": [
      " 90%|█████████ | 9/10 [00:12<00:01,  1.39s/it]"
     ]
    },
    {
     "name": "stdout",
     "output_type": "stream",
     "text": [
      "Epoch:  8  Val Loss:  127.5373251401127  Val Acc:  0 R2: tensor(-2.3842e-07, device='cuda:0', grad_fn=<RsubBackward1>)\n",
      "Epoch:  9  Train Loss:  12.702116847038269  Train Acc:  1.152573632978715e-06\n"
     ]
    },
    {
     "name": "stderr",
     "output_type": "stream",
     "text": [
      "100%|██████████| 10/10 [00:13<00:00,  1.39s/it]"
     ]
    },
    {
     "name": "stdout",
     "output_type": "stream",
     "text": [
      "Epoch:  9  Val Loss:  122.15321755032912  Val Acc:  0 R2: tensor(-3.9339e-06, device='cuda:0', grad_fn=<RsubBackward1>)\n",
      "1959 :\n"
     ]
    },
    {
     "name": "stderr",
     "output_type": "stream",
     "text": [
      "\n"
     ]
    },
    {
     "name": "stdout",
     "output_type": "stream",
     "text": [
      "(34, 29853, 95)\n",
      "(34, 95, 95)\n",
      "(34, 95, 29853)\n",
      "(34, 29853, 1)\n",
      "(34, 95, 1)\n",
      "(216, 29853, 95)\n",
      "(216, 95, 95)\n",
      "(216, 95, 29853)\n",
      "(216, 29853, 1)\n",
      "(216, 95, 1)\n"
     ]
    },
    {
     "name": "stderr",
     "output_type": "stream",
     "text": [
      "  0%|          | 0/10 [00:00<?, ?it/s]"
     ]
    },
    {
     "name": "stdout",
     "output_type": "stream",
     "text": [
      "Epoch:  0  Train Loss:  18.699373602867126  Train Acc:  1.6334065211509596e-06\n"
     ]
    },
    {
     "name": "stderr",
     "output_type": "stream",
     "text": [
      " 10%|█         | 1/10 [00:01<00:15,  1.75s/it]"
     ]
    },
    {
     "name": "stdout",
     "output_type": "stream",
     "text": [
      "Epoch:  0  Val Loss:  116.17945179243385  Val Acc:  0 R2: tensor(9.5367e-07, device='cuda:0', grad_fn=<RsubBackward1>)\n",
      "Epoch:  1  Train Loss:  17.921583831310272  Train Acc:  1.6334041514909359e-06\n"
     ]
    },
    {
     "name": "stderr",
     "output_type": "stream",
     "text": [
      " 20%|██        | 2/10 [00:03<00:14,  1.77s/it]"
     ]
    },
    {
     "name": "stdout",
     "output_type": "stream",
     "text": [
      "Epoch:  1  Val Loss:  111.55443081160651  Val Acc:  0 R2: tensor(-7.1526e-07, device='cuda:0', grad_fn=<RsubBackward1>)\n",
      "Epoch:  2  Train Loss:  17.225067168474197  Train Acc:  1.6334053860589393e-06\n"
     ]
    },
    {
     "name": "stderr",
     "output_type": "stream",
     "text": [
      " 30%|███       | 3/10 [00:05<00:11,  1.70s/it]"
     ]
    },
    {
     "name": "stdout",
     "output_type": "stream",
     "text": [
      "Epoch:  2  Val Loss:  107.42078176038466  Val Acc:  0 R2: tensor(7.1526e-06, device='cuda:0', grad_fn=<RsubBackward1>)\n",
      "Epoch:  3  Train Loss:  16.534791350364685  Train Acc:  1.633412754387109e-06\n"
     ]
    },
    {
     "name": "stderr",
     "output_type": "stream",
     "text": [
      " 40%|████      | 4/10 [00:06<00:09,  1.66s/it]"
     ]
    },
    {
     "name": "stdout",
     "output_type": "stream",
     "text": [
      "Epoch:  3  Val Loss:  102.87336888807737  Val Acc:  0 R2: tensor(2.2650e-06, device='cuda:0', grad_fn=<RsubBackward1>)\n",
      "Epoch:  4  Train Loss:  15.840914100408554  Train Acc:  1.6334023662523123e-06\n"
     ]
    },
    {
     "name": "stderr",
     "output_type": "stream",
     "text": [
      " 50%|█████     | 5/10 [00:08<00:08,  1.64s/it]"
     ]
    },
    {
     "name": "stdout",
     "output_type": "stream",
     "text": [
      "Epoch:  4  Val Loss:  98.21960535542696  Val Acc:  0 R2: tensor(1.6689e-06, device='cuda:0', grad_fn=<RsubBackward1>)\n",
      "Epoch:  5  Train Loss:  15.154681950807571  Train Acc:  1.633411738310997e-06\n"
     ]
    },
    {
     "name": "stderr",
     "output_type": "stream",
     "text": [
      " 60%|██████    | 6/10 [00:09<00:06,  1.63s/it]"
     ]
    },
    {
     "name": "stdout",
     "output_type": "stream",
     "text": [
      "Epoch:  5  Val Loss:  93.95319357414411  Val Acc:  0 R2: tensor(2.3842e-07, device='cuda:0', grad_fn=<RsubBackward1>)\n",
      "Epoch:  6  Train Loss:  14.454896926879883  Train Acc:  1.633405101841845e-06\n"
     ]
    },
    {
     "name": "stderr",
     "output_type": "stream",
     "text": [
      " 70%|███████   | 7/10 [00:11<00:04,  1.61s/it]"
     ]
    },
    {
     "name": "stdout",
     "output_type": "stream",
     "text": [
      "Epoch:  6  Val Loss:  89.67449942130779  Val Acc:  0 R2: tensor(5.9605e-07, device='cuda:0', grad_fn=<RsubBackward1>)\n",
      "Epoch:  7  Train Loss:  13.76929372549057  Train Acc:  1.6334104273596495e-06\n"
     ]
    },
    {
     "name": "stderr",
     "output_type": "stream",
     "text": [
      " 80%|████████  | 8/10 [00:13<00:03,  1.61s/it]"
     ]
    },
    {
     "name": "stdout",
     "output_type": "stream",
     "text": [
      "Epoch:  7  Val Loss:  84.97405901444984  Val Acc:  0 R2: tensor(3.9339e-06, device='cuda:0', grad_fn=<RsubBackward1>)\n",
      "Epoch:  8  Train Loss:  13.070726066827774  Train Acc:  1.6334091323955136e-06\n"
     ]
    },
    {
     "name": "stderr",
     "output_type": "stream",
     "text": [
      " 90%|█████████ | 9/10 [00:14<00:01,  1.60s/it]"
     ]
    },
    {
     "name": "stdout",
     "output_type": "stream",
     "text": [
      "Epoch:  8  Val Loss:  80.71141949196377  Val Acc:  0 R2: tensor(-4.7684e-07, device='cuda:0', grad_fn=<RsubBackward1>)\n",
      "Epoch:  9  Train Loss:  12.383534908294678  Train Acc:  1.6333962395975732e-06\n"
     ]
    },
    {
     "name": "stderr",
     "output_type": "stream",
     "text": [
      "100%|██████████| 10/10 [00:16<00:00,  1.63s/it]"
     ]
    },
    {
     "name": "stdout",
     "output_type": "stream",
     "text": [
      "Epoch:  9  Val Loss:  76.58088627358661  Val Acc:  0 R2: tensor(-1.0729e-06, device='cuda:0', grad_fn=<RsubBackward1>)\n",
      "1960 :\n"
     ]
    },
    {
     "name": "stderr",
     "output_type": "stream",
     "text": [
      "\n"
     ]
    },
    {
     "name": "stdout",
     "output_type": "stream",
     "text": [
      "(46, 29853, 95)\n",
      "(46, 95, 95)\n",
      "(46, 95, 29853)\n",
      "(46, 29853, 1)\n",
      "(46, 95, 1)\n",
      "(216, 29853, 95)\n",
      "(216, 95, 95)\n",
      "(216, 95, 29853)\n",
      "(216, 29853, 1)\n",
      "(216, 95, 1)\n"
     ]
    },
    {
     "name": "stderr",
     "output_type": "stream",
     "text": [
      "  0%|          | 0/10 [00:00<?, ?it/s]"
     ]
    },
    {
     "name": "stdout",
     "output_type": "stream",
     "text": [
      "Epoch:  0  Train Loss:  15.647882789373398  Train Acc:  2.273009702236095e-06\n"
     ]
    },
    {
     "name": "stderr",
     "output_type": "stream",
     "text": [
      " 10%|█         | 1/10 [00:01<00:15,  1.73s/it]"
     ]
    },
    {
     "name": "stdout",
     "output_type": "stream",
     "text": [
      "Epoch:  0  Val Loss:  70.06585672461804  Val Acc:  0 R2: tensor(1.4305e-06, device='cuda:0', grad_fn=<RsubBackward1>)\n",
      "Epoch:  1  Train Loss:  14.38474616408348  Train Acc:  2.2729983175651114e-06\n"
     ]
    },
    {
     "name": "stderr",
     "output_type": "stream",
     "text": [
      " 20%|██        | 2/10 [00:03<00:13,  1.73s/it]"
     ]
    },
    {
     "name": "stdout",
     "output_type": "stream",
     "text": [
      "Epoch:  1  Val Loss:  64.31697943759606  Val Acc:  0 R2: tensor(-1.4424e-05, device='cuda:0', grad_fn=<RsubBackward1>)\n",
      "Epoch:  2  Train Loss:  13.111656159162521  Train Acc:  2.2730046076446797e-06\n"
     ]
    },
    {
     "name": "stderr",
     "output_type": "stream",
     "text": [
      " 30%|███       | 3/10 [00:05<00:12,  1.72s/it]"
     ]
    },
    {
     "name": "stdout",
     "output_type": "stream",
     "text": [
      "Epoch:  2  Val Loss:  58.71271613197097  Val Acc:  0 R2: tensor(1.0133e-06, device='cuda:0', grad_fn=<RsubBackward1>)\n",
      "Epoch:  3  Train Loss:  11.846738308668137  Train Acc:  2.273002504438182e-06\n"
     ]
    },
    {
     "name": "stderr",
     "output_type": "stream",
     "text": [
      " 40%|████      | 4/10 [00:06<00:10,  1.72s/it]"
     ]
    },
    {
     "name": "stdout",
     "output_type": "stream",
     "text": [
      "Epoch:  3  Val Loss:  52.61593493773561  Val Acc:  0 R2: tensor(-7.0333e-06, device='cuda:0', grad_fn=<RsubBackward1>)\n",
      "Epoch:  4  Train Loss:  10.572429493069649  Train Acc:  2.2729983619740324e-06\n"
     ]
    },
    {
     "name": "stderr",
     "output_type": "stream",
     "text": [
      " 50%|█████     | 5/10 [00:08<00:08,  1.72s/it]"
     ]
    },
    {
     "name": "stdout",
     "output_type": "stream",
     "text": [
      "Epoch:  4  Val Loss:  46.72976288151955  Val Acc:  0 R2: tensor(-2.3842e-06, device='cuda:0', grad_fn=<RsubBackward1>)\n",
      "Epoch:  5  Train Loss:  9.308160781860352  Train Acc:  2.272994683139018e-06\n"
     ]
    },
    {
     "name": "stderr",
     "output_type": "stream",
     "text": [
      " 60%|██████    | 6/10 [00:10<00:06,  1.72s/it]"
     ]
    },
    {
     "name": "stdout",
     "output_type": "stream",
     "text": [
      "Epoch:  5  Val Loss:  40.83092543445576  Val Acc:  0 R2: tensor(5.7220e-06, device='cuda:0', grad_fn=<RsubBackward1>)\n",
      "Epoch:  6  Train Loss:  8.045893847942352  Train Acc:  2.2730003621518335e-06\n"
     ]
    },
    {
     "name": "stderr",
     "output_type": "stream",
     "text": [
      " 70%|███████   | 7/10 [00:12<00:05,  1.72s/it]"
     ]
    },
    {
     "name": "stdout",
     "output_type": "stream",
     "text": [
      "Epoch:  6  Val Loss:  34.756697266884586  Val Acc:  0 R2: tensor(3.9935e-06, device='cuda:0', grad_fn=<RsubBackward1>)\n",
      "Epoch:  7  Train Loss:  6.989704221487045  Train Acc:  2.2729952071642856e-06\n"
     ]
    },
    {
     "name": "stderr",
     "output_type": "stream",
     "text": [
      " 80%|████████  | 8/10 [00:13<00:03,  1.70s/it]"
     ]
    },
    {
     "name": "stdout",
     "output_type": "stream",
     "text": [
      "Epoch:  7  Val Loss:  31.734947412787438  Val Acc:  0 R2: tensor(-9.5367e-07, device='cuda:0', grad_fn=<RsubBackward1>)\n",
      "Epoch:  8  Train Loss:  6.7989528477191925  Train Acc:  2.272993212315555e-06\n"
     ]
    },
    {
     "name": "stderr",
     "output_type": "stream",
     "text": [
      " 90%|█████████ | 9/10 [00:15<00:01,  1.69s/it]"
     ]
    },
    {
     "name": "stdout",
     "output_type": "stream",
     "text": [
      "Epoch:  8  Val Loss:  32.26996442633316  Val Acc:  0 R2: tensor(3.4571e-06, device='cuda:0', grad_fn=<RsubBackward1>)\n",
      "Epoch:  9  Train Loss:  6.799810230731964  Train Acc:  2.2729962942946713e-06\n"
     ]
    },
    {
     "name": "stderr",
     "output_type": "stream",
     "text": [
      "100%|██████████| 10/10 [00:17<00:00,  1.70s/it]"
     ]
    },
    {
     "name": "stdout",
     "output_type": "stream",
     "text": [
      "Epoch:  9  Val Loss:  31.91308686084156  Val Acc:  0 R2: tensor(-1.4782e-05, device='cuda:0', grad_fn=<RsubBackward1>)\n",
      "1961 :\n"
     ]
    },
    {
     "name": "stderr",
     "output_type": "stream",
     "text": [
      "\n"
     ]
    },
    {
     "name": "stdout",
     "output_type": "stream",
     "text": [
      "(58, 29853, 95)\n",
      "(58, 95, 95)\n",
      "(58, 95, 29853)\n",
      "(58, 29853, 1)\n",
      "(58, 95, 1)\n",
      "(216, 29853, 95)\n",
      "(216, 95, 95)\n",
      "(216, 95, 29853)\n",
      "(216, 29853, 1)\n",
      "(216, 95, 1)\n"
     ]
    },
    {
     "name": "stderr",
     "output_type": "stream",
     "text": [
      "  0%|          | 0/10 [00:00<?, ?it/s]"
     ]
    },
    {
     "name": "stdout",
     "output_type": "stream",
     "text": [
      "Epoch:  0  Train Loss:  8.571623548865318  Train Acc:  2.9386099633654794e-06\n"
     ]
    },
    {
     "name": "stderr",
     "output_type": "stream",
     "text": [
      " 10%|█         | 1/10 [00:01<00:16,  1.84s/it]"
     ]
    },
    {
     "name": "stdout",
     "output_type": "stream",
     "text": [
      "Epoch:  0  Val Loss:  32.19853151721442  Val Acc:  0 R2: tensor(2.9206e-06, device='cuda:0', grad_fn=<RsubBackward1>)\n",
      "Epoch:  1  Train Loss:  8.576267451047897  Train Acc:  2.938602435165194e-06\n"
     ]
    },
    {
     "name": "stderr",
     "output_type": "stream",
     "text": [
      " 20%|██        | 2/10 [00:03<00:14,  1.80s/it]"
     ]
    },
    {
     "name": "stdout",
     "output_type": "stream",
     "text": [
      "Epoch:  1  Val Loss:  31.997906574401846  Val Acc:  0 R2: tensor(-4.7684e-07, device='cuda:0', grad_fn=<RsubBackward1>)\n",
      "Epoch:  2  Train Loss:  8.573510855436325  Train Acc:  2.9386131945585703e-06\n"
     ]
    },
    {
     "name": "stderr",
     "output_type": "stream",
     "text": [
      " 30%|███       | 3/10 [00:05<00:12,  1.79s/it]"
     ]
    },
    {
     "name": "stdout",
     "output_type": "stream",
     "text": [
      "Epoch:  2  Val Loss:  32.012699493586936  Val Acc:  0 R2: tensor(-3.5763e-07, device='cuda:0', grad_fn=<RsubBackward1>)\n",
      "Epoch:  3  Train Loss:  8.57252861559391  Train Acc:  2.9386108799656085e-06\n"
     ]
    },
    {
     "name": "stderr",
     "output_type": "stream",
     "text": [
      " 40%|████      | 4/10 [00:07<00:10,  1.78s/it]"
     ]
    },
    {
     "name": "stdout",
     "output_type": "stream",
     "text": [
      "Epoch:  3  Val Loss:  31.70055473719009  Val Acc:  0 R2: tensor(-8.9407e-06, device='cuda:0', grad_fn=<RsubBackward1>)\n",
      "Epoch:  4  Train Loss:  8.570851191878319  Train Acc:  2.9386154913879636e-06\n"
     ]
    },
    {
     "name": "stderr",
     "output_type": "stream",
     "text": [
      " 50%|█████     | 5/10 [00:08<00:08,  1.79s/it]"
     ]
    },
    {
     "name": "stdout",
     "output_type": "stream",
     "text": [
      "Epoch:  4  Val Loss:  31.96297133844831  Val Acc:  0 R2: tensor(-3.5763e-07, device='cuda:0', grad_fn=<RsubBackward1>)\n",
      "Epoch:  5  Train Loss:  8.575216591358185  Train Acc:  2.9386120967700435e-06\n"
     ]
    },
    {
     "name": "stderr",
     "output_type": "stream",
     "text": [
      " 60%|██████    | 6/10 [00:10<00:07,  1.78s/it]"
     ]
    },
    {
     "name": "stdout",
     "output_type": "stream",
     "text": [
      "Epoch:  5  Val Loss:  32.00342012328458  Val Acc:  0 R2: tensor(-4.7684e-07, device='cuda:0', grad_fn=<RsubBackward1>)\n",
      "Epoch:  6  Train Loss:  8.574426308274269  Train Acc:  2.9386098265860028e-06\n"
     ]
    },
    {
     "name": "stderr",
     "output_type": "stream",
     "text": [
      " 70%|███████   | 7/10 [00:12<00:05,  1.78s/it]"
     ]
    },
    {
     "name": "stdout",
     "output_type": "stream",
     "text": [
      "Epoch:  6  Val Loss:  31.989122876349647  Val Acc:  0 R2: tensor(1.1921e-07, device='cuda:0', grad_fn=<RsubBackward1>)\n",
      "Epoch:  7  Train Loss:  8.576819896697998  Train Acc:  2.9386061370928473e-06\n"
     ]
    },
    {
     "name": "stderr",
     "output_type": "stream",
     "text": [
      " 80%|████████  | 8/10 [00:14<00:03,  1.78s/it]"
     ]
    },
    {
     "name": "stdout",
     "output_type": "stream",
     "text": [
      "Epoch:  7  Val Loss:  31.81458187982483  Val Acc:  0 R2: tensor(4.4703e-06, device='cuda:0', grad_fn=<RsubBackward1>)\n",
      "Epoch:  8  Train Loss:  8.572868689894676  Train Acc:  2.9386098514549985e-06\n"
     ]
    },
    {
     "name": "stderr",
     "output_type": "stream",
     "text": [
      " 90%|█████████ | 9/10 [00:16<00:01,  1.78s/it]"
     ]
    },
    {
     "name": "stdout",
     "output_type": "stream",
     "text": [
      "Epoch:  8  Val Loss:  31.73034978789667  Val Acc:  0 R2: tensor(-3.5763e-07, device='cuda:0', grad_fn=<RsubBackward1>)\n",
      "Epoch:  9  Train Loss:  8.574371725320816  Train Acc:  2.9386090574234913e-06\n"
     ]
    },
    {
     "name": "stderr",
     "output_type": "stream",
     "text": [
      "100%|██████████| 10/10 [00:17<00:00,  1.79s/it]"
     ]
    },
    {
     "name": "stdout",
     "output_type": "stream",
     "text": [
      "Epoch:  9  Val Loss:  31.902068027701127  Val Acc:  0 R2: tensor(2.9802e-07, device='cuda:0', grad_fn=<RsubBackward1>)\n",
      "1962 :\n"
     ]
    },
    {
     "name": "stderr",
     "output_type": "stream",
     "text": [
      "\n"
     ]
    },
    {
     "name": "stdout",
     "output_type": "stream",
     "text": [
      "(70, 29853, 95)\n",
      "(70, 95, 95)\n",
      "(70, 95, 29853)\n",
      "(70, 29853, 1)\n",
      "(70, 95, 1)\n",
      "(216, 29853, 95)\n",
      "(216, 95, 95)\n",
      "(216, 95, 29853)\n",
      "(216, 29853, 1)\n",
      "(216, 95, 1)\n"
     ]
    },
    {
     "name": "stderr",
     "output_type": "stream",
     "text": [
      "  0%|          | 0/10 [00:00<?, ?it/s]"
     ]
    },
    {
     "name": "stdout",
     "output_type": "stream",
     "text": [
      "Epoch:  0  Train Loss:  10.345941886305809  Train Acc:  4.184929375483648e-06\n"
     ]
    },
    {
     "name": "stderr",
     "output_type": "stream",
     "text": [
      " 10%|█         | 1/10 [00:01<00:17,  1.97s/it]"
     ]
    },
    {
     "name": "stdout",
     "output_type": "stream",
     "text": [
      "Epoch:  0  Val Loss:  31.87173032188241  Val Acc:  0 R2: tensor(1.7881e-07, device='cuda:0', grad_fn=<RsubBackward1>)\n",
      "Epoch:  1  Train Loss:  10.351205170154572  Train Acc:  4.184937795415067e-06\n"
     ]
    },
    {
     "name": "stderr",
     "output_type": "stream",
     "text": [
      " 20%|██        | 2/10 [00:03<00:15,  1.96s/it]"
     ]
    },
    {
     "name": "stdout",
     "output_type": "stream",
     "text": [
      "Epoch:  1  Val Loss:  31.779532069193586  Val Acc:  0 R2: tensor(2.6822e-06, device='cuda:0', grad_fn=<RsubBackward1>)\n",
      "Epoch:  2  Train Loss:  10.345082014799118  Train Acc:  4.184944593532691e-06\n"
     ]
    },
    {
     "name": "stderr",
     "output_type": "stream",
     "text": [
      " 30%|███       | 3/10 [00:05<00:13,  1.96s/it]"
     ]
    },
    {
     "name": "stdout",
     "output_type": "stream",
     "text": [
      "Epoch:  2  Val Loss:  31.947130435952552  Val Acc:  0 R2: tensor(-9.5367e-07, device='cuda:0', grad_fn=<RsubBackward1>)\n",
      "Epoch:  3  Train Loss:  10.350416049361229  Train Acc:  4.184935868067896e-06\n"
     ]
    },
    {
     "name": "stderr",
     "output_type": "stream",
     "text": [
      " 40%|████      | 4/10 [00:07<00:11,  1.96s/it]"
     ]
    },
    {
     "name": "stdout",
     "output_type": "stream",
     "text": [
      "Epoch:  3  Val Loss:  31.81136774445107  Val Acc:  0 R2: tensor(-1.0729e-06, device='cuda:0', grad_fn=<RsubBackward1>)\n",
      "Epoch:  4  Train Loss:  10.343472585082054  Train Acc:  4.18494427378846e-06\n"
     ]
    },
    {
     "name": "stderr",
     "output_type": "stream",
     "text": [
      " 50%|█████     | 5/10 [00:09<00:09,  1.96s/it]"
     ]
    },
    {
     "name": "stdout",
     "output_type": "stream",
     "text": [
      "Epoch:  4  Val Loss:  31.885898822859566  Val Acc:  0 R2: tensor(1.7285e-06, device='cuda:0', grad_fn=<RsubBackward1>)\n",
      "Epoch:  5  Train Loss:  10.351594969630241  Train Acc:  4.184942232754452e-06\n"
     ]
    },
    {
     "name": "stderr",
     "output_type": "stream",
     "text": [
      " 60%|██████    | 6/10 [00:11<00:07,  1.96s/it]"
     ]
    },
    {
     "name": "stdout",
     "output_type": "stream",
     "text": [
      "Epoch:  5  Val Loss:  31.97466599372548  Val Acc:  0 R2: tensor(6.0797e-06, device='cuda:0', grad_fn=<RsubBackward1>)\n",
      "Epoch:  6  Train Loss:  10.344105929136276  Train Acc:  4.184954304875532e-06\n"
     ]
    },
    {
     "name": "stderr",
     "output_type": "stream",
     "text": [
      " 70%|███████   | 7/10 [00:13<00:05,  1.96s/it]"
     ]
    },
    {
     "name": "stdout",
     "output_type": "stream",
     "text": [
      "Epoch:  6  Val Loss:  32.11536287690681  Val Acc:  0 R2: tensor(1.1921e-07, device='cuda:0', grad_fn=<RsubBackward1>)\n",
      "Epoch:  7  Train Loss:  10.35061913728714  Train Acc:  4.1849375218561136e-06\n"
     ]
    },
    {
     "name": "stderr",
     "output_type": "stream",
     "text": [
      " 80%|████████  | 8/10 [00:15<00:03,  1.96s/it]"
     ]
    },
    {
     "name": "stdout",
     "output_type": "stream",
     "text": [
      "Epoch:  7  Val Loss:  32.04917132287144  Val Acc:  0 R2: tensor(1.1921e-07, device='cuda:0', grad_fn=<RsubBackward1>)\n",
      "Epoch:  8  Train Loss:  10.342134028673172  Train Acc:  4.184947650642812e-06\n"
     ]
    },
    {
     "name": "stderr",
     "output_type": "stream",
     "text": [
      " 90%|█████████ | 9/10 [00:17<00:01,  1.96s/it]"
     ]
    },
    {
     "name": "stdout",
     "output_type": "stream",
     "text": [
      "Epoch:  8  Val Loss:  32.16808115862764  Val Acc:  0 R2: tensor(1.1325e-06, device='cuda:0', grad_fn=<RsubBackward1>)\n",
      "Epoch:  9  Train Loss:  10.351276308298111  Train Acc:  4.184928675599053e-06\n"
     ]
    },
    {
     "name": "stderr",
     "output_type": "stream",
     "text": [
      "100%|██████████| 10/10 [00:19<00:00,  1.96s/it]"
     ]
    },
    {
     "name": "stdout",
     "output_type": "stream",
     "text": [
      "Epoch:  9  Val Loss:  31.567197674706257  Val Acc:  0 R2: tensor(1.6093e-06, device='cuda:0', grad_fn=<RsubBackward1>)\n",
      "1963 :\n"
     ]
    },
    {
     "name": "stderr",
     "output_type": "stream",
     "text": [
      "\n"
     ]
    },
    {
     "name": "stdout",
     "output_type": "stream",
     "text": [
      "(82, 29853, 95)\n",
      "(82, 95, 95)\n",
      "(82, 95, 29853)\n",
      "(82, 29853, 1)\n",
      "(82, 95, 1)\n",
      "(216, 29853, 95)\n",
      "(216, 95, 95)\n",
      "(216, 95, 29853)\n",
      "(216, 29853, 1)\n",
      "(216, 95, 1)\n"
     ]
    },
    {
     "name": "stderr",
     "output_type": "stream",
     "text": [
      "  0%|          | 0/10 [00:00<?, ?it/s]"
     ]
    },
    {
     "name": "stdout",
     "output_type": "stream",
     "text": [
      "Epoch:  0  Train Loss:  12.1282347291708  Train Acc:  6.076310581804023e-06\n"
     ]
    },
    {
     "name": "stderr",
     "output_type": "stream",
     "text": [
      " 10%|█         | 1/10 [00:02<00:18,  2.07s/it]"
     ]
    },
    {
     "name": "stdout",
     "output_type": "stream",
     "text": [
      "Epoch:  0  Val Loss:  31.705028825626897  Val Acc:  0 R2: tensor(-1.0729e-06, device='cuda:0', grad_fn=<RsubBackward1>)\n",
      "Epoch:  1  Train Loss:  12.112802878022194  Train Acc:  6.0763227764937255e-06\n"
     ]
    },
    {
     "name": "stderr",
     "output_type": "stream",
     "text": [
      " 20%|██        | 2/10 [00:04<00:16,  2.06s/it]"
     ]
    },
    {
     "name": "stdout",
     "output_type": "stream",
     "text": [
      "Epoch:  1  Val Loss:  32.248288803915  Val Acc:  0 R2: tensor(-1.5497e-06, device='cuda:0', grad_fn=<RsubBackward1>)\n",
      "Epoch:  2  Train Loss:  12.12720511853695  Train Acc:  6.076303890267809e-06\n"
     ]
    },
    {
     "name": "stderr",
     "output_type": "stream",
     "text": [
      " 30%|███       | 3/10 [00:06<00:14,  2.06s/it]"
     ]
    },
    {
     "name": "stdout",
     "output_type": "stream",
     "text": [
      "Epoch:  2  Val Loss:  32.002235823499205  Val Acc:  0 R2: tensor(-3.0994e-06, device='cuda:0', grad_fn=<RsubBackward1>)\n",
      "Epoch:  3  Train Loss:  12.11567209661007  Train Acc:  6.076327274229243e-06\n"
     ]
    },
    {
     "name": "stderr",
     "output_type": "stream",
     "text": [
      " 40%|████      | 4/10 [00:08<00:12,  2.06s/it]"
     ]
    },
    {
     "name": "stdout",
     "output_type": "stream",
     "text": [
      "Epoch:  3  Val Loss:  31.85035734734131  Val Acc:  0 R2: tensor(0., device='cuda:0', grad_fn=<RsubBackward1>)\n",
      "Epoch:  4  Train Loss:  12.12480753660202  Train Acc:  6.07633410432129e-06\n"
     ]
    },
    {
     "name": "stderr",
     "output_type": "stream",
     "text": [
      " 50%|█████     | 5/10 [00:10<00:10,  2.05s/it]"
     ]
    },
    {
     "name": "stdout",
     "output_type": "stream",
     "text": [
      "Epoch:  4  Val Loss:  32.031226211363204  Val Acc:  0 R2: tensor(1.5855e-05, device='cuda:0', grad_fn=<RsubBackward1>)\n",
      "Epoch:  5  Train Loss:  12.1212690025568  Train Acc:  6.076311787950317e-06\n"
     ]
    },
    {
     "name": "stderr",
     "output_type": "stream",
     "text": [
      " 60%|██████    | 6/10 [00:12<00:08,  2.06s/it]"
     ]
    },
    {
     "name": "stdout",
     "output_type": "stream",
     "text": [
      "Epoch:  5  Val Loss:  31.741042309612382  Val Acc:  0 R2: tensor(-3.5763e-07, device='cuda:0', grad_fn=<RsubBackward1>)\n",
      "Epoch:  6  Train Loss:  12.117521300911903  Train Acc:  6.076316202197063e-06\n"
     ]
    },
    {
     "name": "stderr",
     "output_type": "stream",
     "text": [
      " 70%|███████   | 7/10 [00:14<00:06,  2.06s/it]"
     ]
    },
    {
     "name": "stdout",
     "output_type": "stream",
     "text": [
      "Epoch:  6  Val Loss:  31.88091521819601  Val Acc:  0 R2: tensor(-9.5367e-07, device='cuda:0', grad_fn=<RsubBackward1>)\n",
      "Epoch:  7  Train Loss:  12.12864476442337  Train Acc:  6.076332821791652e-06\n"
     ]
    },
    {
     "name": "stderr",
     "output_type": "stream",
     "text": [
      " 80%|████████  | 8/10 [00:16<00:04,  2.05s/it]"
     ]
    },
    {
     "name": "stdout",
     "output_type": "stream",
     "text": [
      "Epoch:  7  Val Loss:  31.89749126991026  Val Acc:  0 R2: tensor(1.6093e-06, device='cuda:0', grad_fn=<RsubBackward1>)\n",
      "Epoch:  8  Train Loss:  12.117774546146393  Train Acc:  6.076318863179608e-06\n"
     ]
    },
    {
     "name": "stderr",
     "output_type": "stream",
     "text": [
      " 90%|█████████ | 9/10 [00:18<00:02,  2.05s/it]"
     ]
    },
    {
     "name": "stdout",
     "output_type": "stream",
     "text": [
      "Epoch:  8  Val Loss:  32.12441258992638  Val Acc:  0 R2: tensor(-1.1683e-05, device='cuda:0', grad_fn=<RsubBackward1>)\n",
      "Epoch:  9  Train Loss:  12.122950822114944  Train Acc:  6.076320273606939e-06\n"
     ]
    },
    {
     "name": "stderr",
     "output_type": "stream",
     "text": [
      "100%|██████████| 10/10 [00:20<00:00,  2.06s/it]"
     ]
    },
    {
     "name": "stdout",
     "output_type": "stream",
     "text": [
      "Epoch:  9  Val Loss:  32.16813474262748  Val Acc:  0 R2: tensor(-2.8610e-06, device='cuda:0', grad_fn=<RsubBackward1>)\n",
      "1964 :\n"
     ]
    },
    {
     "name": "stderr",
     "output_type": "stream",
     "text": [
      "\n"
     ]
    },
    {
     "name": "stdout",
     "output_type": "stream",
     "text": [
      "(94, 29853, 95)\n",
      "(94, 95, 95)\n",
      "(94, 95, 29853)\n",
      "(94, 29853, 1)\n",
      "(94, 95, 1)\n",
      "(216, 29853, 95)\n",
      "(216, 95, 95)\n",
      "(216, 95, 29853)\n",
      "(216, 29853, 1)\n",
      "(216, 95, 1)\n"
     ]
    },
    {
     "name": "stderr",
     "output_type": "stream",
     "text": [
      "  0%|          | 0/10 [00:00<?, ?it/s]"
     ]
    },
    {
     "name": "stdout",
     "output_type": "stream",
     "text": [
      "Epoch:  0  Train Loss:  13.892750546336174  Train Acc:  7.827659779024998e-06\n"
     ]
    },
    {
     "name": "stderr",
     "output_type": "stream",
     "text": [
      " 10%|█         | 1/10 [00:02<00:20,  2.31s/it]"
     ]
    },
    {
     "name": "stdout",
     "output_type": "stream",
     "text": [
      "Epoch:  0  Val Loss:  32.110752671118405  Val Acc:  0 R2: tensor(1.9670e-06, device='cuda:0', grad_fn=<RsubBackward1>)\n",
      "Epoch:  1  Train Loss:  13.89932481944561  Train Acc:  7.827629474377318e-06\n"
     ]
    },
    {
     "name": "stderr",
     "output_type": "stream",
     "text": [
      " 20%|██        | 2/10 [00:04<00:18,  2.30s/it]"
     ]
    },
    {
     "name": "stdout",
     "output_type": "stream",
     "text": [
      "Epoch:  1  Val Loss:  31.445457547049735  Val Acc:  0 R2: tensor(-1.5497e-06, device='cuda:0', grad_fn=<RsubBackward1>)\n",
      "Epoch:  2  Train Loss:  13.892946809530258  Train Acc:  7.827653950798208e-06\n"
     ]
    },
    {
     "name": "stderr",
     "output_type": "stream",
     "text": [
      " 30%|███       | 3/10 [00:06<00:16,  2.29s/it]"
     ]
    },
    {
     "name": "stdout",
     "output_type": "stream",
     "text": [
      "Epoch:  2  Val Loss:  31.97781273638921  Val Acc:  0 R2: tensor(4.1723e-06, device='cuda:0', grad_fn=<RsubBackward1>)\n",
      "Epoch:  3  Train Loss:  13.895885244011879  Train Acc:  7.827667952042816e-06\n"
     ]
    },
    {
     "name": "stderr",
     "output_type": "stream",
     "text": [
      " 40%|████      | 4/10 [00:09<00:13,  2.30s/it]"
     ]
    },
    {
     "name": "stdout",
     "output_type": "stream",
     "text": [
      "Epoch:  3  Val Loss:  31.925120203825706  Val Acc:  0 R2: tensor(-1.6689e-06, device='cuda:0', grad_fn=<RsubBackward1>)\n",
      "Epoch:  4  Train Loss:  13.898458167910576  Train Acc:  7.827638654589464e-06\n"
     ]
    },
    {
     "name": "stderr",
     "output_type": "stream",
     "text": [
      " 50%|█████     | 5/10 [00:11<00:11,  2.29s/it]"
     ]
    },
    {
     "name": "stdout",
     "output_type": "stream",
     "text": [
      "Epoch:  4  Val Loss:  32.24574610505757  Val Acc:  0 R2: tensor(2.9802e-07, device='cuda:0', grad_fn=<RsubBackward1>)\n",
      "Epoch:  5  Train Loss:  13.893175646662712  Train Acc:  7.82764266382685e-06\n"
     ]
    },
    {
     "name": "stderr",
     "output_type": "stream",
     "text": [
      " 60%|██████    | 6/10 [00:13<00:09,  2.29s/it]"
     ]
    },
    {
     "name": "stdout",
     "output_type": "stream",
     "text": [
      "Epoch:  5  Val Loss:  31.648953526381646  Val Acc:  0 R2: tensor(5.3644e-07, device='cuda:0', grad_fn=<RsubBackward1>)\n",
      "Epoch:  6  Train Loss:  13.893756583333015  Train Acc:  7.827669570303897e-06\n"
     ]
    },
    {
     "name": "stderr",
     "output_type": "stream",
     "text": [
      " 70%|███████   | 7/10 [00:16<00:06,  2.30s/it]"
     ]
    },
    {
     "name": "stdout",
     "output_type": "stream",
     "text": [
      "Epoch:  6  Val Loss:  32.04042836941484  Val Acc:  0 R2: tensor(-1.5497e-06, device='cuda:0', grad_fn=<RsubBackward1>)\n",
      "Epoch:  7  Train Loss:  13.894673258066177  Train Acc:  7.827648637714901e-06\n"
     ]
    },
    {
     "name": "stderr",
     "output_type": "stream",
     "text": [
      " 80%|████████  | 8/10 [00:18<00:04,  2.29s/it]"
     ]
    },
    {
     "name": "stdout",
     "output_type": "stream",
     "text": [
      "Epoch:  7  Val Loss:  31.957110374310908  Val Acc:  0 R2: tensor(-1.0729e-06, device='cuda:0', grad_fn=<RsubBackward1>)\n",
      "Epoch:  8  Train Loss:  13.90047162771225  Train Acc:  7.827649495695255e-06\n"
     ]
    },
    {
     "name": "stderr",
     "output_type": "stream",
     "text": [
      " 90%|█████████ | 9/10 [00:20<00:02,  2.28s/it]"
     ]
    },
    {
     "name": "stdout",
     "output_type": "stream",
     "text": [
      "Epoch:  8  Val Loss:  31.653765409316065  Val Acc:  0 R2: tensor(-4.8876e-06, device='cuda:0', grad_fn=<RsubBackward1>)\n",
      "Epoch:  9  Train Loss:  13.894845589995384  Train Acc:  7.827688101258445e-06\n"
     ]
    },
    {
     "name": "stderr",
     "output_type": "stream",
     "text": [
      "100%|██████████| 10/10 [00:22<00:00,  2.29s/it]"
     ]
    },
    {
     "name": "stdout",
     "output_type": "stream",
     "text": [
      "Epoch:  9  Val Loss:  31.858243077113052  Val Acc:  0 R2: tensor(-7.3910e-06, device='cuda:0', grad_fn=<RsubBackward1>)\n",
      "1965 :\n"
     ]
    },
    {
     "name": "stderr",
     "output_type": "stream",
     "text": [
      "\n"
     ]
    },
    {
     "name": "stdout",
     "output_type": "stream",
     "text": [
      "(106, 29853, 95)\n",
      "(106, 95, 95)\n",
      "(106, 95, 29853)\n",
      "(106, 29853, 1)\n",
      "(106, 95, 1)\n",
      "(216, 29853, 95)\n",
      "(216, 95, 95)\n",
      "(216, 95, 29853)\n",
      "(216, 29853, 1)\n",
      "(216, 95, 1)\n"
     ]
    },
    {
     "name": "stderr",
     "output_type": "stream",
     "text": [
      "  0%|          | 0/10 [00:00<?, ?it/s]"
     ]
    },
    {
     "name": "stdout",
     "output_type": "stream",
     "text": [
      "Epoch:  0  Train Loss:  15.66756172478199  Train Acc:  1.0034245788048679e-05\n"
     ]
    },
    {
     "name": "stderr",
     "output_type": "stream",
     "text": [
      " 10%|█         | 1/10 [00:02<00:21,  2.42s/it]"
     ]
    },
    {
     "name": "stdout",
     "output_type": "stream",
     "text": [
      "Epoch:  0  Val Loss:  32.00802301545348  Val Acc:  0 R2: tensor(-3.3379e-06, device='cuda:0', grad_fn=<RsubBackward1>)\n",
      "Epoch:  1  Train Loss:  15.668988317251205  Train Acc:  1.0034232060363024e-05\n"
     ]
    },
    {
     "name": "stderr",
     "output_type": "stream",
     "text": [
      " 20%|██        | 2/10 [00:04<00:19,  2.40s/it]"
     ]
    },
    {
     "name": "stdout",
     "output_type": "stream",
     "text": [
      "Epoch:  1  Val Loss:  31.844756952695647  Val Acc:  0 R2: tensor(-1.4305e-06, device='cuda:0', grad_fn=<RsubBackward1>)\n",
      "Epoch:  2  Train Loss:  15.667503833770752  Train Acc:  1.0034235353728604e-05\n"
     ]
    },
    {
     "name": "stderr",
     "output_type": "stream",
     "text": [
      " 30%|███       | 3/10 [00:07<00:16,  2.40s/it]"
     ]
    },
    {
     "name": "stdout",
     "output_type": "stream",
     "text": [
      "Epoch:  2  Val Loss:  32.11365591659242  Val Acc:  0 R2: tensor(1.7881e-07, device='cuda:0', grad_fn=<RsubBackward1>)\n",
      "Epoch:  3  Train Loss:  15.671558484435081  Train Acc:  1.003422238987639e-05\n"
     ]
    },
    {
     "name": "stderr",
     "output_type": "stream",
     "text": [
      " 40%|████      | 4/10 [00:09<00:14,  2.40s/it]"
     ]
    },
    {
     "name": "stdout",
     "output_type": "stream",
     "text": [
      "Epoch:  3  Val Loss:  31.761554829027148  Val Acc:  0 R2: tensor(-4.7684e-07, device='cuda:0', grad_fn=<RsubBackward1>)\n",
      "Epoch:  4  Train Loss:  15.669136717915535  Train Acc:  1.003422934786613e-05\n"
     ]
    },
    {
     "name": "stderr",
     "output_type": "stream",
     "text": [
      " 50%|█████     | 5/10 [00:11<00:11,  2.39s/it]"
     ]
    },
    {
     "name": "stdout",
     "output_type": "stream",
     "text": [
      "Epoch:  4  Val Loss:  32.12692319521407  Val Acc:  0 R2: tensor(5.3644e-07, device='cuda:0', grad_fn=<RsubBackward1>)\n",
      "Epoch:  5  Train Loss:  15.669639587402344  Train Acc:  1.0034244317225216e-05\n"
     ]
    },
    {
     "name": "stderr",
     "output_type": "stream",
     "text": [
      " 60%|██████    | 6/10 [00:14<00:09,  2.39s/it]"
     ]
    },
    {
     "name": "stdout",
     "output_type": "stream",
     "text": [
      "Epoch:  5  Val Loss:  31.6468453325038  Val Acc:  0 R2: tensor(-8.3447e-07, device='cuda:0', grad_fn=<RsubBackward1>)\n",
      "Epoch:  6  Train Loss:  15.667877808213234  Train Acc:  1.003422107537233e-05\n"
     ]
    },
    {
     "name": "stderr",
     "output_type": "stream",
     "text": [
      " 70%|███████   | 7/10 [00:16<00:07,  2.39s/it]"
     ]
    },
    {
     "name": "stdout",
     "output_type": "stream",
     "text": [
      "Epoch:  6  Val Loss:  32.02404224048129  Val Acc:  0 R2: tensor(5.9605e-07, device='cuda:0', grad_fn=<RsubBackward1>)\n",
      "Epoch:  7  Train Loss:  15.667476087808609  Train Acc:  1.0034239553036173e-05\n"
     ]
    },
    {
     "name": "stderr",
     "output_type": "stream",
     "text": [
      " 80%|████████  | 8/10 [00:19<00:04,  2.39s/it]"
     ]
    },
    {
     "name": "stdout",
     "output_type": "stream",
     "text": [
      "Epoch:  7  Val Loss:  31.711392156016444  Val Acc:  0 R2: tensor(6.5565e-07, device='cuda:0', grad_fn=<RsubBackward1>)\n",
      "Epoch:  8  Train Loss:  15.668235048651695  Train Acc:  1.0034266873404363e-05\n"
     ]
    },
    {
     "name": "stderr",
     "output_type": "stream",
     "text": [
      " 90%|█████████ | 9/10 [00:21<00:02,  2.39s/it]"
     ]
    },
    {
     "name": "stdout",
     "output_type": "stream",
     "text": [
      "Epoch:  8  Val Loss:  32.13748680725177  Val Acc:  0 R2: tensor(-2.3842e-07, device='cuda:0', grad_fn=<RsubBackward1>)\n",
      "Epoch:  9  Train Loss:  15.668312713503838  Train Acc:  1.003422834244816e-05\n"
     ]
    },
    {
     "name": "stderr",
     "output_type": "stream",
     "text": [
      "100%|██████████| 10/10 [00:23<00:00,  2.39s/it]"
     ]
    },
    {
     "name": "stdout",
     "output_type": "stream",
     "text": [
      "Epoch:  9  Val Loss:  32.04726480616585  Val Acc:  0 R2: tensor(5.3644e-07, device='cuda:0', grad_fn=<RsubBackward1>)\n",
      "1966 :\n"
     ]
    },
    {
     "name": "stderr",
     "output_type": "stream",
     "text": [
      "\n"
     ]
    },
    {
     "name": "stdout",
     "output_type": "stream",
     "text": [
      "(118, 29853, 95)\n",
      "(118, 95, 95)\n",
      "(118, 95, 29853)\n",
      "(118, 29853, 1)\n",
      "(118, 95, 1)\n",
      "(216, 29853, 95)\n",
      "(216, 95, 95)\n",
      "(216, 95, 29853)\n",
      "(216, 29853, 1)\n",
      "(216, 95, 1)\n"
     ]
    },
    {
     "name": "stderr",
     "output_type": "stream",
     "text": [
      "  0%|          | 0/10 [00:00<?, ?it/s]"
     ]
    },
    {
     "name": "stdout",
     "output_type": "stream",
     "text": [
      "Epoch:  0  Train Loss:  17.448484852910042  Train Acc:  1.2524800547808468e-05\n"
     ]
    },
    {
     "name": "stderr",
     "output_type": "stream",
     "text": [
      " 10%|█         | 1/10 [00:02<00:23,  2.64s/it]"
     ]
    },
    {
     "name": "stdout",
     "output_type": "stream",
     "text": [
      "Epoch:  0  Val Loss:  31.969432185463525  Val Acc:  0 R2: tensor(-2.3842e-07, device='cuda:0', grad_fn=<RsubBackward1>)\n",
      "Epoch:  1  Train Loss:  17.444481000304222  Train Acc:  1.2524829681836991e-05\n"
     ]
    },
    {
     "name": "stderr",
     "output_type": "stream",
     "text": [
      " 20%|██        | 2/10 [00:05<00:20,  2.59s/it]"
     ]
    },
    {
     "name": "stdout",
     "output_type": "stream",
     "text": [
      "Epoch:  1  Val Loss:  31.54800779658973  Val Acc:  0 R2: tensor(1.3709e-06, device='cuda:0', grad_fn=<RsubBackward1>)\n",
      "Epoch:  2  Train Loss:  17.438168451189995  Train Acc:  1.2524806310310055e-05\n"
     ]
    },
    {
     "name": "stderr",
     "output_type": "stream",
     "text": [
      " 30%|███       | 3/10 [00:07<00:17,  2.57s/it]"
     ]
    },
    {
     "name": "stdout",
     "output_type": "stream",
     "text": [
      "Epoch:  2  Val Loss:  32.220515917108415  Val Acc:  0 R2: tensor(1.3709e-06, device='cuda:0', grad_fn=<RsubBackward1>)\n",
      "Epoch:  3  Train Loss:  17.441471219062805  Train Acc:  1.2524795026891411e-05\n"
     ]
    },
    {
     "name": "stderr",
     "output_type": "stream",
     "text": [
      " 40%|████      | 4/10 [00:10<00:15,  2.55s/it]"
     ]
    },
    {
     "name": "stdout",
     "output_type": "stream",
     "text": [
      "Epoch:  3  Val Loss:  31.689564059569506  Val Acc:  0 R2: tensor(2.6822e-06, device='cuda:0', grad_fn=<RsubBackward1>)\n",
      "Epoch:  4  Train Loss:  17.443115651607513  Train Acc:  1.2524821874748682e-05\n"
     ]
    },
    {
     "name": "stderr",
     "output_type": "stream",
     "text": [
      " 50%|█████     | 5/10 [00:12<00:12,  2.53s/it]"
     ]
    },
    {
     "name": "stdout",
     "output_type": "stream",
     "text": [
      "Epoch:  4  Val Loss:  32.07614977199392  Val Acc:  0 R2: tensor(-4.7684e-07, device='cuda:0', grad_fn=<RsubBackward1>)\n",
      "Epoch:  5  Train Loss:  17.44603119790554  Train Acc:  1.2524803461033684e-05\n"
     ]
    },
    {
     "name": "stderr",
     "output_type": "stream",
     "text": [
      " 60%|██████    | 6/10 [00:15<00:10,  2.53s/it]"
     ]
    },
    {
     "name": "stdout",
     "output_type": "stream",
     "text": [
      "Epoch:  5  Val Loss:  31.57222492527493  Val Acc:  0 R2: tensor(-2.1458e-06, device='cuda:0', grad_fn=<RsubBackward1>)\n",
      "Epoch:  6  Train Loss:  17.447882816195488  Train Acc:  1.2524801814350894e-05\n"
     ]
    },
    {
     "name": "stderr",
     "output_type": "stream",
     "text": [
      " 70%|███████   | 7/10 [00:17<00:07,  2.52s/it]"
     ]
    },
    {
     "name": "stdout",
     "output_type": "stream",
     "text": [
      "Epoch:  6  Val Loss:  31.792966435665107  Val Acc:  0 R2: tensor(-3.5763e-06, device='cuda:0', grad_fn=<RsubBackward1>)\n",
      "Epoch:  7  Train Loss:  17.43858851492405  Train Acc:  1.2524818522763326e-05\n"
     ]
    },
    {
     "name": "stderr",
     "output_type": "stream",
     "text": [
      " 80%|████████  | 8/10 [00:20<00:05,  2.52s/it]"
     ]
    },
    {
     "name": "stdout",
     "output_type": "stream",
     "text": [
      "Epoch:  7  Val Loss:  31.956245373049512  Val Acc:  0 R2: tensor(2.9802e-07, device='cuda:0', grad_fn=<RsubBackward1>)\n",
      "Epoch:  8  Train Loss:  17.44580440223217  Train Acc:  1.2524829422488892e-05\n"
     ]
    },
    {
     "name": "stderr",
     "output_type": "stream",
     "text": [
      " 90%|█████████ | 9/10 [00:22<00:02,  2.52s/it]"
     ]
    },
    {
     "name": "stdout",
     "output_type": "stream",
     "text": [
      "Epoch:  8  Val Loss:  31.961128066344536  Val Acc:  0 R2: tensor(1.0729e-06, device='cuda:0', grad_fn=<RsubBackward1>)\n",
      "Epoch:  9  Train Loss:  17.439906373620033  Train Acc:  1.2524780817813053e-05\n"
     ]
    },
    {
     "name": "stderr",
     "output_type": "stream",
     "text": [
      "100%|██████████| 10/10 [00:25<00:00,  2.53s/it]"
     ]
    },
    {
     "name": "stdout",
     "output_type": "stream",
     "text": [
      "Epoch:  9  Val Loss:  32.10502750699333  Val Acc:  0 R2: tensor(-7.8678e-06, device='cuda:0', grad_fn=<RsubBackward1>)\n",
      "1967 :\n"
     ]
    },
    {
     "name": "stderr",
     "output_type": "stream",
     "text": [
      "\n"
     ]
    },
    {
     "name": "stdout",
     "output_type": "stream",
     "text": [
      "(130, 29853, 95)\n",
      "(130, 95, 95)\n",
      "(130, 95, 29853)\n",
      "(130, 29853, 1)\n",
      "(130, 95, 1)\n",
      "(216, 29853, 95)\n",
      "(216, 95, 95)\n",
      "(216, 95, 29853)\n",
      "(216, 29853, 1)\n",
      "(216, 95, 1)\n"
     ]
    },
    {
     "name": "stderr",
     "output_type": "stream",
     "text": [
      "  0%|          | 0/10 [00:00<?, ?it/s]"
     ]
    },
    {
     "name": "stdout",
     "output_type": "stream",
     "text": [
      "Epoch:  0  Train Loss:  19.218339771032333  Train Acc:  1.5825661872526098e-05\n"
     ]
    },
    {
     "name": "stderr",
     "output_type": "stream",
     "text": [
      " 10%|█         | 1/10 [00:02<00:24,  2.67s/it]"
     ]
    },
    {
     "name": "stdout",
     "output_type": "stream",
     "text": [
      "Epoch:  0  Val Loss:  32.16180632648368  Val Acc:  0 R2: tensor(-5.9605e-07, device='cuda:0', grad_fn=<RsubBackward1>)\n",
      "Epoch:  1  Train Loss:  19.220266863703728  Train Acc:  1.582566187074974e-05\n"
     ]
    },
    {
     "name": "stderr",
     "output_type": "stream",
     "text": [
      " 20%|██        | 2/10 [00:05<00:21,  2.66s/it]"
     ]
    },
    {
     "name": "stdout",
     "output_type": "stream",
     "text": [
      "Epoch:  1  Val Loss:  32.05619273726119  Val Acc:  0 R2: tensor(-1.1921e-07, device='cuda:0', grad_fn=<RsubBackward1>)\n",
      "Epoch:  2  Train Loss:  19.215269967913628  Train Acc:  1.582564200930392e-05\n"
     ]
    },
    {
     "name": "stderr",
     "output_type": "stream",
     "text": [
      " 30%|███       | 3/10 [00:07<00:18,  2.66s/it]"
     ]
    },
    {
     "name": "stdout",
     "output_type": "stream",
     "text": [
      "Epoch:  2  Val Loss:  32.110127669014126  Val Acc:  0 R2: tensor(4.7684e-07, device='cuda:0', grad_fn=<RsubBackward1>)\n",
      "Epoch:  3  Train Loss:  19.216861501336098  Train Acc:  1.5825650592660168e-05\n"
     ]
    },
    {
     "name": "stderr",
     "output_type": "stream",
     "text": [
      " 40%|████      | 4/10 [00:10<00:15,  2.66s/it]"
     ]
    },
    {
     "name": "stdout",
     "output_type": "stream",
     "text": [
      "Epoch:  3  Val Loss:  32.17574308425989  Val Acc:  0 R2: tensor(-1.4305e-06, device='cuda:0', grad_fn=<RsubBackward1>)\n",
      "Epoch:  4  Train Loss:  19.21485987305641  Train Acc:  1.582566668290042e-05\n"
     ]
    },
    {
     "name": "stderr",
     "output_type": "stream",
     "text": [
      " 50%|█████     | 5/10 [00:13<00:13,  2.67s/it]"
     ]
    },
    {
     "name": "stdout",
     "output_type": "stream",
     "text": [
      "Epoch:  4  Val Loss:  32.0814752393318  Val Acc:  0 R2: tensor(-3.5763e-07, device='cuda:0', grad_fn=<RsubBackward1>)\n",
      "Epoch:  5  Train Loss:  19.216189667582512  Train Acc:  1.582563922752911e-05\n"
     ]
    },
    {
     "name": "stderr",
     "output_type": "stream",
     "text": [
      " 60%|██████    | 6/10 [00:16<00:10,  2.68s/it]"
     ]
    },
    {
     "name": "stdout",
     "output_type": "stream",
     "text": [
      "Epoch:  5  Val Loss:  32.21243248524456  Val Acc:  0 R2: tensor(5.3644e-07, device='cuda:0', grad_fn=<RsubBackward1>)\n",
      "Epoch:  6  Train Loss:  19.21634577214718  Train Acc:  1.5825673918001826e-05\n"
     ]
    },
    {
     "name": "stderr",
     "output_type": "stream",
     "text": [
      " 70%|███████   | 7/10 [00:18<00:08,  2.68s/it]"
     ]
    },
    {
     "name": "stdout",
     "output_type": "stream",
     "text": [
      "Epoch:  6  Val Loss:  32.1035036855674  Val Acc:  0 R2: tensor(-3.5763e-07, device='cuda:0', grad_fn=<RsubBackward1>)\n",
      "Epoch:  7  Train Loss:  19.215190798044205  Train Acc:  1.582564441449108e-05\n"
     ]
    },
    {
     "name": "stderr",
     "output_type": "stream",
     "text": [
      " 80%|████████  | 8/10 [00:21<00:05,  2.68s/it]"
     ]
    },
    {
     "name": "stdout",
     "output_type": "stream",
     "text": [
      "Epoch:  7  Val Loss:  31.703914623608867  Val Acc:  0 R2: tensor(-1.1921e-06, device='cuda:0', grad_fn=<RsubBackward1>)\n",
      "Epoch:  8  Train Loss:  19.216098740696907  Train Acc:  1.5825646851652664e-05\n"
     ]
    },
    {
     "name": "stderr",
     "output_type": "stream",
     "text": [
      " 90%|█████████ | 9/10 [00:24<00:02,  2.68s/it]"
     ]
    },
    {
     "name": "stdout",
     "output_type": "stream",
     "text": [
      "Epoch:  8  Val Loss:  32.038364630279084  Val Acc:  0 R2: tensor(0., device='cuda:0', grad_fn=<RsubBackward1>)\n",
      "Epoch:  9  Train Loss:  19.218656107783318  Train Acc:  1.5825669787972174e-05\n"
     ]
    },
    {
     "name": "stderr",
     "output_type": "stream",
     "text": [
      "100%|██████████| 10/10 [00:26<00:00,  2.68s/it]"
     ]
    },
    {
     "name": "stdout",
     "output_type": "stream",
     "text": [
      "Epoch:  9  Val Loss:  32.06141017020099  Val Acc:  0 R2: tensor(-3.5763e-07, device='cuda:0', grad_fn=<RsubBackward1>)\n",
      "1968 :\n"
     ]
    },
    {
     "name": "stderr",
     "output_type": "stream",
     "text": [
      "\n"
     ]
    },
    {
     "name": "stdout",
     "output_type": "stream",
     "text": [
      "(142, 29853, 95)\n",
      "(142, 95, 95)\n",
      "(142, 95, 29853)\n",
      "(142, 29853, 1)\n",
      "(142, 95, 1)\n",
      "(216, 29853, 95)\n",
      "(216, 95, 95)\n",
      "(216, 95, 29853)\n",
      "(216, 29853, 1)\n",
      "(216, 95, 1)\n"
     ]
    },
    {
     "name": "stderr",
     "output_type": "stream",
     "text": [
      "  0%|          | 0/10 [00:00<?, ?it/s]"
     ]
    },
    {
     "name": "stdout",
     "output_type": "stream",
     "text": [
      "Epoch:  0  Train Loss:  20.990103349089622  Train Acc:  1.900950095645726e-05\n"
     ]
    },
    {
     "name": "stderr",
     "output_type": "stream",
     "text": [
      " 10%|█         | 1/10 [00:02<00:25,  2.82s/it]"
     ]
    },
    {
     "name": "stdout",
     "output_type": "stream",
     "text": [
      "Epoch:  0  Val Loss:  32.00090496007244  Val Acc:  0 R2: tensor(-2.1458e-06, device='cuda:0', grad_fn=<RsubBackward1>)\n",
      "Epoch:  1  Train Loss:  20.990933880209923  Train Acc:  1.90095075769392e-05\n"
     ]
    },
    {
     "name": "stderr",
     "output_type": "stream",
     "text": [
      " 20%|██        | 2/10 [00:05<00:22,  2.82s/it]"
     ]
    },
    {
     "name": "stdout",
     "output_type": "stream",
     "text": [
      "Epoch:  1  Val Loss:  31.87681631510449  Val Acc:  0 R2: tensor(-2.0266e-06, device='cuda:0', grad_fn=<RsubBackward1>)\n",
      "Epoch:  2  Train Loss:  20.981972619891167  Train Acc:  1.9009549557580385e-05\n"
     ]
    },
    {
     "name": "stderr",
     "output_type": "stream",
     "text": [
      " 30%|███       | 3/10 [00:08<00:19,  2.78s/it]"
     ]
    },
    {
     "name": "stdout",
     "output_type": "stream",
     "text": [
      "Epoch:  2  Val Loss:  31.95927171176644  Val Acc:  0 R2: tensor(-4.7684e-07, device='cuda:0', grad_fn=<RsubBackward1>)\n",
      "Epoch:  3  Train Loss:  20.991743251681328  Train Acc:  1.90095013046232e-05\n"
     ]
    },
    {
     "name": "stderr",
     "output_type": "stream",
     "text": [
      " 40%|████      | 4/10 [00:11<00:16,  2.76s/it]"
     ]
    },
    {
     "name": "stdout",
     "output_type": "stream",
     "text": [
      "Epoch:  3  Val Loss:  31.724200767972413  Val Acc:  0 R2: tensor(-2.3842e-07, device='cuda:0', grad_fn=<RsubBackward1>)\n",
      "Epoch:  4  Train Loss:  20.989399954676628  Train Acc:  1.9009541347259074e-05\n"
     ]
    },
    {
     "name": "stderr",
     "output_type": "stream",
     "text": [
      " 50%|█████     | 5/10 [00:13<00:13,  2.75s/it]"
     ]
    },
    {
     "name": "stdout",
     "output_type": "stream",
     "text": [
      "Epoch:  4  Val Loss:  31.71488921108488  Val Acc:  0 R2: tensor(-1.5497e-06, device='cuda:0', grad_fn=<RsubBackward1>)\n",
      "Epoch:  5  Train Loss:  20.990534335374832  Train Acc:  1.9009516377010982e-05\n"
     ]
    },
    {
     "name": "stderr",
     "output_type": "stream",
     "text": [
      " 60%|██████    | 6/10 [00:16<00:10,  2.75s/it]"
     ]
    },
    {
     "name": "stdout",
     "output_type": "stream",
     "text": [
      "Epoch:  5  Val Loss:  31.961254400299907  Val Acc:  0 R2: tensor(-2.1458e-05, device='cuda:0', grad_fn=<RsubBackward1>)\n",
      "Epoch:  6  Train Loss:  20.995505556464195  Train Acc:  1.9009532252312056e-05\n"
     ]
    },
    {
     "name": "stderr",
     "output_type": "stream",
     "text": [
      " 70%|███████   | 7/10 [00:19<00:08,  2.77s/it]"
     ]
    },
    {
     "name": "stdout",
     "output_type": "stream",
     "text": [
      "Epoch:  6  Val Loss:  32.113557738733014  Val Acc:  0 R2: tensor(-3.5763e-07, device='cuda:0', grad_fn=<RsubBackward1>)\n",
      "Epoch:  7  Train Loss:  20.98856331408024  Train Acc:  1.900953452604881e-05\n"
     ]
    },
    {
     "name": "stderr",
     "output_type": "stream",
     "text": [
      " 80%|████████  | 8/10 [00:22<00:05,  2.79s/it]"
     ]
    },
    {
     "name": "stdout",
     "output_type": "stream",
     "text": [
      "Epoch:  7  Val Loss:  32.120545429394575  Val Acc:  0 R2: tensor(-1.2159e-05, device='cuda:0', grad_fn=<RsubBackward1>)\n",
      "Epoch:  8  Train Loss:  20.990002900362015  Train Acc:  1.900957000167125e-05\n"
     ]
    },
    {
     "name": "stderr",
     "output_type": "stream",
     "text": [
      " 90%|█████████ | 9/10 [00:24<00:02,  2.77s/it]"
     ]
    },
    {
     "name": "stdout",
     "output_type": "stream",
     "text": [
      "Epoch:  8  Val Loss:  31.931201857996967  Val Acc:  0 R2: tensor(2.9802e-07, device='cuda:0', grad_fn=<RsubBackward1>)\n",
      "Epoch:  9  Train Loss:  20.99134185910225  Train Acc:  1.9009521466273327e-05\n"
     ]
    },
    {
     "name": "stderr",
     "output_type": "stream",
     "text": [
      "100%|██████████| 10/10 [00:27<00:00,  2.77s/it]"
     ]
    },
    {
     "name": "stdout",
     "output_type": "stream",
     "text": [
      "Epoch:  9  Val Loss:  31.765673083647926  Val Acc:  0 R2: tensor(-5.6028e-06, device='cuda:0', grad_fn=<RsubBackward1>)\n",
      "1969 :\n"
     ]
    },
    {
     "name": "stderr",
     "output_type": "stream",
     "text": [
      "\n"
     ]
    },
    {
     "name": "stdout",
     "output_type": "stream",
     "text": [
      "(154, 29853, 95)\n",
      "(154, 95, 95)\n",
      "(154, 95, 29853)\n",
      "(154, 29853, 1)\n",
      "(154, 95, 1)\n",
      "(216, 29853, 95)\n",
      "(216, 95, 95)\n",
      "(216, 95, 29853)\n",
      "(216, 29853, 1)\n",
      "(216, 95, 1)\n"
     ]
    },
    {
     "name": "stderr",
     "output_type": "stream",
     "text": [
      "  0%|          | 0/10 [00:00<?, ?it/s]"
     ]
    },
    {
     "name": "stdout",
     "output_type": "stream",
     "text": [
      "Epoch:  0  Train Loss:  22.764546915888786  Train Acc:  2.144470092169115e-05\n"
     ]
    },
    {
     "name": "stderr",
     "output_type": "stream",
     "text": [
      " 10%|█         | 1/10 [00:02<00:26,  2.90s/it]"
     ]
    },
    {
     "name": "stdout",
     "output_type": "stream",
     "text": [
      "Epoch:  0  Val Loss:  31.915218836988338  Val Acc:  0 R2: tensor(-1.1921e-07, device='cuda:0', grad_fn=<RsubBackward1>)\n",
      "Epoch:  1  Train Loss:  22.76392701268196  Train Acc:  2.144473411647141e-05\n"
     ]
    },
    {
     "name": "stderr",
     "output_type": "stream",
     "text": [
      " 20%|██        | 2/10 [00:05<00:22,  2.84s/it]"
     ]
    },
    {
     "name": "stdout",
     "output_type": "stream",
     "text": [
      "Epoch:  1  Val Loss:  31.849848038833287  Val Acc:  0 R2: tensor(1.6689e-06, device='cuda:0', grad_fn=<RsubBackward1>)\n",
      "Epoch:  2  Train Loss:  22.765045523643494  Train Acc:  2.144471539544668e-05\n"
     ]
    },
    {
     "name": "stderr",
     "output_type": "stream",
     "text": [
      " 30%|███       | 3/10 [00:08<00:19,  2.85s/it]"
     ]
    },
    {
     "name": "stdout",
     "output_type": "stream",
     "text": [
      "Epoch:  2  Val Loss:  31.955786711802382  Val Acc:  0 R2: tensor(-7.1526e-07, device='cuda:0', grad_fn=<RsubBackward1>)\n",
      "Epoch:  3  Train Loss:  22.770448580384254  Train Acc:  2.144469172193908e-05\n"
     ]
    },
    {
     "name": "stderr",
     "output_type": "stream",
     "text": [
      " 40%|████      | 4/10 [00:11<00:17,  2.87s/it]"
     ]
    },
    {
     "name": "stdout",
     "output_type": "stream",
     "text": [
      "Epoch:  3  Val Loss:  31.748949773025984  Val Acc:  0 R2: tensor(-2.3842e-07, device='cuda:0', grad_fn=<RsubBackward1>)\n",
      "Epoch:  4  Train Loss:  22.754377841949463  Train Acc:  2.144470111353769e-05\n"
     ]
    },
    {
     "name": "stderr",
     "output_type": "stream",
     "text": [
      " 50%|█████     | 5/10 [00:14<00:14,  2.88s/it]"
     ]
    },
    {
     "name": "stdout",
     "output_type": "stream",
     "text": [
      "Epoch:  4  Val Loss:  32.01997626501076  Val Acc:  0 R2: tensor(-4.0531e-06, device='cuda:0', grad_fn=<RsubBackward1>)\n",
      "Epoch:  5  Train Loss:  22.769441038370132  Train Acc:  2.1444707899220816e-05\n"
     ]
    },
    {
     "name": "stderr",
     "output_type": "stream",
     "text": [
      " 60%|██████    | 6/10 [00:17<00:11,  2.89s/it]"
     ]
    },
    {
     "name": "stdout",
     "output_type": "stream",
     "text": [
      "Epoch:  5  Val Loss:  31.844157464211726  Val Acc:  0 R2: tensor(2.3246e-06, device='cuda:0', grad_fn=<RsubBackward1>)\n",
      "Epoch:  6  Train Loss:  22.763522818684578  Train Acc:  2.1444684225713218e-05\n"
     ]
    },
    {
     "name": "stderr",
     "output_type": "stream",
     "text": [
      " 70%|███████   | 7/10 [00:20<00:08,  2.89s/it]"
     ]
    },
    {
     "name": "stdout",
     "output_type": "stream",
     "text": [
      "Epoch:  6  Val Loss:  31.974413044140924  Val Acc:  0 R2: tensor(5.9605e-08, device='cuda:0', grad_fn=<RsubBackward1>)\n",
      "Epoch:  7  Train Loss:  22.764718323946  Train Acc:  2.1444696523431617e-05\n"
     ]
    },
    {
     "name": "stderr",
     "output_type": "stream",
     "text": [
      " 80%|████████  | 8/10 [00:23<00:05,  2.89s/it]"
     ]
    },
    {
     "name": "stdout",
     "output_type": "stream",
     "text": [
      "Epoch:  7  Val Loss:  31.844672448004907  Val Acc:  0 R2: tensor(-1.3351e-05, device='cuda:0', grad_fn=<RsubBackward1>)\n",
      "Epoch:  8  Train Loss:  22.767225459218025  Train Acc:  2.1444738834475174e-05\n"
     ]
    },
    {
     "name": "stderr",
     "output_type": "stream",
     "text": [
      " 90%|█████████ | 9/10 [00:25<00:02,  2.89s/it]"
     ]
    },
    {
     "name": "stdout",
     "output_type": "stream",
     "text": [
      "Epoch:  8  Val Loss:  31.96445775731967  Val Acc:  0 R2: tensor(6.0797e-06, device='cuda:0', grad_fn=<RsubBackward1>)\n",
      "Epoch:  9  Train Loss:  22.764185085892677  Train Acc:  2.1444705140538645e-05\n"
     ]
    },
    {
     "name": "stderr",
     "output_type": "stream",
     "text": [
      "100%|██████████| 10/10 [00:28<00:00,  2.88s/it]"
     ]
    },
    {
     "name": "stdout",
     "output_type": "stream",
     "text": [
      "Epoch:  9  Val Loss:  32.198508388695835  Val Acc:  0 R2: tensor(7.7486e-07, device='cuda:0', grad_fn=<RsubBackward1>)\n",
      "1970 :\n"
     ]
    },
    {
     "name": "stderr",
     "output_type": "stream",
     "text": [
      "\n"
     ]
    },
    {
     "name": "stdout",
     "output_type": "stream",
     "text": [
      "(166, 29853, 95)\n",
      "(166, 95, 95)\n",
      "(166, 95, 29853)\n",
      "(166, 29853, 1)\n",
      "(166, 95, 1)\n",
      "(216, 29853, 95)\n",
      "(216, 95, 95)\n",
      "(216, 95, 29853)\n",
      "(216, 29853, 1)\n",
      "(216, 95, 1)\n"
     ]
    },
    {
     "name": "stderr",
     "output_type": "stream",
     "text": [
      "  0%|          | 0/10 [00:00<?, ?it/s]"
     ]
    },
    {
     "name": "stdout",
     "output_type": "stream",
     "text": [
      "Epoch:  0  Train Loss:  24.54092089831829  Train Acc:  2.4400118808998172e-05\n"
     ]
    },
    {
     "name": "stderr",
     "output_type": "stream",
     "text": [
      " 10%|█         | 1/10 [00:03<00:27,  3.06s/it]"
     ]
    },
    {
     "name": "stdout",
     "output_type": "stream",
     "text": [
      "Epoch:  0  Val Loss:  31.959273093770435  Val Acc:  0 R2: tensor(2.2650e-06, device='cuda:0', grad_fn=<RsubBackward1>)\n",
      "Epoch:  1  Train Loss:  24.532198548316956  Train Acc:  2.440012185012108e-05\n"
     ]
    },
    {
     "name": "stderr",
     "output_type": "stream",
     "text": [
      " 20%|██        | 2/10 [00:06<00:24,  3.05s/it]"
     ]
    },
    {
     "name": "stdout",
     "output_type": "stream",
     "text": [
      "Epoch:  1  Val Loss:  31.931496136866194  Val Acc:  0 R2: tensor(-7.1526e-06, device='cuda:0', grad_fn=<RsubBackward1>)\n",
      "Epoch:  2  Train Loss:  24.5356757491827  Train Acc:  2.440012821303128e-05\n"
     ]
    },
    {
     "name": "stderr",
     "output_type": "stream",
     "text": [
      " 30%|███       | 3/10 [00:09<00:21,  3.04s/it]"
     ]
    },
    {
     "name": "stdout",
     "output_type": "stream",
     "text": [
      "Epoch:  2  Val Loss:  32.04494392261761  Val Acc:  0 R2: tensor(2.4438e-06, device='cuda:0', grad_fn=<RsubBackward1>)\n",
      "Epoch:  3  Train Loss:  24.53730696439743  Train Acc:  2.4400132840440847e-05\n"
     ]
    },
    {
     "name": "stderr",
     "output_type": "stream",
     "text": [
      " 40%|████      | 4/10 [00:12<00:18,  3.04s/it]"
     ]
    },
    {
     "name": "stdout",
     "output_type": "stream",
     "text": [
      "Epoch:  3  Val Loss:  31.879817479580268  Val Acc:  0 R2: tensor(-1.1921e-07, device='cuda:0', grad_fn=<RsubBackward1>)\n",
      "Epoch:  4  Train Loss:  24.529061004519463  Train Acc:  2.4400082768494258e-05\n"
     ]
    },
    {
     "name": "stderr",
     "output_type": "stream",
     "text": [
      " 50%|█████     | 5/10 [00:15<00:15,  3.04s/it]"
     ]
    },
    {
     "name": "stdout",
     "output_type": "stream",
     "text": [
      "Epoch:  4  Val Loss:  31.83532285059632  Val Acc:  0 R2: tensor(-1.9073e-06, device='cuda:0', grad_fn=<RsubBackward1>)\n",
      "Epoch:  5  Train Loss:  24.541345492005348  Train Acc:  2.4400126823920232e-05\n"
     ]
    },
    {
     "name": "stderr",
     "output_type": "stream",
     "text": [
      " 60%|██████    | 6/10 [00:18<00:12,  3.03s/it]"
     ]
    },
    {
     "name": "stdout",
     "output_type": "stream",
     "text": [
      "Epoch:  5  Val Loss:  31.9102176365748  Val Acc:  0 R2: tensor(-2.3842e-07, device='cuda:0', grad_fn=<RsubBackward1>)\n",
      "Epoch:  6  Train Loss:  24.534348130226135  Train Acc:  2.440015106053295e-05\n"
     ]
    },
    {
     "name": "stderr",
     "output_type": "stream",
     "text": [
      " 70%|███████   | 7/10 [00:21<00:09,  3.04s/it]"
     ]
    },
    {
     "name": "stdout",
     "output_type": "stream",
     "text": [
      "Epoch:  6  Val Loss:  31.976319068360773  Val Acc:  0 R2: tensor(-3.8147e-06, device='cuda:0', grad_fn=<RsubBackward1>)\n",
      "Epoch:  7  Train Loss:  24.534228682518005  Train Acc:  2.4400144464920004e-05\n"
     ]
    },
    {
     "name": "stderr",
     "output_type": "stream",
     "text": [
      " 80%|████████  | 8/10 [00:24<00:06,  3.04s/it]"
     ]
    },
    {
     "name": "stdout",
     "output_type": "stream",
     "text": [
      "Epoch:  7  Val Loss:  31.612923735132185  Val Acc:  0 R2: tensor(3.5763e-07, device='cuda:0', grad_fn=<RsubBackward1>)\n",
      "Epoch:  8  Train Loss:  24.528844118118286  Train Acc:  2.4400163049165258e-05\n"
     ]
    },
    {
     "name": "stderr",
     "output_type": "stream",
     "text": [
      " 90%|█████████ | 9/10 [00:27<00:03,  3.03s/it]"
     ]
    },
    {
     "name": "stdout",
     "output_type": "stream",
     "text": [
      "Epoch:  8  Val Loss:  31.917794340581928  Val Acc:  0 R2: tensor(-5.9605e-07, device='cuda:0', grad_fn=<RsubBackward1>)\n",
      "Epoch:  9  Train Loss:  24.53825818002224  Train Acc:  2.440019167693208e-05\n"
     ]
    },
    {
     "name": "stderr",
     "output_type": "stream",
     "text": [
      "100%|██████████| 10/10 [00:30<00:00,  3.04s/it]"
     ]
    },
    {
     "name": "stdout",
     "output_type": "stream",
     "text": [
      "Epoch:  9  Val Loss:  31.828837268977225  Val Acc:  0 R2: tensor(-6.7949e-06, device='cuda:0', grad_fn=<RsubBackward1>)\n",
      "1971 :\n"
     ]
    },
    {
     "name": "stderr",
     "output_type": "stream",
     "text": [
      "\n"
     ]
    },
    {
     "name": "stdout",
     "output_type": "stream",
     "text": [
      "(178, 29853, 95)\n",
      "(178, 95, 95)\n",
      "(178, 95, 29853)\n",
      "(178, 29853, 1)\n",
      "(178, 95, 1)\n",
      "(216, 29853, 95)\n",
      "(216, 95, 95)\n",
      "(216, 95, 29853)\n",
      "(216, 29853, 1)\n",
      "(216, 95, 1)\n"
     ]
    },
    {
     "name": "stderr",
     "output_type": "stream",
     "text": [
      "  0%|          | 0/10 [00:00<?, ?it/s]"
     ]
    },
    {
     "name": "stdout",
     "output_type": "stream",
     "text": [
      "Epoch:  0  Train Loss:  26.302420392632484  Train Acc:  2.654297822957119e-05\n"
     ]
    },
    {
     "name": "stderr",
     "output_type": "stream",
     "text": [
      " 10%|█         | 1/10 [00:03<00:29,  3.26s/it]"
     ]
    },
    {
     "name": "stdout",
     "output_type": "stream",
     "text": [
      "Epoch:  0  Val Loss:  32.12957052702403  Val Acc:  0 R2: tensor(-2.1458e-06, device='cuda:0', grad_fn=<RsubBackward1>)\n",
      "Epoch:  1  Train Loss:  26.31102928519249  Train Acc:  2.654293068182767e-05\n"
     ]
    },
    {
     "name": "stderr",
     "output_type": "stream",
     "text": [
      " 20%|██        | 2/10 [00:06<00:25,  3.21s/it]"
     ]
    },
    {
     "name": "stdout",
     "output_type": "stream",
     "text": [
      "Epoch:  1  Val Loss:  31.767823127746297  Val Acc:  0 R2: tensor(7.1526e-06, device='cuda:0', grad_fn=<RsubBackward1>)\n",
      "Epoch:  2  Train Loss:  26.30292536318302  Train Acc:  2.6543014371327445e-05\n"
     ]
    },
    {
     "name": "stderr",
     "output_type": "stream",
     "text": [
      " 30%|███       | 3/10 [00:09<00:22,  3.19s/it]"
     ]
    },
    {
     "name": "stdout",
     "output_type": "stream",
     "text": [
      "Epoch:  2  Val Loss:  32.223378105000435  Val Acc:  0 R2: tensor(8.9407e-07, device='cuda:0', grad_fn=<RsubBackward1>)\n",
      "Epoch:  3  Train Loss:  26.302246376872063  Train Acc:  2.654289926518061e-05\n"
     ]
    },
    {
     "name": "stderr",
     "output_type": "stream",
     "text": [
      " 40%|████      | 4/10 [00:12<00:19,  3.18s/it]"
     ]
    },
    {
     "name": "stdout",
     "output_type": "stream",
     "text": [
      "Epoch:  3  Val Loss:  31.86212959651293  Val Acc:  0 R2: tensor(1.4842e-05, device='cuda:0', grad_fn=<RsubBackward1>)\n",
      "Epoch:  4  Train Loss:  26.30642159283161  Train Acc:  2.654292689463489e-05\n"
     ]
    },
    {
     "name": "stderr",
     "output_type": "stream",
     "text": [
      " 50%|█████     | 5/10 [00:15<00:15,  3.17s/it]"
     ]
    },
    {
     "name": "stdout",
     "output_type": "stream",
     "text": [
      "Epoch:  4  Val Loss:  32.04791979308626  Val Acc:  0 R2: tensor(-3.8147e-06, device='cuda:0', grad_fn=<RsubBackward1>)\n",
      "Epoch:  5  Train Loss:  26.309470430016518  Train Acc:  2.6542937412443735e-05\n"
     ]
    },
    {
     "name": "stderr",
     "output_type": "stream",
     "text": [
      " 60%|██████    | 6/10 [00:19<00:12,  3.17s/it]"
     ]
    },
    {
     "name": "stdout",
     "output_type": "stream",
     "text": [
      "Epoch:  5  Val Loss:  31.589947624050048  Val Acc:  0 R2: tensor(-5.9605e-07, device='cuda:0', grad_fn=<RsubBackward1>)\n",
      "Epoch:  6  Train Loss:  26.30375723540783  Train Acc:  2.6542944235430355e-05\n"
     ]
    },
    {
     "name": "stderr",
     "output_type": "stream",
     "text": [
      " 70%|███████   | 7/10 [00:22<00:09,  3.17s/it]"
     ]
    },
    {
     "name": "stdout",
     "output_type": "stream",
     "text": [
      "Epoch:  6  Val Loss:  32.147965116483725  Val Acc:  0 R2: tensor(-6.0797e-06, device='cuda:0', grad_fn=<RsubBackward1>)\n",
      "Epoch:  7  Train Loss:  26.302000507712364  Train Acc:  2.6542920455341346e-05\n"
     ]
    },
    {
     "name": "stderr",
     "output_type": "stream",
     "text": [
      " 80%|████████  | 8/10 [00:25<00:06,  3.17s/it]"
     ]
    },
    {
     "name": "stdout",
     "output_type": "stream",
     "text": [
      "Epoch:  7  Val Loss:  32.00454523960945  Val Acc:  0 R2: tensor(3.5763e-07, device='cuda:0', grad_fn=<RsubBackward1>)\n",
      "Epoch:  8  Train Loss:  26.303722634911537  Train Acc:  2.654298420878831e-05\n"
     ]
    },
    {
     "name": "stderr",
     "output_type": "stream",
     "text": [
      " 90%|█████████ | 9/10 [00:28<00:03,  3.17s/it]"
     ]
    },
    {
     "name": "stdout",
     "output_type": "stream",
     "text": [
      "Epoch:  8  Val Loss:  31.89714529903339  Val Acc:  0 R2: tensor(4.6492e-06, device='cuda:0', grad_fn=<RsubBackward1>)\n",
      "Epoch:  9  Train Loss:  26.308714419603348  Train Acc:  2.654293740889102e-05\n"
     ]
    },
    {
     "name": "stderr",
     "output_type": "stream",
     "text": [
      "100%|██████████| 10/10 [00:31<00:00,  3.18s/it]"
     ]
    },
    {
     "name": "stdout",
     "output_type": "stream",
     "text": [
      "Epoch:  9  Val Loss:  31.92899384900648  Val Acc:  0 R2: tensor(-3.5763e-07, device='cuda:0', grad_fn=<RsubBackward1>)\n",
      "1972 :\n"
     ]
    },
    {
     "name": "stderr",
     "output_type": "stream",
     "text": [
      "\n"
     ]
    },
    {
     "name": "stdout",
     "output_type": "stream",
     "text": [
      "(190, 29853, 95)\n",
      "(190, 95, 95)\n",
      "(190, 95, 29853)\n",
      "(190, 29853, 1)\n",
      "(190, 95, 1)\n",
      "(216, 29853, 95)\n",
      "(216, 95, 95)\n",
      "(216, 95, 29853)\n",
      "(216, 29853, 1)\n",
      "(216, 95, 1)\n"
     ]
    },
    {
     "name": "stderr",
     "output_type": "stream",
     "text": [
      "  0%|          | 0/10 [00:00<?, ?it/s]"
     ]
    },
    {
     "name": "stdout",
     "output_type": "stream",
     "text": [
      "Epoch:  0  Train Loss:  28.073293074965477  Train Acc:  2.840315244512226e-05\n"
     ]
    },
    {
     "name": "stderr",
     "output_type": "stream",
     "text": [
      " 10%|█         | 1/10 [00:03<00:29,  3.33s/it]"
     ]
    },
    {
     "name": "stdout",
     "output_type": "stream",
     "text": [
      "Epoch:  0  Val Loss:  32.0198686146168  Val Acc:  0 R2: tensor(2.9802e-07, device='cuda:0', grad_fn=<RsubBackward1>)\n",
      "Epoch:  1  Train Loss:  28.08470232784748  Train Acc:  2.8403100696294814e-05\n"
     ]
    },
    {
     "name": "stderr",
     "output_type": "stream",
     "text": [
      " 20%|██        | 2/10 [00:06<00:26,  3.34s/it]"
     ]
    },
    {
     "name": "stdout",
     "output_type": "stream",
     "text": [
      "Epoch:  1  Val Loss:  31.866058932519195  Val Acc:  0 R2: tensor(-9.5367e-06, device='cuda:0', grad_fn=<RsubBackward1>)\n",
      "Epoch:  2  Train Loss:  28.07533185184002  Train Acc:  2.8403134315624357e-05\n"
     ]
    },
    {
     "name": "stderr",
     "output_type": "stream",
     "text": [
      " 30%|███       | 3/10 [00:10<00:23,  3.34s/it]"
     ]
    },
    {
     "name": "stdout",
     "output_type": "stream",
     "text": [
      "Epoch:  2  Val Loss:  31.968328344027753  Val Acc:  0 R2: tensor(-2.8610e-06, device='cuda:0', grad_fn=<RsubBackward1>)\n",
      "Epoch:  3  Train Loss:  28.076708272099495  Train Acc:  2.840309432450283e-05\n"
     ]
    },
    {
     "name": "stderr",
     "output_type": "stream",
     "text": [
      " 40%|████      | 4/10 [00:13<00:19,  3.33s/it]"
     ]
    },
    {
     "name": "stdout",
     "output_type": "stream",
     "text": [
      "Epoch:  3  Val Loss:  31.969187738966895  Val Acc:  0 R2: tensor(2.5630e-06, device='cuda:0', grad_fn=<RsubBackward1>)\n",
      "Epoch:  4  Train Loss:  28.07790121436119  Train Acc:  2.8403152350975347e-05\n"
     ]
    },
    {
     "name": "stderr",
     "output_type": "stream",
     "text": [
      " 50%|█████     | 5/10 [00:16<00:16,  3.32s/it]"
     ]
    },
    {
     "name": "stdout",
     "output_type": "stream",
     "text": [
      "Epoch:  4  Val Loss:  32.05915545141997  Val Acc:  0 R2: tensor(-3.3379e-06, device='cuda:0', grad_fn=<RsubBackward1>)\n",
      "Epoch:  5  Train Loss:  28.081001222133636  Train Acc:  2.8403118719211307e-05\n"
     ]
    },
    {
     "name": "stderr",
     "output_type": "stream",
     "text": [
      " 60%|██████    | 6/10 [00:19<00:13,  3.31s/it]"
     ]
    },
    {
     "name": "stdout",
     "output_type": "stream",
     "text": [
      "Epoch:  5  Val Loss:  31.971080290557722  Val Acc:  0 R2: tensor(-5.9605e-07, device='cuda:0', grad_fn=<RsubBackward1>)\n",
      "Epoch:  6  Train Loss:  28.07515297830105  Train Acc:  2.8403122602327358e-05\n"
     ]
    },
    {
     "name": "stderr",
     "output_type": "stream",
     "text": [
      " 70%|███████   | 7/10 [00:23<00:09,  3.30s/it]"
     ]
    },
    {
     "name": "stdout",
     "output_type": "stream",
     "text": [
      "Epoch:  6  Val Loss:  32.0440310264635  Val Acc:  0 R2: tensor(3.9935e-06, device='cuda:0', grad_fn=<RsubBackward1>)\n",
      "Epoch:  7  Train Loss:  28.081787660717964  Train Acc:  2.840309531926266e-05\n"
     ]
    },
    {
     "name": "stderr",
     "output_type": "stream",
     "text": [
      " 80%|████████  | 8/10 [00:26<00:06,  3.29s/it]"
     ]
    },
    {
     "name": "stdout",
     "output_type": "stream",
     "text": [
      "Epoch:  7  Val Loss:  31.906066777688437  Val Acc:  0 R2: tensor(1.1921e-07, device='cuda:0', grad_fn=<RsubBackward1>)\n",
      "Epoch:  8  Train Loss:  28.071586340665817  Train Acc:  2.8403121559605893e-05\n"
     ]
    },
    {
     "name": "stderr",
     "output_type": "stream",
     "text": [
      " 90%|█████████ | 9/10 [00:29<00:03,  3.28s/it]"
     ]
    },
    {
     "name": "stdout",
     "output_type": "stream",
     "text": [
      "Epoch:  8  Val Loss:  32.006845938416376  Val Acc:  0 R2: tensor(-1.6689e-06, device='cuda:0', grad_fn=<RsubBackward1>)\n",
      "Epoch:  9  Train Loss:  28.079304844141006  Train Acc:  2.840311232077397e-05\n"
     ]
    },
    {
     "name": "stderr",
     "output_type": "stream",
     "text": [
      "100%|██████████| 10/10 [00:33<00:00,  3.30s/it]"
     ]
    },
    {
     "name": "stdout",
     "output_type": "stream",
     "text": [
      "Epoch:  9  Val Loss:  31.997125612802392  Val Acc:  0 R2: tensor(-3.3379e-06, device='cuda:0', grad_fn=<RsubBackward1>)\n",
      "1973 :\n"
     ]
    },
    {
     "name": "stderr",
     "output_type": "stream",
     "text": [
      "\n"
     ]
    },
    {
     "name": "stdout",
     "output_type": "stream",
     "text": [
      "(202, 29853, 95)\n",
      "(202, 95, 95)\n",
      "(202, 95, 29853)\n",
      "(202, 29853, 1)\n",
      "(202, 95, 1)\n",
      "(216, 29853, 95)\n",
      "(216, 95, 95)\n",
      "(216, 95, 29853)\n",
      "(216, 29853, 1)\n",
      "(216, 95, 1)\n"
     ]
    },
    {
     "name": "stderr",
     "output_type": "stream",
     "text": [
      "  0%|          | 0/10 [00:00<?, ?it/s]"
     ]
    },
    {
     "name": "stdout",
     "output_type": "stream",
     "text": [
      "Epoch:  0  Train Loss:  29.847289592027664  Train Acc:  4.066901849242299e-05\n"
     ]
    },
    {
     "name": "stderr",
     "output_type": "stream",
     "text": [
      " 10%|█         | 1/10 [00:03<00:30,  3.43s/it]"
     ]
    },
    {
     "name": "stdout",
     "output_type": "stream",
     "text": [
      "Epoch:  0  Val Loss:  31.903329736193655  Val Acc:  0 R2: tensor(-1.6689e-06, device='cuda:0', grad_fn=<RsubBackward1>)\n",
      "Epoch:  1  Train Loss:  29.848775193095207  Train Acc:  4.066907320066093e-05\n"
     ]
    },
    {
     "name": "stderr",
     "output_type": "stream",
     "text": [
      " 20%|██        | 2/10 [00:06<00:27,  3.43s/it]"
     ]
    },
    {
     "name": "stdout",
     "output_type": "stream",
     "text": [
      "Epoch:  1  Val Loss:  32.013208052995566  Val Acc:  0 R2: tensor(1.1444e-05, device='cuda:0', grad_fn=<RsubBackward1>)\n",
      "Epoch:  2  Train Loss:  29.84767037630081  Train Acc:  4.06690671024279e-05\n"
     ]
    },
    {
     "name": "stderr",
     "output_type": "stream",
     "text": [
      " 30%|███       | 3/10 [00:10<00:24,  3.43s/it]"
     ]
    },
    {
     "name": "stdout",
     "output_type": "stream",
     "text": [
      "Epoch:  2  Val Loss:  32.06238258504169  Val Acc:  0 R2: tensor(-2.0266e-06, device='cuda:0', grad_fn=<RsubBackward1>)\n",
      "Epoch:  3  Train Loss:  29.851061895489693  Train Acc:  4.066910449118666e-05\n"
     ]
    },
    {
     "name": "stderr",
     "output_type": "stream",
     "text": [
      " 40%|████      | 4/10 [00:13<00:20,  3.43s/it]"
     ]
    },
    {
     "name": "stdout",
     "output_type": "stream",
     "text": [
      "Epoch:  3  Val Loss:  31.6116716923477  Val Acc:  0 R2: tensor(-3.2187e-06, device='cuda:0', grad_fn=<RsubBackward1>)\n",
      "Epoch:  4  Train Loss:  29.842279374599457  Train Acc:  4.066900193500089e-05\n"
     ]
    },
    {
     "name": "stderr",
     "output_type": "stream",
     "text": [
      " 50%|█████     | 5/10 [00:17<00:17,  3.43s/it]"
     ]
    },
    {
     "name": "stdout",
     "output_type": "stream",
     "text": [
      "Epoch:  4  Val Loss:  32.08164299144332  Val Acc:  0 R2: tensor(-6.7949e-06, device='cuda:0', grad_fn=<RsubBackward1>)\n",
      "Epoch:  5  Train Loss:  29.85444600880146  Train Acc:  4.0668977851154864e-05\n"
     ]
    },
    {
     "name": "stderr",
     "output_type": "stream",
     "text": [
      " 60%|██████    | 6/10 [00:20<00:13,  3.42s/it]"
     ]
    },
    {
     "name": "stdout",
     "output_type": "stream",
     "text": [
      "Epoch:  5  Val Loss:  31.80926468105747  Val Acc:  0 R2: tensor(1.7285e-06, device='cuda:0', grad_fn=<RsubBackward1>)\n",
      "Epoch:  6  Train Loss:  29.84019635617733  Train Acc:  4.066910031497173e-05\n"
     ]
    },
    {
     "name": "stderr",
     "output_type": "stream",
     "text": [
      " 70%|███████   | 7/10 [00:23<00:10,  3.42s/it]"
     ]
    },
    {
     "name": "stdout",
     "output_type": "stream",
     "text": [
      "Epoch:  6  Val Loss:  32.30055954183601  Val Acc:  0 R2: tensor(1.1921e-07, device='cuda:0', grad_fn=<RsubBackward1>)\n",
      "Epoch:  7  Train Loss:  29.852080136537552  Train Acc:  4.0669073232635355e-05\n"
     ]
    },
    {
     "name": "stderr",
     "output_type": "stream",
     "text": [
      " 80%|████████  | 8/10 [00:27<00:06,  3.41s/it]"
     ]
    },
    {
     "name": "stdout",
     "output_type": "stream",
     "text": [
      "Epoch:  7  Val Loss:  31.815151593372605  Val Acc:  0 R2: tensor(3.5763e-07, device='cuda:0', grad_fn=<RsubBackward1>)\n",
      "Epoch:  8  Train Loss:  29.848643228411674  Train Acc:  4.066902656596483e-05\n"
     ]
    },
    {
     "name": "stderr",
     "output_type": "stream",
     "text": [
      " 90%|█████████ | 9/10 [00:30<00:03,  3.41s/it]"
     ]
    },
    {
     "name": "stdout",
     "output_type": "stream",
     "text": [
      "Epoch:  8  Val Loss:  31.802090308348824  Val Acc:  0 R2: tensor(8.3447e-07, device='cuda:0', grad_fn=<RsubBackward1>)\n",
      "Epoch:  9  Train Loss:  29.85154077410698  Train Acc:  4.0669124940606594e-05\n"
     ]
    },
    {
     "name": "stderr",
     "output_type": "stream",
     "text": [
      "100%|██████████| 10/10 [00:34<00:00,  3.40s/it]"
     ]
    },
    {
     "name": "stdout",
     "output_type": "stream",
     "text": [
      "Epoch:  9  Val Loss:  31.889450928905376  Val Acc:  0 R2: tensor(1.0133e-06, device='cuda:0', grad_fn=<RsubBackward1>)\n",
      "1974 :\n"
     ]
    },
    {
     "name": "stderr",
     "output_type": "stream",
     "text": [
      "\n"
     ]
    },
    {
     "name": "stdout",
     "output_type": "stream",
     "text": [
      "(214, 29853, 95)\n",
      "(214, 95, 95)\n",
      "(214, 95, 29853)\n",
      "(214, 29853, 1)\n",
      "(214, 95, 1)\n",
      "(216, 29853, 95)\n",
      "(216, 95, 95)\n",
      "(216, 95, 29853)\n",
      "(216, 29853, 1)\n",
      "(216, 95, 1)\n"
     ]
    },
    {
     "name": "stderr",
     "output_type": "stream",
     "text": [
      "  0%|          | 0/10 [00:00<?, ?it/s]"
     ]
    },
    {
     "name": "stdout",
     "output_type": "stream",
     "text": [
      "Epoch:  0  Train Loss:  31.6162161976099  Train Acc:  5.119385191676429e-05\n"
     ]
    },
    {
     "name": "stderr",
     "output_type": "stream",
     "text": [
      " 10%|█         | 1/10 [00:03<00:32,  3.61s/it]"
     ]
    },
    {
     "name": "stdout",
     "output_type": "stream",
     "text": [
      "Epoch:  0  Val Loss:  32.0710669137151  Val Acc:  0 R2: tensor(7.0930e-06, device='cuda:0', grad_fn=<RsubBackward1>)\n",
      "Epoch:  1  Train Loss:  31.62382733821869  Train Acc:  5.119376213613691e-05\n"
     ]
    },
    {
     "name": "stderr",
     "output_type": "stream",
     "text": [
      " 20%|██        | 2/10 [00:07<00:28,  3.58s/it]"
     ]
    },
    {
     "name": "stdout",
     "output_type": "stream",
     "text": [
      "Epoch:  1  Val Loss:  31.64028268810526  Val Acc:  0 R2: tensor(9.5367e-07, device='cuda:0', grad_fn=<RsubBackward1>)\n",
      "Epoch:  2  Train Loss:  31.618584156036377  Train Acc:  5.119390878327579e-05\n"
     ]
    },
    {
     "name": "stderr",
     "output_type": "stream",
     "text": [
      " 30%|███       | 3/10 [00:10<00:24,  3.57s/it]"
     ]
    },
    {
     "name": "stdout",
     "output_type": "stream",
     "text": [
      "Epoch:  2  Val Loss:  31.956431446045173  Val Acc:  0 R2: tensor(8.3447e-07, device='cuda:0', grad_fn=<RsubBackward1>)\n",
      "Epoch:  3  Train Loss:  31.61947424709797  Train Acc:  5.119387578034207e-05\n"
     ]
    },
    {
     "name": "stderr",
     "output_type": "stream",
     "text": [
      " 40%|████      | 4/10 [00:14<00:21,  3.54s/it]"
     ]
    },
    {
     "name": "stdout",
     "output_type": "stream",
     "text": [
      "Epoch:  3  Val Loss:  32.00258688381342  Val Acc:  0 R2: tensor(-7.1526e-07, device='cuda:0', grad_fn=<RsubBackward1>)\n",
      "Epoch:  4  Train Loss:  31.61826016008854  Train Acc:  5.1193765596480034e-05\n"
     ]
    },
    {
     "name": "stderr",
     "output_type": "stream",
     "text": [
      " 50%|█████     | 5/10 [00:17<00:17,  3.53s/it]"
     ]
    },
    {
     "name": "stdout",
     "output_type": "stream",
     "text": [
      "Epoch:  4  Val Loss:  32.09557048726717  Val Acc:  0 R2: tensor(-2.0266e-06, device='cuda:0', grad_fn=<RsubBackward1>)\n",
      "Epoch:  5  Train Loss:  31.622481390833855  Train Acc:  5.119374057116488e-05\n"
     ]
    },
    {
     "name": "stderr",
     "output_type": "stream",
     "text": [
      " 60%|██████    | 6/10 [00:21<00:14,  3.51s/it]"
     ]
    },
    {
     "name": "stdout",
     "output_type": "stream",
     "text": [
      "Epoch:  5  Val Loss:  32.14017455027803  Val Acc:  0 R2: tensor(-3.0994e-06, device='cuda:0', grad_fn=<RsubBackward1>)\n",
      "Epoch:  6  Train Loss:  31.61933110654354  Train Acc:  5.119379927442935e-05\n"
     ]
    },
    {
     "name": "stderr",
     "output_type": "stream",
     "text": [
      " 70%|███████   | 7/10 [00:24<00:10,  3.49s/it]"
     ]
    },
    {
     "name": "stdout",
     "output_type": "stream",
     "text": [
      "Epoch:  6  Val Loss:  32.24790924539752  Val Acc:  0 R2: tensor(-1.0729e-06, device='cuda:0', grad_fn=<RsubBackward1>)\n",
      "Epoch:  7  Train Loss:  31.619850605726242  Train Acc:  5.1193820141293145e-05\n"
     ]
    },
    {
     "name": "stderr",
     "output_type": "stream",
     "text": [
      " 80%|████████  | 8/10 [00:28<00:06,  3.49s/it]"
     ]
    },
    {
     "name": "stdout",
     "output_type": "stream",
     "text": [
      "Epoch:  7  Val Loss:  31.71680289264458  Val Acc:  0 R2: tensor(1.0133e-06, device='cuda:0', grad_fn=<RsubBackward1>)\n",
      "Epoch:  8  Train Loss:  31.621026068925858  Train Acc:  5.119379834717108e-05\n"
     ]
    },
    {
     "name": "stderr",
     "output_type": "stream",
     "text": [
      " 90%|█████████ | 9/10 [00:31<00:03,  3.51s/it]"
     ]
    },
    {
     "name": "stdout",
     "output_type": "stream",
     "text": [
      "Epoch:  8  Val Loss:  31.795074043340264  Val Acc:  0 R2: tensor(4.5300e-06, device='cuda:0', grad_fn=<RsubBackward1>)\n",
      "Epoch:  9  Train Loss:  31.615580186247826  Train Acc:  5.1193811936300904e-05\n"
     ]
    },
    {
     "name": "stderr",
     "output_type": "stream",
     "text": [
      "100%|██████████| 10/10 [00:35<00:00,  3.53s/it]"
     ]
    },
    {
     "name": "stdout",
     "output_type": "stream",
     "text": [
      "Epoch:  9  Val Loss:  31.949166935926286  Val Acc:  0 R2: tensor(-1.2279e-05, device='cuda:0', grad_fn=<RsubBackward1>)\n"
     ]
    },
    {
     "name": "stderr",
     "output_type": "stream",
     "text": [
      "\n"
     ]
    },
    {
     "name": "stdout",
     "output_type": "stream",
     "text": [
      "(576, 29853, 95)\n",
      "(576, 95, 95)\n",
      "(576, 95, 29853)\n",
      "(576, 29853, 1)\n",
      "(576, 95, 1)\n"
     ]
    },
    {
     "ename": "NameError",
     "evalue": "name 'j' is not defined",
     "output_type": "error",
     "traceback": [
      "\u001b[0;31m---------------------------------------------------------------------------\u001b[0m",
      "\u001b[0;31mNameError\u001b[0m                                 Traceback (most recent call last)",
      "\u001b[0;32m/tmp/ipykernel_21892/878921874.py\u001b[0m in \u001b[0;36m<module>\u001b[0;34m\u001b[0m\n\u001b[1;32m    188\u001b[0m     \u001b[0mtest_acc\u001b[0m\u001b[0;34m+=\u001b[0m\u001b[0mloss\u001b[0m\u001b[0;34m.\u001b[0m\u001b[0mitem\u001b[0m\u001b[0;34m(\u001b[0m\u001b[0;34m)\u001b[0m\u001b[0;34m\u001b[0m\u001b[0;34m\u001b[0m\u001b[0m\n\u001b[1;32m    189\u001b[0m \u001b[0;34m\u001b[0m\u001b[0m\n\u001b[0;32m--> 190\u001b[0;31m \u001b[0mprint\u001b[0m\u001b[0;34m(\u001b[0m\u001b[0;34m'Epoch: '\u001b[0m\u001b[0;34m,\u001b[0m\u001b[0mj\u001b[0m\u001b[0;34m,\u001b[0m\u001b[0;34m' Val Loss: '\u001b[0m\u001b[0;34m,\u001b[0m\u001b[0mloss_val\u001b[0m\u001b[0;34m[\u001b[0m\u001b[0;34m-\u001b[0m\u001b[0;36m1\u001b[0m\u001b[0;34m]\u001b[0m\u001b[0;34m,\u001b[0m\u001b[0;34m' Val Acc: '\u001b[0m\u001b[0;34m,\u001b[0m\u001b[0macc_val\u001b[0m\u001b[0;34m[\u001b[0m\u001b[0;34m-\u001b[0m\u001b[0;36m1\u001b[0m\u001b[0;34m]\u001b[0m\u001b[0;34m,\u001b[0m\u001b[0;34m'R2:'\u001b[0m\u001b[0;34m,\u001b[0m\u001b[0;36m1\u001b[0m\u001b[0;34m-\u001b[0m\u001b[0;34m(\u001b[0m\u001b[0;34m(\u001b[0m\u001b[0my_new\u001b[0m\u001b[0;34m-\u001b[0m\u001b[0my_pred\u001b[0m\u001b[0;34m)\u001b[0m\u001b[0;34m.\u001b[0m\u001b[0mT\u001b[0m \u001b[0;34m@\u001b[0m \u001b[0;34m(\u001b[0m\u001b[0my_new\u001b[0m\u001b[0;34m-\u001b[0m\u001b[0my_pred\u001b[0m\u001b[0;34m)\u001b[0m\u001b[0;34m)\u001b[0m\u001b[0;34m/\u001b[0m\u001b[0;34m(\u001b[0m\u001b[0my_new\u001b[0m\u001b[0;34m.\u001b[0m\u001b[0mT\u001b[0m \u001b[0;34m@\u001b[0m \u001b[0my_new\u001b[0m\u001b[0;34m)\u001b[0m\u001b[0;34m)\u001b[0m\u001b[0;34m\u001b[0m\u001b[0;34m\u001b[0m\u001b[0m\n\u001b[0m",
      "\u001b[0;31mNameError\u001b[0m: name 'j' is not defined"
     ]
    }
   ],
   "source": [
    "# As a third regularization technique, we adopt an ensemble approach in training our neural networks. In particular, we use multiple random seeds, say, 10, to initialize neural network estimation and construct model predictions by averaging estimates from all networks. This enhances the stability of the results because the stochastic nature of the optimization can cause different seeds to settle at different optima.\n",
    "\n",
    "\n",
    "# start_date_train = pd.Timestamp('1957-01-01')\n",
    "# start_date_val = start_date_train + pd.DateOffset(years=18)\n",
    "# start_date_test = start_date_val + pd.DateOffset(years=12)\n",
    "# end_date_train = start_date_train\n",
    "\n",
    "start_date_train = 19570101\n",
    "start_date_val = 19750101\n",
    "start_date_test = 19690101\n",
    "end_date_train = start_date_train\n",
    "\n",
    "\n",
    "\n",
    "EPOCH=10\n",
    "factor_mode='folios'\n",
    "batch_size=1\n",
    "shuffle=False\n",
    "device = torch.device(\"cuda:0\" if torch.cuda.is_available() else \"cpu\")\n",
    "n_tickers=len(firm_all)\n",
    "model=CA(n_tickers,n_characteristics,encoding_dim=5,factor_mode=factor_mode).to(device)\n",
    "optimizer=optim.Adam(model.parameters(), lr=0.001)\n",
    "LASSO_lamb=0.1\n",
    "criterion=nn.MSELoss().to(device)\n",
    "early_stopping=False\n",
    "PATIENCE=10\n",
    "r2=[]\n",
    "\n",
    "for year1 in range(start_date_train, start_date_val,10000):\n",
    "    year=int(year1/10000)\n",
    "    print(year,':')\n",
    "\n",
    "    end_date_train = end_date_train + 10000\n",
    "    end_date_val = end_date_train + 180000\n",
    "    # print(\"aaa\",df['date'])\n",
    "    # print(\"bbb\",start_date_train.astype(int))\n",
    "    # print(df[(df['date'] >= start_date_train) & (df['date'] < end_date_train)])\n",
    "    # quit()\n",
    "    # print(df[(df['date'] >= start_date_train) & (df['date'] < end_date_train)])\n",
    "    # print(df[(df['date'] >= start_date_train) & (df['date'] < end_date_train)].set_index('permno').index.duplicated())\n",
    "    data_push_train=fill_nan(df[(df['date'] >= start_date_train) & (df['date'] < end_date_train)])\n",
    "    data_push_val=fill_nan(df[(df['date'] >= end_date_train) & (df['date'] < end_date_val)])\n",
    "    train_loader = make_data(data_push_train,factor_mode=factor_mode,batch_size=batch_size, shuffle=shuffle)\n",
    "    val_loader = make_data(data_push_val,factor_mode=factor_mode,batch_size=batch_size, shuffle=shuffle)\n",
    "    \n",
    "    loss_train=[]\n",
    "    loss_val=[]\n",
    "    acc_train=[]\n",
    "    acc_val=[]                \n",
    "    r2_=[]\n",
    "\n",
    "    if early_stopping==False:\n",
    "        for epoch in trange(EPOCH):\n",
    "            \n",
    "            model.train()\n",
    "            train_loss=0\n",
    "            train_acc=0\n",
    "            for i,x in enumerate(train_loader):\n",
    "                x_beta,x_factor_ret,y=x\n",
    "                x_beta=x_beta.to(device)\n",
    "                x_factor_ret=x_factor_ret.to(device)\n",
    "                y=y.to(device)\n",
    "                y_pred=model(x_beta,x_factor_ret)\n",
    "                # print(y_pred.shape)\n",
    "                y_pred = y_pred.reshape(-1)\n",
    "                y_new = y.reshape(-1)\n",
    "                loss=criterion(y_pred,y_new)\n",
    "                train_acc+=loss.item()\n",
    "                regularization_loss=torch.tensor(0.0).to(device)\n",
    "                for param in model.parameters():\n",
    "                    regularization_loss+=torch.sum(torch.abs(param))\n",
    "                loss+=LASSO_lamb*regularization_loss\n",
    "                train_loss+=loss.item()\n",
    "                optimizer.zero_grad()\n",
    "                loss.backward()\n",
    "                optimizer.step()\n",
    "            loss_train.append(train_loss)\n",
    "            acc_train.append(train_acc)\n",
    "            print('Epoch: ',epoch,' Train Loss: ',loss_train[-1],' Train Acc: ',acc_train[-1],)\n",
    "            \n",
    "            val_loss=0\n",
    "            val_acc=0\n",
    "            model.eval()\n",
    "            for i,x in enumerate(val_loader):\n",
    "                x_beta,x_factor_ret,y=x\n",
    "                x_beta=x_beta.to(device)\n",
    "                x_factor_ret=x_factor_ret.to(device)\n",
    "                y=y.to(device)\n",
    "                y_pred=model(x_beta,x_factor_ret)\n",
    "                # print('hhhh')\n",
    "                # print(y_pred.shape)\n",
    "                # print(y.shape)\n",
    "                y_pred = y_pred.reshape(-1)\n",
    "                y_new = y.reshape(-1)\n",
    "                loss=criterion(y_pred,y_new)\n",
    "                val_loss+=loss.item()\n",
    "                regularization_loss=torch.tensor(0.0).to(device)\n",
    "                for param in model.parameters():\n",
    "                    regularization_loss+=torch.sum(torch.abs(param))\n",
    "                loss+=LASSO_lamb*regularization_loss\n",
    "                val_loss+=loss.item()\n",
    "            loss_val.append(val_loss)\n",
    "            acc_val.append(val_acc)\n",
    "            y_pred=y_pred.reshape(-1)\n",
    "            y_new=y.reshape(-1)\n",
    "            r2_tmp=1-((y_new-y_pred).T @ (y_new-y_pred))/(y_new.T @ y_new)\n",
    "            r2_.append(r2_tmp)\n",
    "            print('Epoch: ',epoch,' Val Loss: ',loss_val[-1],' Val Acc: ',acc_val[-1],'R2:',r2_tmp)\n",
    "            # torch.save(model.state_dict(), f'model_{epoch}.pt')\n",
    "    elif early_stopping:\n",
    "        j=0\n",
    "        eps=float('inf')\n",
    "        \n",
    "        while j<PATIENCE*batch_size and eps>0.0001:\n",
    "            model.train()\n",
    "            train_loss=0\n",
    "            train_acc=0\n",
    "            val_loss=0\n",
    "            val_acc=0\n",
    "            \n",
    "            for i,x in enumerate(train_loader):\n",
    "                x_beta,x_factor_ret,y=x\n",
    "                x_beta=x_beta.to(device)\n",
    "                x_factor_ret=x_factor_ret.to(device)\n",
    "                y=y.to(device)\n",
    "                y_pred=model(x_beta,x_factor_ret)\n",
    "                y_pred = y_pred.reshape(-1)\n",
    "                y_new = y.reshape(-1)\n",
    "                loss=criterion(y_pred,y_new)\n",
    "                train_acc+=loss.item()\n",
    "                regularization_loss=torch.tensor(0).to(device)\n",
    "                for param in model.parameters():\n",
    "                    regularization_loss+=torch.sum(torch.abs(param))\n",
    "                loss+=LASSO_lamb*regularization_loss\n",
    "                train_loss+=loss.item()\n",
    "            \n",
    "                model.eval()\n",
    "                val_loss=0\n",
    "                val_acc=0\n",
    "                for ii,x in enumerate(val_loader):\n",
    "                    x_beta,x_factor_ret,y=x\n",
    "                    x_beta=x_beta.to(device)\n",
    "                    x_factor_ret=x_factor_ret.to(device)\n",
    "                    y=y.to(device)\n",
    "                    y_pred=model(x_beta,x_factor_ret)\n",
    "                    y_pred = y_pred.reshape(-1)\n",
    "                    y_new = y.reshape(-1)\n",
    "                    loss=criterion(y_pred,y_new)\n",
    "                    val_loss+=loss.item()\n",
    "                    regularization_loss=torch.tensor(0).to(device)\n",
    "                    for param in model.parameters():\n",
    "                        regularization_loss+=torch.sum(torch.abs(param))\n",
    "                    loss+=LASSO_lamb*regularization_loss\n",
    "                    val_loss+=loss.item()\n",
    "                if val_acc<eps:\n",
    "                    optimizer.zero_grad()\n",
    "                    train_loss.backward()\n",
    "                    optimizer.step()\n",
    "                    eps=val_acc[-1]\n",
    "                    j=0\n",
    "                else:\n",
    "                    j+=1\n",
    "            \n",
    "            loss_train.append(train_loss)\n",
    "            acc_train.append(train_acc)\n",
    "            loss_val.append(val_loss)\n",
    "            acc_val.append(val_acc)\n",
    "            print('Epoch: ',j,' Train Loss: ',loss_train[-1],' Train Acc: ',acc_train[-1])\n",
    "            y_pred=y_pred.reshape(-1)\n",
    "            y_new=y.reshape(-1)\n",
    "            print('Epoch: ',j,' Val Loss: ',loss_val[-1],' Val Acc: ',acc_val[-1],'R2:',1-((y_new-y_pred).T @ (y_new-y_pred))/(y_new.T @ y_new))\n",
    "            # torch.save(model.state_dict(), f'model_{j}.pt')\n",
    "    r2.append(r2_)       \n",
    "data_push_test=fill_nan(df[(df['date'] >= start_date_test)])   \n",
    "test_loader = make_data(data_push_test,factor_mode=factor_mode,batch_size=batch_size, shuffle=shuffle)\n",
    "model.eval()\n",
    "test_acc=0\n",
    "for i,x in enumerate(test_loader):\n",
    "    x_beta,x_factor_ret,y=x\n",
    "    x_beta=x_beta.to(device)\n",
    "    x_factor_ret=x_factor_ret.to(device)\n",
    "    y=y.to(device)\n",
    "    y_pred=model(x_beta,x_factor_ret)\n",
    "    y_pred=y_pred.reshape(-1)\n",
    "    y_new=y.reshape(-1)\n",
    "    loss=criterion(y_pred,y_new)\n",
    "    test_acc+=loss.item()\n",
    "\n",
    "print('Epoch: ',j,' Val Loss: ',loss_val[-1],' Val Acc: ',acc_val[-1],'R2:',1-((y_new-y_pred).T @ (y_new-y_pred))/(y_new.T @ y_new))\n"
   ]
  },
  {
   "cell_type": "code",
   "execution_count": null,
   "metadata": {},
   "outputs": [],
   "source": [
    "print(r2)"
   ]
  }
 ],
 "metadata": {
  "kernelspec": {
   "display_name": "daily",
   "language": "python",
   "name": "python3"
  },
  "language_info": {
   "codemirror_mode": {
    "name": "ipython",
    "version": 3
   },
   "file_extension": ".py",
   "mimetype": "text/x-python",
   "name": "python",
   "nbconvert_exporter": "python",
   "pygments_lexer": "ipython3",
   "version": "3.7.13"
  },
  "orig_nbformat": 4
 },
 "nbformat": 4,
 "nbformat_minor": 2
}
