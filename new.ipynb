{
 "cells": [
  {
   "cell_type": "code",
   "execution_count": 3,
   "metadata": {},
   "outputs": [
    {
     "name": "stdout",
     "output_type": "stream",
     "text": [
      "94\n"
     ]
    }
   ],
   "source": [
    "import numpy as np\n",
    "import pandas as pd\n",
    "import warnings\n",
    "from sklearn.decomposition import PCA\n",
    "from sklearn.linear_model import LinearRegression\n",
    "\n",
    "# warnings.filterwarnings('ignore')\n",
    "monthly=['baspread', 'beta', 'betasq','chmom',  'dolvol','idiovol', 'ill', 'indmom','maxret', 'mom12m', 'mom1m', 'mom36m', 'mom6m','mvel1',  'pricedelay', 'retvol','std_dolvol', 'std_turn',  'turn', 'zerotrade']\n",
    "quarterly=['aeavol','cash', 'chtx','cinvest', 'ear','ms', 'nincr', 'roaq', 'roavol', 'roeq', 'rsup', 'stdacc', 'stdcf']\n",
    "annually=['absacc', 'acc',  'age', 'agr',  'bm', 'bm_ia', 'cashdebt', 'cashpr', 'cfp', 'cfp_ia', 'chatoia', 'chcsho', 'chempia', 'chinv', 'chpmia',   'convind', 'currat', 'depr', 'divi', 'divo', 'dy', 'egr', 'ep', 'gma', 'grcapx', 'grltnoa', 'herf', 'hire',  'invest', 'lev', 'lgr',  'mve_ia', 'operprof', 'orgcap', 'pchcapx_ia', 'pchcurrat', 'pchdepr', 'pchgm_pchsale', 'pchquick', 'pchsale_pchinvt', 'pchsale_pchrect', 'pchsale_pchxsga', 'pchsaleinv', 'pctacc',  'ps', 'quick', 'rd', 'rd_mve', 'rd_sale', 'realestate', 'roic', 'salecash', 'saleinv', 'salerec', 'secured', 'securedind', 'sgr', 'sic2', 'sin', 'sp', 'tang', 'tb']\n",
    "annually.remove(\"sic2\")\n",
    "characteristics=monthly+quarterly+annually\n",
    "print(len(characteristics))"
   ]
  },
  {
   "cell_type": "code",
   "execution_count": 4,
   "metadata": {},
   "outputs": [
    {
     "name": "stdout",
     "output_type": "stream",
     "text": [
      "29853\n",
      "   permno      date    ret-rf  baspread      beta    betasq     chmom  \\\n",
      "0   10006  19570329  0.016105 -0.625355  0.190161  0.190161  0.786187   \n",
      "1   10014  19570329 -0.002300  0.911069 -0.899716 -0.899716 -0.364238   \n",
      "2   10022  19570329 -0.006146  0.774834 -0.123936 -0.123936  0.048250   \n",
      "3   10030  19570329  0.075607 -0.006623 -0.250710 -0.250710  0.557237   \n",
      "4   10057  19570329 -0.020030 -0.350993  0.345317  0.345317 -0.403974   \n",
      "\n",
      "     dolvol   idiovol       ill  ...  salerec  secured  securedind  sgr  \\\n",
      "0  0.665090 -0.400189 -0.385052  ...      0.0      0.0         0.0  0.0   \n",
      "1 -0.831599  0.967833  0.973510  ...      0.0      0.0         0.0  0.0   \n",
      "2 -0.678335  0.065279  0.825922  ...      0.0      0.0         0.0  0.0   \n",
      "3  0.491012 -0.612110 -0.708609  ...      0.0      0.0         0.0  0.0   \n",
      "4 -0.080416 -0.405866  0.089877  ...      0.0      0.0         0.0  0.0   \n",
      "\n",
      "       sic2  sin   sp  tang   tb  ret-rf-fwd  \n",
      "0  0.640492  0.0  0.0   0.0  0.0     -1.0532  \n",
      "1 -0.009461  0.0  0.0   0.0  0.0      4.5119  \n",
      "2 -0.009461  0.0  0.0   0.0  0.0      5.6324  \n",
      "3 -0.009461  0.0  0.0   0.0  0.0      2.4822  \n",
      "4 -0.009461  0.0  0.0   0.0  0.0      6.6092  \n",
      "\n",
      "[5 rows x 99 columns]\n"
     ]
    }
   ],
   "source": [
    "df_final=pd.read_csv('./guiyi_.csv')\n",
    "df_final.loc[:, 'ret-rf'] = df_final.loc[:, 'ret-rf'].clip(lower=-100.0, upper=100.0) / 100\n",
    "# df_final.loc[:, 'ret-rf-fwd'] = df_final.loc[:, 'ret-rf-fwd'].clip(lower=-1.0, upper=1.0)\n",
    "df_final[characteristics+['ret-rf']] = df_final[characteristics+['ret-rf']] .fillna(0) # 参考machine-learning-for-trading/20_autoencoders_for_conditional_risk_factors/06_conditional_autoencoder_for_asset_pricing_model.ipynb中的方式\n",
    "firm_all=df_final['permno'].unique()\n",
    "print(len(firm_all))\n",
    "n_characteristics=len(characteristics)\n",
    "print(df_final.head())"
   ]
  },
  {
   "cell_type": "code",
   "execution_count": 3,
   "metadata": {},
   "outputs": [],
   "source": [
    "start_date_train = 19570401\n",
    "end_date_train = 19850101\n",
    "start_date_val = 19850101\n",
    "end_date_val = 19960101\n",
    "df_train = df_final[(df_final['date'] >= start_date_train) & (df_final['date'] < end_date_train)]\n",
    "df_val = df_final[(df_final['date'] >= start_date_val) & (df_final['date'] < end_date_val)]"
   ]
  },
  {
   "cell_type": "code",
   "execution_count": 4,
   "metadata": {},
   "outputs": [
    {
     "name": "stdout",
     "output_type": "stream",
     "text": [
      "0.014635268918583244\n"
     ]
    }
   ],
   "source": [
    "pca = PCA(n_components=6)\n",
    "pca.fit(df_train[characteristics])\n",
    "reg = LinearRegression()\n",
    "reg.fit(pca.transform(df_train[characteristics]), df_train['ret-rf'])\n",
    "output = reg.predict(pca.transform(df_val[characteristics]))\n",
    "r2 = 1 - ((df_val['ret-rf'].to_numpy() - output) ** 2).sum() / (df_val['ret-rf'].to_numpy() ** 2).sum()\n",
    "print(r2)"
   ]
  },
  {
   "cell_type": "code",
   "execution_count": 5,
   "metadata": {},
   "outputs": [
    {
     "name": "stdout",
     "output_type": "stream",
     "text": [
      "379\n",
      "0.010300093975828447\n",
      "-0.011384233987142953\n",
      "379\n",
      "0.016905569842239815\n",
      "-0.010360432664519702\n",
      "379\n",
      "0.022025013354193365\n",
      "-0.009470478707497187\n",
      "379\n",
      "0.02756340771503632\n",
      "-0.009925160162285613\n",
      "379\n",
      "0.034101646111046074\n",
      "-0.010410043313553703\n",
      "379\n",
      "0.0413307808460892\n",
      "-0.009410362238571179\n"
     ]
    }
   ],
   "source": [
    "start_date_train = 19570401\n",
    "end_date_train = 19850101\n",
    "start_date_val = 19850101\n",
    "end_date_val = 19960101\n",
    "for n_components in range(1, 7):\n",
    "    r2s_train = []\n",
    "    r2s_val = []\n",
    "    lengths = []\n",
    "    for _, each_df in df_final.groupby(by='permno'):\n",
    "        each_df_train = each_df[(each_df['date'] >= start_date_train) & (each_df['date'] < end_date_train)]\n",
    "        each_df_val = each_df[(each_df['date'] >= start_date_val) & (each_df['date'] < end_date_val)]\n",
    "        if (len(each_df_train) >= 300 and len(each_df_val) >= 50):\n",
    "            lengths.append(len(each_df))\n",
    "            pca = PCA(n_components=n_components)\n",
    "            pca.fit(each_df_train[characteristics])\n",
    "            reg = LinearRegression()\n",
    "            reg.fit(pca.transform(each_df_train[characteristics]), each_df_train['ret-rf'])\n",
    "            output = reg.predict(pca.transform(each_df_train[characteristics]))\n",
    "            r2 = 1 - ((each_df_train['ret-rf'].to_numpy() - output) ** 2).sum() / (each_df_train['ret-rf'].to_numpy() ** 2).sum()\n",
    "            r2s_train.append(r2)\n",
    "            output = reg.predict(pca.transform(each_df_val[characteristics]))\n",
    "            r2 = 1 - ((each_df_val['ret-rf'].to_numpy() - output) ** 2).sum() / (each_df_val['ret-rf'].to_numpy() ** 2).sum()\n",
    "            r2s_val.append(r2)\n",
    "    print(len(lengths))\n",
    "    # print(sum(1 for i in lengths if i >= 200))\n",
    "    print(sum(r2s_train) / len(r2s_train))\n",
    "    print(-sum(r2s_val) / len(r2s_val))"
   ]
  },
  {
   "cell_type": "code",
   "execution_count": 6,
   "metadata": {},
   "outputs": [
    {
     "name": "stdout",
     "output_type": "stream",
     "text": [
      "227\n",
      "0.030912107845758013\n",
      "0.012917799350836845\n",
      "227\n",
      "0.0446946457369472\n",
      "0.014832316410038298\n",
      "227\n",
      "0.05847879716714108\n",
      "0.013892286578614958\n",
      "227\n",
      "0.07597640583682486\n",
      "0.011102181479600194\n",
      "227\n",
      "0.09529304632757526\n",
      "0.005758521687015253\n",
      "227\n",
      "0.11377401806043912\n",
      "0.00010807199820197589\n"
     ]
    }
   ],
   "source": [
    "start_date_trains = [19570401, 19710101, 19810101, 19910101, 20010101]\n",
    "end_date_trains = [19690101, 19790101, 19890101, 19990101, 20140101]\n",
    "start_date_vals = [19690101, 19790101, 19890101, 19990101, 20140101]\n",
    "end_date_vals = [19710101, 19810101, 19910101, 20010101, 20170101]\n",
    "for n_components in range(1, 7):\n",
    "    r2s_train = []\n",
    "    r2s_val = []\n",
    "    lengths = []\n",
    "    for _, each_df in df_final.groupby(by='permno'):\n",
    "        each_df_trains = []\n",
    "        each_df_vals = []\n",
    "        for i in range(len(start_date_trains)):\n",
    "            each_df_trains.append(each_df[(each_df['date'] >= start_date_trains[i]) & (each_df['date'] < end_date_trains[i])])\n",
    "            each_df_vals.append(each_df[(each_df['date'] >= start_date_vals[i]) & (each_df['date'] < end_date_vals[i])])\n",
    "        # print(len(each_df_trains))\n",
    "        # print(len(each_df_vals))\n",
    "        each_df_train = pd.concat(each_df_trains)\n",
    "        each_df_val = pd.concat(each_df_vals)\n",
    "        if (all(len(each_df_train_decade) >= 50 for each_df_train_decade in each_df_trains) and \n",
    "            all(len(each_df_val_decade) >= 10 for each_df_val_decade in each_df_vals)):\n",
    "            # print([len(each_df_train_decade) for each_df_train_decade in each_df_trains])\n",
    "            # print([len(each_df_val_decade) for each_df_val_decade in each_df_vals])\n",
    "            lengths.append(len(each_df))\n",
    "            pca_first_step = PCA(n_components=50)\n",
    "            pca_first_step.fit(each_df_train[characteristics])\n",
    "            pcas_second_step = []\n",
    "            regs = []\n",
    "            r2_numerator_train = 0; r2_denominator_train = 0; r2_numerator_val = 0; r2_denominator_val = 0\n",
    "            for each_df_train_decade, each_df_val_decade in zip(each_df_trains, each_df_vals):\n",
    "                pca_second_step = PCA(n_components=n_components)\n",
    "                pcas_second_step.append(pca_second_step)\n",
    "                pca_second_step.fit(pca_first_step.transform(each_df_train_decade[characteristics]))\n",
    "                reg = LinearRegression()\n",
    "                regs.append(reg)\n",
    "                reg.fit(pca_second_step.transform(pca_first_step.transform(each_df_train_decade[characteristics])), each_df_train_decade['ret-rf'])\n",
    "                output = reg.predict(pca_second_step.transform(pca_first_step.transform(each_df_train_decade[characteristics])))\n",
    "                r2_numerator_train += ((each_df_train_decade['ret-rf'].to_numpy() - output) ** 2).sum()\n",
    "                r2_denominator_train += (each_df_train_decade['ret-rf'].to_numpy() ** 2).sum()\n",
    "                output = reg.predict(pca_second_step.transform(pca_first_step.transform(each_df_val_decade[characteristics])))\n",
    "                r2_numerator_val += ((each_df_val_decade['ret-rf'].to_numpy() - output) ** 2).sum()\n",
    "                r2_denominator_val += (each_df_val_decade['ret-rf'].to_numpy() ** 2).sum()\n",
    "            r2 = 1 - r2_numerator_train / r2_denominator_train\n",
    "            r2s_train.append(r2)\n",
    "            r2 = 1 - r2_numerator_val / r2_denominator_val\n",
    "            r2s_val.append(r2)\n",
    "    print(len(lengths))\n",
    "    # print(sum(1 for i in lengths if i >= 200))\n",
    "    print(sum(r2s_train) / len(r2s_train))\n",
    "    print(abs(sum(r2s_val) / len(r2s_val)))"
   ]
  },
  {
   "cell_type": "code",
   "execution_count": 7,
   "metadata": {},
   "outputs": [
    {
     "name": "stdout",
     "output_type": "stream",
     "text": [
      "333\n",
      "0.3491435387395421\n",
      "-0.0020057562132578827\n",
      "333\n",
      "0.3725374774140128\n",
      "-0.00384424893758962\n",
      "333\n",
      "0.4831698623636371\n",
      "-0.005481820157482538\n",
      "333\n",
      "0.5162592611536612\n",
      "-0.006866308539007843\n",
      "333\n",
      "0.5262077544600667\n",
      "-0.008021760304960011\n",
      "333\n",
      "0.566404491861606\n",
      "-0.00899344748599007\n"
     ]
    }
   ],
   "source": [
    "start_date_train = 19570401\n",
    "end_date_train = 19850101\n",
    "start_date_val = 19850101\n",
    "end_date_val = 19960101\n",
    "for n_components in range(1, 7):\n",
    "    r2s_train = []\n",
    "    r2s_test = []\n",
    "    lengths = []\n",
    "    for _, each_df in df_final[(df_final['date'] >= start_date_train) & (df_final['date'] < end_date_train)].groupby(by='date'):\n",
    "        # each_df_train = each_df[(each_df['date'] >= start_date_train) & (each_df['date'] < end_date_train)]\n",
    "        # each_df_val = each_df[(each_df['date'] >= start_date_val) & (each_df['date'] < end_date_val)]\n",
    "        if (len(each_df) >= 300):\n",
    "            lengths.append(len(each_df))\n",
    "            try:\n",
    "                X_factor = np.linalg.solve(each_df[characteristics].values.T @ each_df[characteristics].values, each_df[characteristics].values.T @ each_df['ret-rf'].values)\n",
    "            except np.linalg.LinAlgError:\n",
    "                continue\n",
    "            # X_factor=np.linalg.pinv(Z_t_minus_1.transpose(0,2,1) @ Z_t_minus_1) @ Z_t_minus_1.transpose(0,2,1) @ X_factor_ret\n",
    "            input = each_df[characteristics].values.T\n",
    "            pca = PCA(n_components=n_components)\n",
    "            pca.fit(input[-len(input) // 10:])\n",
    "            reg = LinearRegression()\n",
    "            reg.fit(pca.transform(input[-len(input) // 10:]), X_factor[-len(input) // 10:])\n",
    "            output = reg.predict(pca.transform(input[-len(input) // 10:]))\n",
    "            r2 = 1 - ((X_factor[-len(input) // 10:] - output) ** 2).sum() / (X_factor[-len(input) // 10:] ** 2).sum()\n",
    "            r2s_train.append(r2)\n",
    "            output = reg.predict(pca.transform(input[:-len(input) // 10]))\n",
    "            r2 = 1 - ((X_factor[:-len(input) // 10] - output) ** 2).sum() / (X_factor[:-len(input) // 10] ** 2).sum()\n",
    "            r2s_val.append(r2)\n",
    "    print(len(lengths))\n",
    "    # print(sum(1 for i in lengths if i >= 200))\n",
    "    print(sum(r2s_train) / len(r2s_train))\n",
    "    print(sum(r2s_val) / len(r2s_val))"
   ]
  },
  {
   "cell_type": "code",
   "execution_count": 3,
   "metadata": {},
   "outputs": [],
   "source": [
    "from ipca import InstrumentedPCA\n",
    "# df_alternate = df_final[(df_final['date'] >= start_date_val) & (df_final['date'] < end_date_val)]\\\n",
    "#     .set_index(['permno', 'date']).stack().unstack(level=0).swaplevel(0, 1) # .set_index('date', append=True, inplace=True)\n",
    "# print(df_alternate.head())\n",
    "# df_alternate = df_final.groupby('permno').filter(lambda x : len(x) >= 200).set_index(['permno', 'date'])\n",
    "# regr = InstrumentedPCA(n_factors=1, intercept=False)\n",
    "# regr = regr.fit(X=df_alternate[characteristics], y=df_alternate['ret-rf'])"
   ]
  },
  {
   "cell_type": "code",
   "execution_count": 5,
   "metadata": {},
   "outputs": [],
   "source": [
    "start_date_trains = [20010101, 20110101]\n",
    "end_date_trains = [20100101, 20140101]\n",
    "start_date_vals = [20100101, 20140101]\n",
    "end_date_vals = [20110101, 20160101]\n",
    "df_alternate = df_final[(df_final['date'] >= start_date_trains[0]) & (df_final['date'] < end_date_vals[-1])]\\\n",
    "    .set_index(['permno', 'date'])[characteristics].stack().unstack(level=0)"
   ]
  },
  {
   "cell_type": "code",
   "execution_count": 6,
   "metadata": {},
   "outputs": [],
   "source": [
    "df_alternate['X_factor'] = 0\n",
    "X_factors = []\n",
    "df_final.fillna(0)\n",
    "for date, each_df in df_final[(df_final['date'] >= start_date_trains[0]) & (df_final['date'] < end_date_vals[-1])].groupby(by='date'):\n",
    "    try:\n",
    "        # X_factor = np.linalg.solve(each_df[characteristics].values.T @ each_df[characteristics].values, each_df[characteristics].values.T @ each_df['ret-rf'].values)\n",
    "        X_factor = np.linalg.pinv(each_df[characteristics].values.T @ each_df[characteristics].values) @ each_df[characteristics].values.T @ each_df['ret-rf'].values\n",
    "        # print(X_factor)\n",
    "    except np.linalg.LinAlgError:\n",
    "        continue\n",
    "    s = pd.Series(characteristics, X_factor)\n",
    "    s['date'] = date\n",
    "    df_alternate.loc[:, 'X_factor'] = pd.Series(X_factor, pd.MultiIndex.from_tuples([(date, a) for a in characteristics]))\n",
    "    X_factors.append(pd.Series(X_factor, pd.MultiIndex.from_tuples([(date, a) for a in characteristics])))\n",
    "    # print(X_factors[-1])\n",
    "df_alternate['X_factor'] = pd.concat(X_factors)\n",
    "df_alternate = df_alternate.reset_index().fillna(0)\n",
    "# df_alternate = df_alternate.swaplevel(0, 1).fillna(0)\n",
    "# print(df_alternate.head())"
   ]
  },
  {
   "cell_type": "code",
   "execution_count": 6,
   "metadata": {},
   "outputs": [
    {
     "name": "stderr",
     "output_type": "stream",
     "text": [
      "[                                                                        ]   0%\r"
     ]
    },
    {
     "name": "stdout",
     "output_type": "stream",
     "text": [
      "The panel dimensions are:\n",
      "n_samples: 94 , L: 13674 , T: 180\n"
     ]
    },
    {
     "ename": "",
     "evalue": "",
     "output_type": "error",
     "traceback": [
      "\u001b[1;31mCanceled future for execute_request message before replies were done"
     ]
    },
    {
     "ename": "",
     "evalue": "",
     "output_type": "error",
     "traceback": [
      "\u001b[1;31mThe Kernel crashed while executing code in the the current cell or a previous cell. Please review the code in the cell(s) to identify a possible cause of the failure. Click <a href='https://aka.ms/vscodeJupyterKernelCrash'>here</a> for more info. View Jupyter <a href='command:jupyter.viewOutput'>log</a> for further details."
     ]
    }
   ],
   "source": [
    "# permnos = df_alternate.columns.to_list()\n",
    "# permnos.remove('X_factor')\n",
    "# regr = InstrumentedPCA(n_factors=6, intercept=False)\n",
    "# regr = regr.fit(X=df_alternate[permnos], y=df_alternate['X_factor'])"
   ]
  },
  {
   "cell_type": "code",
   "execution_count": 7,
   "metadata": {},
   "outputs": [
    {
     "name": "stdout",
     "output_type": "stream",
     "text": [
      "94\n",
      "0.1520448610522434\n",
      "0.06135071368849443\n",
      "94\n",
      "0.17043763310705068\n",
      "0.03760971393058592\n",
      "94\n",
      "0.18519033020785103\n",
      "0.031158194187123317\n",
      "94\n",
      "0.19784231860787102\n",
      "0.006672450015151244\n",
      "94\n",
      "0.2110863828242271\n",
      "0.01035303530909631\n",
      "94\n",
      "0.2302168047621838\n",
      "0.03068683741123433\n"
     ]
    }
   ],
   "source": [
    "permnos = df_alternate.columns.to_list()\n",
    "permnos.remove('X_factor')\n",
    "permnos.remove('date')\n",
    "permnos.remove('level_1')\n",
    "for n_components in range(1, 7):\n",
    "    r2s_train = []\n",
    "    r2s_val = []\n",
    "    lengths = []\n",
    "    for _, each_df in df_alternate.groupby(by='level_1'):\n",
    "        each_df_trains = []\n",
    "        each_df_vals = []\n",
    "        for i in range(len(start_date_trains)):\n",
    "            each_df_trains.append(each_df[(each_df['date'] >= start_date_trains[i]) & (each_df['date'] < end_date_trains[i])])\n",
    "            each_df_vals.append(each_df[(each_df['date'] >= start_date_vals[i]) & (each_df['date'] < end_date_vals[i])])\n",
    "        # print(len(each_df_trains))\n",
    "        # print(len(each_df_vals))\n",
    "        # print(each_df_trains[0])\n",
    "        each_df_train = pd.concat(each_df_trains)\n",
    "        each_df_val = pd.concat(each_df_vals)\n",
    "        # if (all(each_df_train_decade.shape[0] * each_df_train_decade.shape[1] >= 2 * (each_df_train_decade == 0).to_numpy().sum() for each_df_train_decade in each_df_trains) and \n",
    "        #     all(each_df_val_decade.shape[0] * each_df_val_decade.shape[1] >= 2 * (each_df_val_decade == 0).to_numpy().sum() for each_df_val_decade in each_df_vals)):\n",
    "        if (all(len(each_df_train_decade) >= 10 for each_df_train_decade in each_df_trains) and \n",
    "            all(len(each_df_val_decade) >= 2 for each_df_val_decade in each_df_vals)):\n",
    "            # print([len(each_df_train_decade) for each_df_train_decade in each_df_trains])\n",
    "            # print([len(each_df_val_decade) for each_df_val_decade in each_df_vals])\n",
    "            lengths.append(len(each_df))\n",
    "            pca_first_step = PCA(n_components=60)\n",
    "            pca_first_step.fit(each_df_train[permnos])\n",
    "            pcas_second_step = []\n",
    "            regs = []\n",
    "            r2_numerator_train = 0; r2_denominator_train = 0; r2_numerator_val = 0; r2_denominator_val = 0\n",
    "            for each_df_train_decade, each_df_val_decade in zip(each_df_trains, each_df_vals):\n",
    "                pca_second_step = PCA(n_components=n_components)\n",
    "                pcas_second_step.append(pca_second_step)\n",
    "                pca_second_step.fit(pca_first_step.transform(each_df_train_decade[permnos]))\n",
    "                reg = LinearRegression()\n",
    "                regs.append(reg)\n",
    "                reg.fit(pca_second_step.transform(pca_first_step.transform(each_df_train_decade[permnos])), each_df_train_decade['X_factor'])\n",
    "                output = reg.predict(pca_second_step.transform(pca_first_step.transform(each_df_train_decade[permnos])))\n",
    "                # print(output)\n",
    "                r2_numerator_train += ((each_df_train_decade['X_factor'].to_numpy() - output) ** 2).sum()\n",
    "                r2_denominator_train += (each_df_train_decade['X_factor'].to_numpy() ** 2).sum()\n",
    "                output = reg.predict(pca_second_step.transform(pca_first_step.transform(each_df_val_decade[permnos])))\n",
    "                r2_numerator_val += ((each_df_val_decade['X_factor'].to_numpy() - output) ** 2).sum()\n",
    "                r2_denominator_val += (each_df_val_decade['X_factor'].to_numpy() ** 2).sum()\n",
    "            r2 = 1 - r2_numerator_train / r2_denominator_train\n",
    "            r2s_train.append(r2)\n",
    "            r2 = 1 - r2_numerator_val / r2_denominator_val\n",
    "            r2s_val.append(r2)\n",
    "    print(len(lengths))\n",
    "    # print(sum(1 for i in lengths if i >= 200))\n",
    "    print(sum(r2s_train) / len(r2s_train))\n",
    "    print(abs(sum(r2s_val) / len(r2s_val)))"
   ]
  }
 ],
 "metadata": {
  "kernelspec": {
   "display_name": "summer-env",
   "language": "python",
   "name": "python3"
  },
  "language_info": {
   "codemirror_mode": {
    "name": "ipython",
    "version": 3
   },
   "file_extension": ".py",
   "mimetype": "text/x-python",
   "name": "python",
   "nbconvert_exporter": "python",
   "pygments_lexer": "ipython3",
   "version": "3.9.13"
  },
  "orig_nbformat": 4
 },
 "nbformat": 4,
 "nbformat_minor": 2
}
